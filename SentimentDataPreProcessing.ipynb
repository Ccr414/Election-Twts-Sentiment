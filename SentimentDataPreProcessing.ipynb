{
 "cells": [
  {
   "cell_type": "code",
   "execution_count": 1,
   "id": "2b8b62ee-0255-45d8-bebb-3761cef5b2f4",
   "metadata": {},
   "outputs": [],
   "source": [
    "import pandas as pd\n",
    "import numpy as np\n",
    "import matplotlib.pyplot as plt\n",
    "import os\n",
    "import re\n",
    "import spacy"
   ]
  },
  {
   "cell_type": "code",
   "execution_count": 8,
   "id": "432a808c-6053-4924-bf86-07ce10b76842",
   "metadata": {},
   "outputs": [
    {
     "name": "stderr",
     "output_type": "stream",
     "text": [
      "C:\\Users\\chris\\AppData\\Local\\Temp\\ipykernel_11372\\3038022140.py:5: DtypeWarning: Columns (2,7) have mixed types. Specify dtype option on import or set low_memory=False.\n",
      "  Biden2020Twts = pd.read_csv('data/2020BidenTwts.csv', usecols=[2,7])\n"
     ]
    },
    {
     "name": "stdout",
     "output_type": "stream",
     "text": [
      "                                               tweet           user_name\n",
      "0  #Elecciones2020 | En #Florida: #JoeBiden dice ...  El Sol Latino News\n",
      "1  #HunterBiden #HunterBidenEmails #JoeBiden #Joe...         Cheri A. 🇺🇸\n",
      "2  @IslandGirlPRV @BradBeauregardJ @MeidasTouch T...          Flag Waver\n",
      "                                               tweet           user_name\n",
      "0  #Elecciones2020 | En #Florida: #JoeBiden dice ...  El Sol Latino News\n",
      "1  Usa 2020, Trump contro Facebook e Twitter: cop...             Tgcom24\n",
      "2  #Trump: As a student I used to hear for years,...              snarke\n",
      "      id  candidate_id lang                                         tweet_text\n",
      "0  57486             3   tr  Ne farkınız var DAIŞ, El-Kaide, El Nusra, YPG ...\n",
      "1  57536             3   en  @BarackObama the way you showed up in Louisian...\n",
      "2  57586             3   en  White house not taking tax avoid seriously! Ap...\n",
      "   Sentiment          ID             User  \\\n",
      "0          0  1467810369  _TheSpecialOne_   \n",
      "1          0  1467810672    scotthamilton   \n",
      "2          0  1467810917         mattycus   \n",
      "\n",
      "                                                Text  \n",
      "0  @switchfoot http://twitpic.com/2y1zl - Awww, t...  \n",
      "1  is upset that he can't update his Facebook by ...  \n",
      "2  @Kenichan I dived many times for the ball. Man...  \n"
     ]
    }
   ],
   "source": [
    "#Data Loading\n",
    "col_names = ['Sentiment', 'ID', 'User', 'Text']\n",
    "SentimentTwtData = pd.read_csv('data/SentimentTwtTrain.csv', usecols=[0,1,4,5], encoding='latin1', names=col_names)\n",
    "ElectionTwts2016 = pd.read_csv('data/2016ElectionTwts.csv', usecols=[0,1,9,11])\n",
    "Biden2020Twts = pd.read_csv('data/2020BidenTwts.csv', usecols=[2,7])\n",
    "Trump2020Twts = pd.read_csv('data/2020TrumpTwts.csv', usecols=[2,7])\n",
    "for dset in [Biden2020Twts, Trump2020Twts]:\n",
    "    dset.dropna(subset=['tweet'], inplace=True)\n",
    "    print(dset.head(3))\n",
    "ElectionTwts2016.dropna(subset=['tweet_text'], inplace=True)\n",
    "print(ElectionTwts2016.head(3))\n",
    "SentimentTwtData.dropna(subset=['Text'], inplace=True)\n",
    "print(SentimentTwtData.head(3))"
   ]
  },
  {
   "cell_type": "code",
   "execution_count": 9,
   "id": "460a8e00-e64e-49c0-8138-683b3db115c0",
   "metadata": {},
   "outputs": [
    {
     "name": "stdout",
     "output_type": "stream",
     "text": [
      "  Candidate                                              tweet\n",
      "0     Biden  #Elecciones2020 | En #Florida: #JoeBiden dice ...\n",
      "1     Biden  #HunterBiden #HunterBidenEmails #JoeBiden #Joe...\n",
      "2     Biden  @IslandGirlPRV @BradBeauregardJ @MeidasTouch T...\n",
      "3     Biden  @chrislongview Watching and setting dvr. Let’s...\n",
      "4     Biden  #censorship #HunterBiden #Biden #BidenEmails #...\n"
     ]
    }
   ],
   "source": [
    "#This line of code is combining the two datasets together and turning the row indicies into either Biden or Trump\n",
    "Combined2020Twts = pd.concat([Biden2020Twts, Trump2020Twts], keys=['Biden', 'Trump'])\n",
    "#This turns those indicies we created into a new column, the level=0 is for which set of indicies we are pulling out\n",
    "Combined2020Twts.reset_index(level=0, inplace=True)\n",
    "Combined2020Twts.rename(columns={'level_0': 'Candidate'}, inplace=True)\n",
    "Combined2020Twts.drop_duplicates(subset=['tweet'])\n",
    "Combined2020Twts.drop(['user_name'], axis=1, inplace=True)\n",
    "print(Combined2020Twts.head())"
   ]
  },
  {
   "cell_type": "code",
   "execution_count": 10,
   "id": "c288161f-536a-4874-be15-9a7934527202",
   "metadata": {},
   "outputs": [
    {
     "name": "stdout",
     "output_type": "stream",
     "text": [
      "   candidate_id                                               Text\n",
      "0             3  Ne farkınız var DAIŞ, El-Kaide, El Nusra, YPG ...\n",
      "1             3  @BarackObama the way you showed up in Louisian...\n",
      "2             3  White house not taking tax avoid seriously! Ap...\n",
      "3             2  politico: .realDonaldTrump, HillaryClinton ple...\n",
      "4             1  She's over due by 250 days. https://t.co/IfOO9...\n",
      "   Sentiment                                               Text\n",
      "0          0  @switchfoot http://twitpic.com/2y1zl - Awww, t...\n",
      "1          0  is upset that he can't update his Facebook by ...\n",
      "2          0  @Kenichan I dived many times for the ball. Man...\n",
      "3          0    my whole body feels itchy and like its on fire \n",
      "4          0  @nationwideclass no, it's not behaving at all....\n"
     ]
    }
   ],
   "source": [
    "#Drop a few more unnecessary data points and rename \"text\" cols\n",
    "ElectionTwts2016.drop(['id','lang'], axis=1, inplace=True)\n",
    "SentimentTwtData.drop(['ID','User'], axis=1, inplace=True)\n",
    "ElectionTwts2016.rename(columns={'tweet_text': 'Text'}, inplace=True)\n",
    "Combined2020Twts.rename(columns={'tweet': 'Text'}, inplace=True)\n",
    "print(ElectionTwts2016.head())\n",
    "print(SentimentTwtData.head())"
   ]
  },
  {
   "cell_type": "code",
   "execution_count": 18,
   "id": "b44e5108-b3d4-43d2-b691-06ce1c10092d",
   "metadata": {},
   "outputs": [],
   "source": [
    "#Processes the data\n",
    "nlp = spacy.load('en_core_web_sm')\n",
    "def preprocess_text(dset):\n",
    "    count = 0\n",
    "    processed_text = []\n",
    "    total = len(dset['Text'])\n",
    "    for text in dset['Text'].values: #loops through all values in 'Text' col\n",
    "        count+=1\n",
    "        #Replaces @usernames with \"name\", Cleans text of HTMl tags, URLS, removes extra spaces, and makes the text lowercase\n",
    "        text = re.sub(r'@\\w+', 'username', text)\n",
    "        text = re.sub(r'<[^>]+>', '', text)\n",
    "        text = re.sub(r'http\\S+', '', text)    \n",
    "        text = re.sub(r'\\s+', ' ', text).strip()\n",
    "        text = text.lower()\n",
    "        \n",
    "        result = []\n",
    "        if nlp(text).lang_ == 'en': #if the data point is in english, proceed\n",
    "            for token in nlp(text): #loops through each word or \"token\" in the datapoint\n",
    "                if token.is_alpha and not token.is_stop: #ignores non-alphabetic tokens and \"stopword\" tokens\n",
    "                    result.append(token.lemma_) #keeps the lemmatization of the token\n",
    "            processed_text.append(' '.join(result)) #joins the tokens back together with a space between\n",
    "        if (count % 5000) == 0:\n",
    "            \n",
    "            print(f\"{count} / {total}: {(count/total)*100}%\")\n",
    "    return processed_text"
   ]
  },
  {
   "cell_type": "code",
   "execution_count": null,
   "id": "ac35e9b0-b166-443e-a589-49d446db7906",
   "metadata": {},
   "outputs": [],
   "source": [
    "ProcessedSentimentTwtData = preprocess_text(SentimentTwtData)\n",
    "print('Finished')"
   ]
  },
  {
   "cell_type": "code",
   "execution_count": null,
   "id": "e8039aab-2124-4039-bb3d-bf09da4167d3",
   "metadata": {},
   "outputs": [],
   "source": [
    "ProcessedCombined2020Twts = preprocess_text(Combined2020Twts)\n",
    "print('Finished')"
   ]
  },
  {
   "cell_type": "code",
   "execution_count": null,
   "id": "4c3cc261-d68f-4f90-b081-b2491fd14547",
   "metadata": {},
   "outputs": [],
   "source": [
    "ProcessedElectionTwts2016 = preprocess_text(ElectionTwts2016)\n",
    "print('Finished')"
   ]
  },
  {
   "cell_type": "code",
   "execution_count": null,
   "id": "13797499-1b05-49fd-b519-b73583e2956d",
   "metadata": {},
   "outputs": [],
   "source": [
    "#Split the data randomly, 80% train, 20% test\n",
    "train_size = int(.8 * len(SentimentTwtData))\n",
    "test_size = len(SentimentTwtData) - train_size\n",
    "trainSentiment_dset, testSentiment_dset = random_split(SentimentTwtData, [train_size, test_size])\n",
    "print(len(SentimentTwtData))"
   ]
  },
  {
   "cell_type": "code",
   "execution_count": 45,
   "id": "577fc287-f10c-4eb4-bb03-1df74967e350",
   "metadata": {},
   "outputs": [],
   "source": [
    "#Saving the files\n",
    "file_path = os.path.join('data', 'Combined2020Twts.csv')\n",
    "Combined2020Twts.to_csv(file_path, index=False)\n",
    "\n",
    "file_path = os.path.join('data', 'CleanElectionTwts2016.csv')\n",
    "ElectionTwts2016.to_csv(file_path, index=False)\n",
    "\n",
    "file_path = os.path.join('data', 'TrainSentimentTwtData.csv')\n",
    "trainSentiment_dset.to_csv(file_path, index=False)\n",
    "\n",
    "file_path = os.path.join('data', 'TestSentimentTwtData.csv')\n",
    "testSentiment_dset.to_csv(file_path, index=False)"
   ]
  }
 ],
 "metadata": {
  "kernelspec": {
   "display_name": "Python 3 (ipykernel)",
   "language": "python",
   "name": "python3"
  },
  "language_info": {
   "codemirror_mode": {
    "name": "ipython",
    "version": 3
   },
   "file_extension": ".py",
   "mimetype": "text/x-python",
   "name": "python",
   "nbconvert_exporter": "python",
   "pygments_lexer": "ipython3",
   "version": "3.11.3"
  }
 },
 "nbformat": 4,
 "nbformat_minor": 5
}
