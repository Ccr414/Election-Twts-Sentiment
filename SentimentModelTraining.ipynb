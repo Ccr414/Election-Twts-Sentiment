{
 "cells": [
  {
   "cell_type": "code",
   "execution_count": 3,
   "id": "f963d2f9-bfaf-4fd7-a751-31ccbf7e60a7",
   "metadata": {},
   "outputs": [],
   "source": [
    "import torch\n",
    "import torch.nn as nn\n",
    "import torch.optim as optim\n",
    "import numpy as np\n",
    "import pandas as pd\n",
    "from torch.utils.data import DataLoader, Dataset, random_split, TensorDataset\n",
    "import matplotlib.pyplot as plt\n",
    "from sklearn.metrics import f1_score, precision_score, recall_score\n",
    "import time\n",
    "import os\n",
    "from sklearn.model_selection import train_test_split\n",
    "import spacy\n",
    "import re\n",
    "import torchtext\n",
    "from torchtext.data.utils import get_tokenizer\n",
    "from torchtext.vocab import build_vocab_from_iterator\n",
    "from torch.nn.utils.rnn import pad_sequence, pack_sequence, pack_padded_sequence\n",
    "from torchtext.functional import to_tensor\n",
    "from torchtext.models import RobertaClassificationHead"
   ]
  },
  {
   "cell_type": "code",
   "execution_count": 5,
   "id": "5c86be50-af8c-4ae4-8547-c2a68401f2c8",
   "metadata": {
    "scrolled": true
   },
   "outputs": [
    {
     "data": {
      "text/html": [
       "<div>\n",
       "<style scoped>\n",
       "    .dataframe tbody tr th:only-of-type {\n",
       "        vertical-align: middle;\n",
       "    }\n",
       "\n",
       "    .dataframe tbody tr th {\n",
       "        vertical-align: top;\n",
       "    }\n",
       "\n",
       "    .dataframe thead th {\n",
       "        text-align: right;\n",
       "    }\n",
       "</style>\n",
       "<table border=\"1\" class=\"dataframe\">\n",
       "  <thead>\n",
       "    <tr style=\"text-align: right;\">\n",
       "      <th></th>\n",
       "      <th>Sentiment</th>\n",
       "      <th>Text</th>\n",
       "    </tr>\n",
       "  </thead>\n",
       "  <tbody>\n",
       "    <tr>\n",
       "      <th>0</th>\n",
       "      <td>1</td>\n",
       "      <td>username m follow post</td>\n",
       "    </tr>\n",
       "    <tr>\n",
       "      <th>1</th>\n",
       "      <td>0</td>\n",
       "      <td>username username jealous yous liverpool</td>\n",
       "    </tr>\n",
       "    <tr>\n",
       "      <th>2</th>\n",
       "      <td>0</td>\n",
       "      <td>username haha funny lonely school</td>\n",
       "    </tr>\n",
       "    <tr>\n",
       "      <th>3</th>\n",
       "      <td>1</td>\n",
       "      <td>watch jay leno episode late night get sooooooo...</td>\n",
       "    </tr>\n",
       "    <tr>\n",
       "      <th>4</th>\n",
       "      <td>0</td>\n",
       "      <td>username find niqqa like</td>\n",
       "    </tr>\n",
       "    <tr>\n",
       "      <th>...</th>\n",
       "      <td>...</td>\n",
       "      <td>...</td>\n",
       "    </tr>\n",
       "    <tr>\n",
       "      <th>1278235</th>\n",
       "      <td>1</td>\n",
       "      <td>username nice pic</td>\n",
       "    </tr>\n",
       "    <tr>\n",
       "      <th>1278236</th>\n",
       "      <td>1</td>\n",
       "      <td>add upcoming gig ongoing drunken itinerary mon...</td>\n",
       "    </tr>\n",
       "    <tr>\n",
       "      <th>1278237</th>\n",
       "      <td>0</td>\n",
       "      <td>omg hot thunderstorm suppose cool</td>\n",
       "    </tr>\n",
       "    <tr>\n",
       "      <th>1278238</th>\n",
       "      <td>1</td>\n",
       "      <td>username oh boyo</td>\n",
       "    </tr>\n",
       "    <tr>\n",
       "      <th>1278239</th>\n",
       "      <td>1</td>\n",
       "      <td>username banner hang right remember ummm easy</td>\n",
       "    </tr>\n",
       "  </tbody>\n",
       "</table>\n",
       "<p>1278240 rows × 2 columns</p>\n",
       "</div>"
      ],
      "text/plain": [
       "         Sentiment                                               Text\n",
       "0                1                             username m follow post\n",
       "1                0           username username jealous yous liverpool\n",
       "2                0                  username haha funny lonely school\n",
       "3                1  watch jay leno episode late night get sooooooo...\n",
       "4                0                           username find niqqa like\n",
       "...            ...                                                ...\n",
       "1278235          1                                  username nice pic\n",
       "1278236          1  add upcoming gig ongoing drunken itinerary mon...\n",
       "1278237          0                  omg hot thunderstorm suppose cool\n",
       "1278238          1                                   username oh boyo\n",
       "1278239          1      username banner hang right remember ummm easy\n",
       "\n",
       "[1278240 rows x 2 columns]"
      ]
     },
     "execution_count": 5,
     "metadata": {},
     "output_type": "execute_result"
    }
   ],
   "source": [
    "#Import Dataset\n",
    "#For preprocessing purposes: Clean Text of special characters/URLs/HTML tags/punctuation and put in all lowercase,\n",
    "#Split text into words or \"tokens\", remove \"stopwords\" such as \"and\", \"is\", or \"the,\"\n",
    "#Reduce words to root or stem form through \"lemmatization\" or \"stemming\" to reduce complexity,\n",
    "#Apply \"vectorization\" to convert word or token data into a set of numerical data, and\n",
    "#Pad the data to normalize all the variables so they can be more easily inputted to a ML algorithm\n",
    "TrainSentimentData = pd.read_csv('data/FinalTrainSentimentData.csv')\n",
    "TestSentimentData = pd.read_csv('data/FinalTestSentimentData.csv')\n",
    "TrainSentimentData"
   ]
  },
  {
   "cell_type": "code",
   "execution_count": 7,
   "id": "1d4e4bb4-8b5c-40bb-9d51-b31b4d7eec8d",
   "metadata": {},
   "outputs": [
    {
     "data": {
      "text/plain": [
       "'cuda:0'"
      ]
     },
     "execution_count": 7,
     "metadata": {},
     "output_type": "execute_result"
    }
   ],
   "source": [
    "device = 'cuda:0' if torch.cuda.is_available else 'cpu'\n",
    "device"
   ]
  },
  {
   "cell_type": "code",
   "execution_count": 9,
   "id": "279a877e-e9df-4e21-846d-c99d92204fb6",
   "metadata": {},
   "outputs": [],
   "source": [
    "#Vectorize string data into numerical data more easily accessible to the model\n",
    "tokenizer = get_tokenizer('basic_english')\n",
    "vocabTr = build_vocab_from_iterator(map(tokenizer, TrainSentimentData['Text']), specials=[\"<unk>\"])\n",
    "\n",
    "vocabTe = build_vocab_from_iterator(map(tokenizer, TestSentimentData['Text']), specials=[\"<unk>\"])"
   ]
  },
  {
   "cell_type": "code",
   "execution_count": 11,
   "id": "11566b6e-cab7-4194-b04a-0be951c37a1e",
   "metadata": {},
   "outputs": [],
   "source": [
    "def train_vectorize_twts(text):\n",
    "    tokens = tokenizer(text)\n",
    "    indices = [int(vocabTr[token]) for token in tokens]\n",
    "    return indices\n",
    "\n",
    "def test_vectorize_twts(text):\n",
    "    tokens = tokenizer(text)\n",
    "    indices = [int(vocabTe[token]) for token in tokens]\n",
    "    return indices"
   ]
  },
  {
   "cell_type": "code",
   "execution_count": 13,
   "id": "651f2eea-ed27-4761-ae9c-755336beb686",
   "metadata": {},
   "outputs": [
    {
     "name": "stdout",
     "output_type": "stream",
     "text": [
      "   Sentiment                                               Text\n",
      "0          1                                   [1, 19, 70, 168]\n",
      "1          0                            [1, 1, 378, 4681, 3124]\n",
      "2          0                              [1, 40, 211, 662, 62]\n",
      "3          1  [23, 1242, 2283, 465, 153, 22, 5, 12277, 179, ...\n",
      "4          0                                  [1, 53, 32081, 7]\n",
      "   Sentiment                                               Text\n",
      "0          0              [6, 9, 151, 699, 229, 4650, 78948, 6]\n",
      "1          0        [24, 2429, 5, 41, 3535, 15, 14992, 5, 1439]\n",
      "2          1                   [1, 679, 78, 15, 21, 2109, 1322]\n",
      "3          1  [1, 56, 24, 87, 328, 776, 87, 5, 38, 1436, 161...\n",
      "4          1                                 [44, 3718, 67, 63]\n"
     ]
    }
   ],
   "source": [
    "#This gave me a lot of trouble since I didn't realize I needed to convert from DataFrame to a Pytorch Dataset\n",
    "VectorTrainSentimentDataSet = TrainSentimentData.copy()\n",
    "VectorTrainSentimentDataSet['Text'] = TrainSentimentData['Text'].apply(train_vectorize_twts)\n",
    "print(VectorTrainSentimentDataSet.head())\n",
    "\n",
    "VectorTestSentimentDataSet = TestSentimentData.copy()\n",
    "VectorTestSentimentDataSet['Text'] = TestSentimentData['Text'].apply(test_vectorize_twts)\n",
    "print(VectorTestSentimentDataSet.head())"
   ]
  },
  {
   "cell_type": "code",
   "execution_count": 15,
   "id": "6092a867-2df0-4f97-99e9-0d0aafd3eadc",
   "metadata": {},
   "outputs": [
    {
     "data": {
      "text/plain": [
       "array([[1, list([1, 19, 70, 168])],\n",
       "       [0, list([1, 1, 378, 4681, 3124])],\n",
       "       [0, list([1, 40, 211, 662, 62])],\n",
       "       ...,\n",
       "       [0, list([126, 136, 1646, 341, 97])],\n",
       "       [1, list([1, 28, 45842])],\n",
       "       [1, list([1, 4141, 244, 44, 266, 2146, 402])]], dtype=object)"
      ]
     },
     "execution_count": 15,
     "metadata": {},
     "output_type": "execute_result"
    }
   ],
   "source": [
    "#Turn pandas dataset into Numpy\n",
    "VectorTrainSentimentDataSet = VectorTrainSentimentDataSet.to_numpy()\n",
    "VectorTestSentimentDataSet = VectorTestSentimentDataSet.to_numpy()\n",
    "VectorTrainSentimentDataSet"
   ]
  },
  {
   "cell_type": "code",
   "execution_count": 17,
   "id": "2d8dd373-25b1-4790-b82d-7a951df83cce",
   "metadata": {},
   "outputs": [
    {
     "name": "stdout",
     "output_type": "stream",
     "text": [
      "(1278240, 1), (1278240,), (319561, 1), (319561,)\n"
     ]
    }
   ],
   "source": [
    "#Split up the Data\n",
    "Xtrain_sentiment = VectorTrainSentimentDataSet[:,1:]\n",
    "Ytrain_sentiment = VectorTrainSentimentDataSet[:,0]\n",
    "Xtest_sentiment = VectorTestSentimentDataSet[:,1:]\n",
    "Ytest_sentiment = VectorTestSentimentDataSet[:,0]\n",
    "print(f'{Xtrain_sentiment.shape}, {Ytrain_sentiment.shape}, {Xtest_sentiment.shape}, {Ytest_sentiment.shape}')"
   ]
  },
  {
   "cell_type": "code",
   "execution_count": 501,
   "id": "6770db59-c6cc-41d0-ae62-31e6c69c2d37",
   "metadata": {},
   "outputs": [],
   "source": [
    "\"\"\"\n",
    "There was a problem since I originally wanted to pad my data at the batch level, but I couldn't figure out if\n",
    "that was even possible, then I tried using pack_sequence and pad_packed_sequence to pad my data to the largest\n",
    "packed data point, but that isn't how the function worked, so I tried pad_sequence with pack_padded_sequence, which\n",
    "also didn't end up working because that wasn't how the function worked. Now this just pads to the biggest datapoint\n",
    "\"\"\""
   ]
  },
  {
   "cell_type": "code",
   "execution_count": 19,
   "id": "a74d4be1-27c3-4798-b0be-ffa557967dab",
   "metadata": {},
   "outputs": [],
   "source": [
    "def prepSentimentData(X, y):\n",
    "    temp_X = []\n",
    "    for row in X:\n",
    "        temp_row = []\n",
    "        for elem in row[0]:\n",
    "            temp_row.append(float(elem))\n",
    "        temp_X.append(torch.tensor(temp_row))\n",
    "    Final_X = pad_sequence(temp_X, batch_first=True) #pad the data    Final_X = temp_X\n",
    "    for pos, label in enumerate(y):\n",
    "        if label == 4:\n",
    "            y[pos] = 1\n",
    "    return Final_X, y"
   ]
  },
  {
   "cell_type": "code",
   "execution_count": 21,
   "id": "f9a2aed2-27f8-40c2-a75d-345231598ce1",
   "metadata": {},
   "outputs": [
    {
     "name": "stdout",
     "output_type": "stream",
     "text": [
      "Test Data:\n",
      "X: torch.Size([319561, 30]), Y: (319561,)\n",
      "Train Data:\n",
      "X: torch.Size([1278240, 33]), Y: (1278240,)\n",
      "-----------------Final Preprocessing Complete-----------------\n"
     ]
    }
   ],
   "source": [
    "FXtest_sentiment, FYtest_sentiment = prepSentimentData(Xtest_sentiment, Ytest_sentiment)\n",
    "print(f'Test Data:\\nX: {FXtest_sentiment.shape}, Y: {FYtest_sentiment.shape}')\n",
    "FXtrain_sentiment, FYtrain_sentiment = prepSentimentData(Xtrain_sentiment, Ytrain_sentiment)\n",
    "print(f'Train Data:\\nX: {FXtrain_sentiment.shape}, Y: {FYtrain_sentiment.shape}')\n",
    "print('-----------------Final Preprocessing Complete-----------------')"
   ]
  },
  {
   "cell_type": "code",
   "execution_count": 23,
   "id": "62baeb00-2863-47f2-978d-e971455f7b66",
   "metadata": {
    "tags": []
   },
   "outputs": [
    {
     "name": "stdout",
     "output_type": "stream",
     "text": [
      "Test: torch.Size([319561, 33])\n",
      "Train: torch.Size([1278240, 33])\n"
     ]
    }
   ],
   "source": [
    "class SentimentDataset(Dataset):\n",
    "    def __init__(self, X, y, adjust=False):\n",
    "        #If dimensions are incorrect, manually fix them\n",
    "        if adjust:\n",
    "            shaped = torch.zeros(len(X), 33)\n",
    "            shaped[:,:30] = X\n",
    "            X = shaped   \n",
    "        self.X = X\n",
    "        self.y = y\n",
    "        \n",
    "    def __len__(self):\n",
    "        return len(self.X)\n",
    "    \n",
    "    def __getitem__(self, idx):\n",
    "        return self.X[idx], self.y[idx]\n",
    "\n",
    "test_sentiment_Dset = SentimentDataset(FXtest_sentiment, FYtest_sentiment, True)\n",
    "print(f'Test: {test_sentiment_Dset[:][0].shape}')\n",
    "train_sentiment_Dset = SentimentDataset(FXtrain_sentiment, FYtrain_sentiment)\n",
    "print(f'Train: {train_sentiment_Dset[:][0].shape}')"
   ]
  },
  {
   "cell_type": "code",
   "execution_count": 12,
   "id": "7a860b63-3296-405b-9a95-3910672ab450",
   "metadata": {
    "scrolled": true
   },
   "outputs": [
    {
     "name": "stdout",
     "output_type": "stream",
     "text": [
      "(tensor([[6.0000e+00, 9.0000e+00, 1.5100e+02, 6.9900e+02, 2.2900e+02, 4.6500e+03,\n",
      "         7.8948e+04, 6.0000e+00, 0.0000e+00, 0.0000e+00, 0.0000e+00, 0.0000e+00,\n",
      "         0.0000e+00, 0.0000e+00, 0.0000e+00, 0.0000e+00, 0.0000e+00, 0.0000e+00,\n",
      "         0.0000e+00, 0.0000e+00, 0.0000e+00, 0.0000e+00, 0.0000e+00, 0.0000e+00,\n",
      "         0.0000e+00, 0.0000e+00, 0.0000e+00, 0.0000e+00, 0.0000e+00, 0.0000e+00,\n",
      "         0.0000e+00, 0.0000e+00, 0.0000e+00],\n",
      "        [2.4000e+01, 2.4290e+03, 5.0000e+00, 4.1000e+01, 3.5350e+03, 1.5000e+01,\n",
      "         1.4992e+04, 5.0000e+00, 1.4390e+03, 0.0000e+00, 0.0000e+00, 0.0000e+00,\n",
      "         0.0000e+00, 0.0000e+00, 0.0000e+00, 0.0000e+00, 0.0000e+00, 0.0000e+00,\n",
      "         0.0000e+00, 0.0000e+00, 0.0000e+00, 0.0000e+00, 0.0000e+00, 0.0000e+00,\n",
      "         0.0000e+00, 0.0000e+00, 0.0000e+00, 0.0000e+00, 0.0000e+00, 0.0000e+00,\n",
      "         0.0000e+00, 0.0000e+00, 0.0000e+00],\n",
      "        [1.0000e+00, 6.7900e+02, 7.8000e+01, 1.5000e+01, 2.1000e+01, 2.1090e+03,\n",
      "         1.3220e+03, 0.0000e+00, 0.0000e+00, 0.0000e+00, 0.0000e+00, 0.0000e+00,\n",
      "         0.0000e+00, 0.0000e+00, 0.0000e+00, 0.0000e+00, 0.0000e+00, 0.0000e+00,\n",
      "         0.0000e+00, 0.0000e+00, 0.0000e+00, 0.0000e+00, 0.0000e+00, 0.0000e+00,\n",
      "         0.0000e+00, 0.0000e+00, 0.0000e+00, 0.0000e+00, 0.0000e+00, 0.0000e+00,\n",
      "         0.0000e+00, 0.0000e+00, 0.0000e+00],\n",
      "        [1.0000e+00, 5.6000e+01, 2.4000e+01, 8.7000e+01, 3.2800e+02, 7.7600e+02,\n",
      "         8.7000e+01, 5.0000e+00, 3.8000e+01, 1.4360e+03, 1.6100e+02, 1.5000e+01,\n",
      "         0.0000e+00, 0.0000e+00, 0.0000e+00, 0.0000e+00, 0.0000e+00, 0.0000e+00,\n",
      "         0.0000e+00, 0.0000e+00, 0.0000e+00, 0.0000e+00, 0.0000e+00, 0.0000e+00,\n",
      "         0.0000e+00, 0.0000e+00, 0.0000e+00, 0.0000e+00, 0.0000e+00, 0.0000e+00,\n",
      "         0.0000e+00, 0.0000e+00, 0.0000e+00],\n",
      "        [4.4000e+01, 3.7180e+03, 6.7000e+01, 6.3000e+01, 0.0000e+00, 0.0000e+00,\n",
      "         0.0000e+00, 0.0000e+00, 0.0000e+00, 0.0000e+00, 0.0000e+00, 0.0000e+00,\n",
      "         0.0000e+00, 0.0000e+00, 0.0000e+00, 0.0000e+00, 0.0000e+00, 0.0000e+00,\n",
      "         0.0000e+00, 0.0000e+00, 0.0000e+00, 0.0000e+00, 0.0000e+00, 0.0000e+00,\n",
      "         0.0000e+00, 0.0000e+00, 0.0000e+00, 0.0000e+00, 0.0000e+00, 0.0000e+00,\n",
      "         0.0000e+00, 0.0000e+00, 0.0000e+00]]), array([0, 0, 1, 1, 1], dtype=object))\n"
     ]
    }
   ],
   "source": [
    "print(test_sentiment_Dset[0:5])"
   ]
  },
  {
   "cell_type": "code",
   "execution_count": 25,
   "id": "683ee779-4cb7-419b-b835-ea964e73b8e8",
   "metadata": {},
   "outputs": [],
   "source": [
    "#Turn data into DataLoaders\n",
    "batch_size = 150\n",
    "n_iters = 42608\n",
    "num_epochs = int(n_iters / (len(train_sentiment_Dset) / batch_size))\n",
    "train_loader = DataLoader(dataset=train_sentiment_Dset, batch_size=batch_size, shuffle=True)\n",
    "test_loader = DataLoader(dataset=test_sentiment_Dset, batch_size=batch_size, shuffle=False)"
   ]
  },
  {
   "cell_type": "code",
   "execution_count": 27,
   "id": "a78c62ed-bdc6-40a6-993a-de2548a00d8f",
   "metadata": {},
   "outputs": [
    {
     "ename": "AssertionError",
     "evalue": "Torch not compiled with CUDA enabled",
     "output_type": "error",
     "traceback": [
      "\u001b[1;31m---------------------------------------------------------------------------\u001b[0m",
      "\u001b[1;31mAssertionError\u001b[0m                            Traceback (most recent call last)",
      "Cell \u001b[1;32mIn[27], line 4\u001b[0m\n\u001b[0;32m      1\u001b[0m \u001b[38;5;66;03m#Checking DataLoader object\u001b[39;00m\n\u001b[0;32m      2\u001b[0m \u001b[38;5;28;01mfor\u001b[39;00m _, batch \u001b[38;5;129;01min\u001b[39;00m \u001b[38;5;28menumerate\u001b[39m(train_loader):\n\u001b[0;32m      3\u001b[0m     \u001b[38;5;66;03m#This will also be a test to see if device is working\u001b[39;00m\n\u001b[1;32m----> 4\u001b[0m     x_batch, y_batch \u001b[38;5;241m=\u001b[39m batch[\u001b[38;5;241m0\u001b[39m]\u001b[38;5;241m.\u001b[39mto(device), batch[\u001b[38;5;241m1\u001b[39m]\u001b[38;5;241m.\u001b[39mto(device)\n\u001b[0;32m      5\u001b[0m     \u001b[38;5;28mprint\u001b[39m(x_batch\u001b[38;5;241m.\u001b[39mshape, y_batch\u001b[38;5;241m.\u001b[39mshape)\n\u001b[0;32m      6\u001b[0m     \u001b[38;5;28;01mbreak\u001b[39;00m\n",
      "File \u001b[1;32m~\\anaconda3\\Lib\\site-packages\\torch\\cuda\\__init__.py:293\u001b[0m, in \u001b[0;36m_lazy_init\u001b[1;34m()\u001b[0m\n\u001b[0;32m    288\u001b[0m     \u001b[38;5;28;01mraise\u001b[39;00m \u001b[38;5;167;01mRuntimeError\u001b[39;00m(\n\u001b[0;32m    289\u001b[0m         \u001b[38;5;124m\"\u001b[39m\u001b[38;5;124mCannot re-initialize CUDA in forked subprocess. To use CUDA with \u001b[39m\u001b[38;5;124m\"\u001b[39m\n\u001b[0;32m    290\u001b[0m         \u001b[38;5;124m\"\u001b[39m\u001b[38;5;124mmultiprocessing, you must use the \u001b[39m\u001b[38;5;124m'\u001b[39m\u001b[38;5;124mspawn\u001b[39m\u001b[38;5;124m'\u001b[39m\u001b[38;5;124m start method\u001b[39m\u001b[38;5;124m\"\u001b[39m\n\u001b[0;32m    291\u001b[0m     )\n\u001b[0;32m    292\u001b[0m \u001b[38;5;28;01mif\u001b[39;00m \u001b[38;5;129;01mnot\u001b[39;00m \u001b[38;5;28mhasattr\u001b[39m(torch\u001b[38;5;241m.\u001b[39m_C, \u001b[38;5;124m\"\u001b[39m\u001b[38;5;124m_cuda_getDeviceCount\u001b[39m\u001b[38;5;124m\"\u001b[39m):\n\u001b[1;32m--> 293\u001b[0m     \u001b[38;5;28;01mraise\u001b[39;00m \u001b[38;5;167;01mAssertionError\u001b[39;00m(\u001b[38;5;124m\"\u001b[39m\u001b[38;5;124mTorch not compiled with CUDA enabled\u001b[39m\u001b[38;5;124m\"\u001b[39m)\n\u001b[0;32m    294\u001b[0m \u001b[38;5;28;01mif\u001b[39;00m _cudart \u001b[38;5;129;01mis\u001b[39;00m \u001b[38;5;28;01mNone\u001b[39;00m:\n\u001b[0;32m    295\u001b[0m     \u001b[38;5;28;01mraise\u001b[39;00m \u001b[38;5;167;01mAssertionError\u001b[39;00m(\n\u001b[0;32m    296\u001b[0m         \u001b[38;5;124m\"\u001b[39m\u001b[38;5;124mlibcudart functions unavailable. It looks like you have a broken build?\u001b[39m\u001b[38;5;124m\"\u001b[39m\n\u001b[0;32m    297\u001b[0m     )\n",
      "\u001b[1;31mAssertionError\u001b[0m: Torch not compiled with CUDA enabled"
     ]
    }
   ],
   "source": [
    "#Checking DataLoader object\n",
    "for _, batch in enumerate(train_loader):\n",
    "    #This will also be a test to see if device is working\n",
    "    x_batch, y_batch = batch[0].to(device), batch[1].to(device)\n",
    "    print(x_batch.shape, y_batch.shape)\n",
    "    break"
   ]
  },
  {
   "cell_type": "code",
   "execution_count": 8,
   "id": "394da48a-0ffd-488b-a2b4-a36e2d42af4e",
   "metadata": {},
   "outputs": [],
   "source": [
    "#(num_layers, batch_size, hidden_size)\n",
    "class SentimentAnalysisLSTMModel(nn.Module):\n",
    "    def __init__(self, input_dim, hidden_dim, layer_dim, output_dim):\n",
    "        super(SentimentAnalysisLSTMModel, self).__init__()\n",
    "        self.hidden_dim = hidden_dim\n",
    "        self.layer_dim = layer_dim\n",
    "        self.lstm = nn.LSTM(input_dim, hidden_dim, layer_dim, batch_first=True)\n",
    "        self.fc = nn.Linear(hidden_dim, output_dim)\n",
    "        \n",
    "    def forward(self, x):\n",
    "        x = x[:,:,None]\n",
    "        x = torch.permute(x, (0, 2, 1))\n",
    "        batch_len = x.size(0)\n",
    "        hidden = torch.zeros(self.layer_dim, batch_len, self.hidden_dim).to(device)\n",
    "        cell = torch.zeros(self.layer_dim, batch_len, self.hidden_dim).to(device)\n",
    "        \n",
    "        out, _ = self.lstm(x, (hidden, cell))\n",
    "        out = self.fc(out[:,-1,:])\n",
    "        out = nn.functional.sigmoid(out)\n",
    "        return out"
   ]
  },
  {
   "cell_type": "code",
   "execution_count": 17,
   "id": "c6bcc11a-a3e7-4161-8074-bb024126bf7d",
   "metadata": {},
   "outputs": [
    {
     "name": "stdout",
     "output_type": "stream",
     "text": [
      "33\n"
     ]
    }
   ],
   "source": [
    "#Input dimension is equal to the length of my vocab list\n",
    "#Output dimension is 2 as they are either positive or negative\n",
    "#Need number of hidden dimensions (start with 1 or 2 and adjust according to results)\n",
    "#Need dimension of the hidden dimensions (Try 200)\n",
    "input_dim = len(train_sentiment_Dset[0][0])\n",
    "print(input_dim)\n",
    "hidden_dim = 150\n",
    "layer_dim = 2\n",
    "output_dim = 2\n",
    "\n",
    "LSTMmodel = SentimentAnalysisLSTMModel(input_dim, hidden_dim, layer_dim, output_dim)\n",
    "LSTMmodel.to(device)\n",
    "loss_func = nn.CrossEntropyLoss()\n",
    "learning_rate = 0.05\n",
    "optimizer = optim.SGD(LSTMmodel.parameters(), lr = learning_rate)"
   ]
  },
  {
   "cell_type": "code",
   "execution_count": 18,
   "id": "a35c4c8a-6406-499f-b823-df027e11229a",
   "metadata": {},
   "outputs": [
    {
     "name": "stdout",
     "output_type": "stream",
     "text": [
      "10\n",
      "torch.Size([800, 33])\n",
      "torch.Size([800, 200])\n",
      "torch.Size([800])\n",
      "torch.Size([800])\n",
      "torch.Size([800, 200])\n",
      "torch.Size([800, 200])\n",
      "torch.Size([800])\n",
      "torch.Size([800])\n",
      "torch.Size([2, 200])\n",
      "torch.Size([2])\n"
     ]
    }
   ],
   "source": [
    "print(len(list(LSTMmodel.parameters())))\n",
    "for i in range(len(list(LSTMmodel.parameters()))):\n",
    "    print(list(LSTMmodel.parameters())[i].size())"
   ]
  },
  {
   "cell_type": "code",
   "execution_count": 19,
   "id": "5a573fdd-99bb-4651-8a96-5337aa911455",
   "metadata": {},
   "outputs": [],
   "source": [
    "def LSTM_train_epoch():\n",
    "    LSTMmodel.train(True)\n",
    "    print(f'Epoch: {epoch+1}')\n",
    "    running_loss = 0.0\n",
    "    \n",
    "    for idx, batch in enumerate(train_loader):\n",
    "        text, labels = batch[0].to(device), batch[1].to(device)\n",
    "        \n",
    "        outputs = LSTMmodel(text)\n",
    "        loss = loss_func(outputs, labels)\n",
    "        running_loss += loss.item()\n",
    "        \n",
    "        optimizer.zero_grad()\n",
    "        loss.backward()\n",
    "        optimizer.step()\n",
    "        \n",
    "        if (idx % 1000) == 0:\n",
    "            avg_loss_bat = running_loss / 100\n",
    "            print(f'Batch {idx+1}, Loss: {avg_loss_bat}')\n",
    "            running_loss = 0.0\n",
    "    print()"
   ]
  },
  {
   "cell_type": "code",
   "execution_count": 20,
   "id": "4c46bb4b-f93f-41c4-9ebf-ea4ab6985611",
   "metadata": {},
   "outputs": [],
   "source": [
    "def LSTM_validate_epoch():\n",
    "    LSTMmodel.train(False)\n",
    "    running_loss = 0.0\n",
    "    for idx, batch in enumerate(test_loader):\n",
    "        text, labels = batch[0].to(device), batch[1].to(device)\n",
    "        \n",
    "        with torch.no_grad():\n",
    "            correct = 0\n",
    "            total = 0\n",
    "            outputs = LSTMmodel(text)\n",
    "            _, predicted = torch.max(outputs.data, 1)\n",
    "            total += labels.size(0)\n",
    "            correct += (predicted == labels).sum()\n",
    "            loss = loss_func(outputs, labels)\n",
    "            running_loss += loss.item()\n",
    "        \n",
    "    accuracy = 100 * correct / total\n",
    "    avg_loss_bat = running_loss / len(test_loader)\n",
    "    print(f'Val Loss: {avg_loss_bat}, Accuracy: {accuracy}')\n",
    "    print('-------------------------\\n')"
   ]
  },
  {
   "cell_type": "code",
   "execution_count": 193,
   "id": "d5780239-d35f-4ff6-bc20-d64682c97353",
   "metadata": {},
   "outputs": [
    {
     "name": "stdout",
     "output_type": "stream",
     "text": [
      "Epoch: 1\n",
      "Batch 1, Loss: 0.006824893951416016\n"
     ]
    },
    {
     "ename": "KeyboardInterrupt",
     "evalue": "",
     "output_type": "error",
     "traceback": [
      "\u001b[1;31m---------------------------------------------------------------------------\u001b[0m",
      "\u001b[1;31mKeyboardInterrupt\u001b[0m                         Traceback (most recent call last)",
      "Cell \u001b[1;32mIn[193], line 2\u001b[0m\n\u001b[0;32m      1\u001b[0m \u001b[38;5;28;01mfor\u001b[39;00m epoch \u001b[38;5;129;01min\u001b[39;00m \u001b[38;5;28mrange\u001b[39m(num_epochs):\n\u001b[1;32m----> 2\u001b[0m     train_epoch()\n\u001b[0;32m      3\u001b[0m     validate_epoch()\n",
      "Cell \u001b[1;32mIn[191], line 16\u001b[0m, in \u001b[0;36mtrain_epoch\u001b[1;34m()\u001b[0m\n\u001b[0;32m     14\u001b[0m optimizer\u001b[38;5;241m.\u001b[39mzero_grad()\n\u001b[0;32m     15\u001b[0m loss\u001b[38;5;241m.\u001b[39mbackward()\n\u001b[1;32m---> 16\u001b[0m optimizer\u001b[38;5;241m.\u001b[39mstep()\n\u001b[0;32m     18\u001b[0m \u001b[38;5;28;01mif\u001b[39;00m (idx \u001b[38;5;241m%\u001b[39m \u001b[38;5;241m1000\u001b[39m) \u001b[38;5;241m==\u001b[39m \u001b[38;5;241m0\u001b[39m:\n\u001b[0;32m     19\u001b[0m     avg_loss_bat \u001b[38;5;241m=\u001b[39m running_loss \u001b[38;5;241m/\u001b[39m \u001b[38;5;241m100\u001b[39m\n",
      "File \u001b[1;32m~\\anaconda3\\Lib\\site-packages\\torch\\optim\\optimizer.py:385\u001b[0m, in \u001b[0;36mOptimizer.profile_hook_step.<locals>.wrapper\u001b[1;34m(*args, **kwargs)\u001b[0m\n\u001b[0;32m    380\u001b[0m         \u001b[38;5;28;01melse\u001b[39;00m:\n\u001b[0;32m    381\u001b[0m             \u001b[38;5;28;01mraise\u001b[39;00m \u001b[38;5;167;01mRuntimeError\u001b[39;00m(\n\u001b[0;32m    382\u001b[0m                 \u001b[38;5;124mf\u001b[39m\u001b[38;5;124m\"\u001b[39m\u001b[38;5;132;01m{\u001b[39;00mfunc\u001b[38;5;132;01m}\u001b[39;00m\u001b[38;5;124m must return None or a tuple of (new_args, new_kwargs), but got \u001b[39m\u001b[38;5;132;01m{\u001b[39;00mresult\u001b[38;5;132;01m}\u001b[39;00m\u001b[38;5;124m.\u001b[39m\u001b[38;5;124m\"\u001b[39m\n\u001b[0;32m    383\u001b[0m             )\n\u001b[1;32m--> 385\u001b[0m out \u001b[38;5;241m=\u001b[39m func(\u001b[38;5;241m*\u001b[39margs, \u001b[38;5;241m*\u001b[39m\u001b[38;5;241m*\u001b[39mkwargs)\n\u001b[0;32m    386\u001b[0m \u001b[38;5;28mself\u001b[39m\u001b[38;5;241m.\u001b[39m_optimizer_step_code()\n\u001b[0;32m    388\u001b[0m \u001b[38;5;66;03m# call optimizer step post hooks\u001b[39;00m\n",
      "File \u001b[1;32m~\\anaconda3\\Lib\\site-packages\\torch\\optim\\optimizer.py:76\u001b[0m, in \u001b[0;36m_use_grad_for_differentiable.<locals>._use_grad\u001b[1;34m(self, *args, **kwargs)\u001b[0m\n\u001b[0;32m     74\u001b[0m     torch\u001b[38;5;241m.\u001b[39mset_grad_enabled(\u001b[38;5;28mself\u001b[39m\u001b[38;5;241m.\u001b[39mdefaults[\u001b[38;5;124m'\u001b[39m\u001b[38;5;124mdifferentiable\u001b[39m\u001b[38;5;124m'\u001b[39m])\n\u001b[0;32m     75\u001b[0m     torch\u001b[38;5;241m.\u001b[39m_dynamo\u001b[38;5;241m.\u001b[39mgraph_break()\n\u001b[1;32m---> 76\u001b[0m     ret \u001b[38;5;241m=\u001b[39m func(\u001b[38;5;28mself\u001b[39m, \u001b[38;5;241m*\u001b[39margs, \u001b[38;5;241m*\u001b[39m\u001b[38;5;241m*\u001b[39mkwargs)\n\u001b[0;32m     77\u001b[0m \u001b[38;5;28;01mfinally\u001b[39;00m:\n\u001b[0;32m     78\u001b[0m     torch\u001b[38;5;241m.\u001b[39m_dynamo\u001b[38;5;241m.\u001b[39mgraph_break()\n",
      "File \u001b[1;32m~\\anaconda3\\Lib\\site-packages\\torch\\optim\\sgd.py:75\u001b[0m, in \u001b[0;36mSGD.step\u001b[1;34m(self, closure)\u001b[0m\n\u001b[0;32m     71\u001b[0m momentum_buffer_list \u001b[38;5;241m=\u001b[39m []\n\u001b[0;32m     73\u001b[0m has_sparse_grad \u001b[38;5;241m=\u001b[39m \u001b[38;5;28mself\u001b[39m\u001b[38;5;241m.\u001b[39m_init_group(group, params_with_grad, d_p_list, momentum_buffer_list)\n\u001b[1;32m---> 75\u001b[0m sgd(params_with_grad,\n\u001b[0;32m     76\u001b[0m     d_p_list,\n\u001b[0;32m     77\u001b[0m     momentum_buffer_list,\n\u001b[0;32m     78\u001b[0m     weight_decay\u001b[38;5;241m=\u001b[39mgroup[\u001b[38;5;124m'\u001b[39m\u001b[38;5;124mweight_decay\u001b[39m\u001b[38;5;124m'\u001b[39m],\n\u001b[0;32m     79\u001b[0m     momentum\u001b[38;5;241m=\u001b[39mgroup[\u001b[38;5;124m'\u001b[39m\u001b[38;5;124mmomentum\u001b[39m\u001b[38;5;124m'\u001b[39m],\n\u001b[0;32m     80\u001b[0m     lr\u001b[38;5;241m=\u001b[39mgroup[\u001b[38;5;124m'\u001b[39m\u001b[38;5;124mlr\u001b[39m\u001b[38;5;124m'\u001b[39m],\n\u001b[0;32m     81\u001b[0m     dampening\u001b[38;5;241m=\u001b[39mgroup[\u001b[38;5;124m'\u001b[39m\u001b[38;5;124mdampening\u001b[39m\u001b[38;5;124m'\u001b[39m],\n\u001b[0;32m     82\u001b[0m     nesterov\u001b[38;5;241m=\u001b[39mgroup[\u001b[38;5;124m'\u001b[39m\u001b[38;5;124mnesterov\u001b[39m\u001b[38;5;124m'\u001b[39m],\n\u001b[0;32m     83\u001b[0m     maximize\u001b[38;5;241m=\u001b[39mgroup[\u001b[38;5;124m'\u001b[39m\u001b[38;5;124mmaximize\u001b[39m\u001b[38;5;124m'\u001b[39m],\n\u001b[0;32m     84\u001b[0m     has_sparse_grad\u001b[38;5;241m=\u001b[39mhas_sparse_grad,\n\u001b[0;32m     85\u001b[0m     foreach\u001b[38;5;241m=\u001b[39mgroup[\u001b[38;5;124m'\u001b[39m\u001b[38;5;124mforeach\u001b[39m\u001b[38;5;124m'\u001b[39m])\n\u001b[0;32m     87\u001b[0m \u001b[38;5;66;03m# update momentum_buffers in state\u001b[39;00m\n\u001b[0;32m     88\u001b[0m \u001b[38;5;28;01mfor\u001b[39;00m p, momentum_buffer \u001b[38;5;129;01min\u001b[39;00m \u001b[38;5;28mzip\u001b[39m(params_with_grad, momentum_buffer_list):\n",
      "File \u001b[1;32m~\\anaconda3\\Lib\\site-packages\\torch\\optim\\sgd.py:220\u001b[0m, in \u001b[0;36msgd\u001b[1;34m(params, d_p_list, momentum_buffer_list, has_sparse_grad, foreach, weight_decay, momentum, lr, dampening, nesterov, maximize)\u001b[0m\n\u001b[0;32m    217\u001b[0m \u001b[38;5;28;01melse\u001b[39;00m:\n\u001b[0;32m    218\u001b[0m     func \u001b[38;5;241m=\u001b[39m _single_tensor_sgd\n\u001b[1;32m--> 220\u001b[0m func(params,\n\u001b[0;32m    221\u001b[0m      d_p_list,\n\u001b[0;32m    222\u001b[0m      momentum_buffer_list,\n\u001b[0;32m    223\u001b[0m      weight_decay\u001b[38;5;241m=\u001b[39mweight_decay,\n\u001b[0;32m    224\u001b[0m      momentum\u001b[38;5;241m=\u001b[39mmomentum,\n\u001b[0;32m    225\u001b[0m      lr\u001b[38;5;241m=\u001b[39mlr,\n\u001b[0;32m    226\u001b[0m      dampening\u001b[38;5;241m=\u001b[39mdampening,\n\u001b[0;32m    227\u001b[0m      nesterov\u001b[38;5;241m=\u001b[39mnesterov,\n\u001b[0;32m    228\u001b[0m      has_sparse_grad\u001b[38;5;241m=\u001b[39mhas_sparse_grad,\n\u001b[0;32m    229\u001b[0m      maximize\u001b[38;5;241m=\u001b[39mmaximize)\n",
      "File \u001b[1;32m~\\anaconda3\\Lib\\site-packages\\torch\\optim\\sgd.py:263\u001b[0m, in \u001b[0;36m_single_tensor_sgd\u001b[1;34m(params, d_p_list, momentum_buffer_list, weight_decay, momentum, lr, dampening, nesterov, maximize, has_sparse_grad)\u001b[0m\n\u001b[0;32m    260\u001b[0m     \u001b[38;5;28;01melse\u001b[39;00m:\n\u001b[0;32m    261\u001b[0m         d_p \u001b[38;5;241m=\u001b[39m buf\n\u001b[1;32m--> 263\u001b[0m param\u001b[38;5;241m.\u001b[39madd_(d_p, alpha\u001b[38;5;241m=\u001b[39m\u001b[38;5;241m-\u001b[39mlr)\n",
      "\u001b[1;31mKeyboardInterrupt\u001b[0m: "
     ]
    }
   ],
   "source": [
    "#Ideas to solve accuracy issues:\n",
    "#   Implement techniques to reduce overfitting (I'm pretty sure it's this considering the low loss)\n",
    "#   Make the transfer learning model, then come back\n",
    "#   Change the way I've vectorized my words to a more complex method\n",
    "#   Check other Evaluation metrics (not the issue)\n",
    "for epoch in range(num_epochs):\n",
    "    LSTM_train_epoch()\n",
    "    LSTM_validate_epoch()"
   ]
  },
  {
   "cell_type": "code",
   "execution_count": null,
   "id": "f023acaa-bc41-4009-80e1-93a37861e487",
   "metadata": {},
   "outputs": [],
   "source": [
    "#Getting variables to calculate a few metrics that will help determine model effectiveness\n",
    "LSTMmodel.train(False)\n",
    "total_pred = []\n",
    "total_labels = []\n",
    "for idx, batch in enumerate(test_loader):\n",
    "    text, labels = batch[0].to(device), batch[1].to(device)\n",
    "    total_labels += labels\n",
    "    with torch.no_grad():\n",
    "        correct = 0\n",
    "        total = 0\n",
    "        outputs = LSTMmodel(text)\n",
    "        _, predicted = torch.max(outputs.data, 1)\n",
    "        total_pred += predicted\n",
    "        total += labels.size(0)\n",
    "        correct += (predicted == labels).sum()\n",
    "#Switching tensors back to cpu for analysis\n",
    "total_labels_cpu = [label.cpu() for label in total_labels]\n",
    "total_pred_cpu = [pred.cpu() for pred in total_pred]\n",
    "print('Done')"
   ]
  },
  {
   "cell_type": "code",
   "execution_count": null,
   "id": "d6b12c3f-edde-4720-ae52-6747113b7024",
   "metadata": {},
   "outputs": [],
   "source": [
    "#Calculating Scores\n",
    "accuracy = 100 * correct / total\n",
    "print(f'Accuracy: {accuracy}')\n",
    "#F1-Score is the harmonic mean of Precision and Recall\n",
    "f1 = f1_score(total_labels_cpu, total_pred_cpu, average='weighted')\n",
    "print(f'F1-Score: {f1}')\n",
    "#Precision is True positive over total predicted positive\n",
    "precision = precision_score(total_labels_cpu, total_pred_cpu, average='weighted')\n",
    "print(f'Precision: {precision}')\n",
    "#Recall is True positive over total actual positive\n",
    "recall = recall_score(total_labels_cpu, total_pred_cpu, average='weighted')\n",
    "print(f'Recall: {recall}')"
   ]
  },
  {
   "cell_type": "code",
   "execution_count": 14,
   "id": "1dba7d27-73d0-49d8-aef3-c3f914f4e52c",
   "metadata": {},
   "outputs": [],
   "source": [
    "#Run on primary computer\n",
    "\"\"\"torch.save(LSTMmodel, 'TwitterSentimentModel.pt')\"\"\"\n",
    "\n",
    "#Run on secondary computer\n",
    "MainModel = torch.load('TwitterSentimentModel.pt', map_location=torch.device('cpu'))"
   ]
  },
  {
   "cell_type": "code",
   "execution_count": 29,
   "id": "846ab932-4471-4c18-8aa2-a8ba02880db6",
   "metadata": {},
   "outputs": [],
   "source": [
    "#Transfer learning version of my sentiment analysis model using XLM-Roberta\n",
    "#What I need to do is use the transforms on the data, then make the functions to run the model using the data\n",
    "xlmr = torchtext.models.XLMR_BASE_ENCODER\n",
    "class_head = torchtext.models.RobertaClassificationHead(num_classes=2, input_dim = 768)\n",
    "TLearn_model = xlmr.get_model(head = class_head)\n",
    "transform = xlmr.transform()"
   ]
  },
  {
   "cell_type": "code",
   "execution_count": 41,
   "id": "158c1ead-2cc0-4bd4-a63e-7e0cea68c6ac",
   "metadata": {},
   "outputs": [
    {
     "data": {
      "text/plain": [
       "array([[1, 'username m follow post'],\n",
       "       [0, 'username username jealous yous liverpool'],\n",
       "       [0, 'username haha funny lonely school'],\n",
       "       ...,\n",
       "       [0, 'omg hot thunderstorm suppose cool'],\n",
       "       [1, 'username oh boyo'],\n",
       "       [1, 'username banner hang right remember ummm easy']], dtype=object)"
      ]
     },
     "execution_count": 41,
     "metadata": {},
     "output_type": "execute_result"
    }
   ],
   "source": [
    "preTrans_train_dset, preTrans_test_dset = TrainSentimentData, TestSentimentData\n",
    "#Turn pandas dataset into Numpy\n",
    "preTrans_train_dset = preTrans_train_dset.to_numpy()\n",
    "preTrans_test_dset = preTrans_test_dset.to_numpy()\n",
    "preTrans_train_dset"
   ]
  },
  {
   "cell_type": "code",
   "execution_count": 66,
   "id": "9feaa9a2-11b8-45bf-a013-da04a6dc07ee",
   "metadata": {},
   "outputs": [
    {
     "name": "stdout",
     "output_type": "stream",
     "text": [
      "Train Done\n",
      "[1, 38938, 11628, 348, 28961, 1306, 3]\n",
      "Test Done\n",
      "[1, 4489, 18926, 92950, 206987, 50783, 118483, 54, 56291, 72, 4489, 3]\n"
     ]
    }
   ],
   "source": [
    "#Split Data\n",
    "def apply_transform(data):\n",
    "    return transform(data[1]), data[0]\n",
    "\n",
    "longest = 0\n",
    "#Run Transforms on data\n",
    "TransXTrainDset, TransYTrainDset = [], []\n",
    "TransXTestDset, TransYTestDset = [], []\n",
    "for row in preTrans_train_dset:\n",
    "    tensor_row = torch.tensor(transform(row[1]))\n",
    "    tensor_row = [(int(word)+1) for word in tensor_row]\n",
    "    if len(tensor_row) > longest:\n",
    "        longest = len(tensor_row)\n",
    "    TransXTrainDset.append(tensor_row)\n",
    "    TransYTrainDset.append(row[0])\n",
    "print('Train Done')\n",
    "print(TransXTrainDset[0])\n",
    "for row in preTrans_test_dset:\n",
    "    tensor_row = torch.tensor(transform(row[1]))\n",
    "    tensor_row = [(int(word)+1) for word in tensor_row]\n",
    "    if len(tensor_row) > longest:\n",
    "        longest = len(tensor_row)\n",
    "    TransXTestDset.append(tensor_row)\n",
    "    TransYTestDset.append(row[0])\n",
    "print('Test Done')\n",
    "print(TransXTestDset[0])"
   ]
  },
  {
   "cell_type": "code",
   "execution_count": 118,
   "id": "357e98b4-a887-4662-8b37-6df25767543f",
   "metadata": {
    "scrolled": true,
    "tags": []
   },
   "outputs": [
    {
     "name": "stderr",
     "output_type": "stream",
     "text": [
      "C:\\Users\\chris\\AppData\\Local\\Temp\\ipykernel_18384\\60172696.py:7: UserWarning: To copy construct from a tensor, it is recommended to use sourceTensor.clone().detach() or sourceTensor.clone().detach().requires_grad_(True), rather than torch.tensor(sourceTensor).\n",
      "  empty_tensor_test[i, :len(row)] = torch.tensor(row)\n"
     ]
    },
    {
     "name": "stdout",
     "output_type": "stream",
     "text": [
      "tensor([[     1,   4489,  18926,  92950, 206987,  50783, 118483,     54,  56291,\n",
      "             72,   4489,      3,      0,      0,      0,      0,      0,      0,\n",
      "              0,      0,      0,      0,      0,      0,      0,      0,      0,\n",
      "              0,      0,      0,      0,      0,      0,      0,      0,      0,\n",
      "              0,      0,      0,      0,      0,      0,      0,      0,      0,\n",
      "              0,      0,      0,      0,      0,      0,      0,      0,      0,\n",
      "              0,      0,      0,      0,      0,      0,      0],\n",
      "        [     1,  39545,  14800,  25501,   2047,  17111,  31462,   3715,  22474,\n",
      "           3379,   2047,  12349,      3,      0,      0,      0,      0,      0,\n",
      "              0,      0,      0,      0,      0,      0,      0,      0,      0,\n",
      "              0,      0,      0,      0,      0,      0,      0,      0,      0,\n",
      "              0,      0,      0,      0,      0,      0,      0,      0,      0,\n",
      "              0,      0,      0,      0,      0,      0,      0,      0,      0,\n",
      "              0,      0,      0,      0,      0,      0,      0],\n",
      "        [     1,  38938,  11628, 114408,     40,   2634,   3715,   1381,   9880,\n",
      "          66979,     86,      3,      0,      0,      0,      0,      0,      0,\n",
      "              0,      0,      0,      0,      0,      0,      0,      0,      0,\n",
      "              0,      0,      0,      0,      0,      0,      0,      0,      0,\n",
      "              0,      0,      0,      0,      0,      0,      0,      0,      0,\n",
      "              0,      0,      0,      0,      0,      0,      0,      0,      0,\n",
      "              0,      0,      0,      0,      0,      0,      0]])\n"
     ]
    },
    {
     "name": "stderr",
     "output_type": "stream",
     "text": [
      "C:\\Users\\chris\\AppData\\Local\\Temp\\ipykernel_18384\\60172696.py:12: UserWarning: To copy construct from a tensor, it is recommended to use sourceTensor.clone().detach() or sourceTensor.clone().detach().requires_grad_(True), rather than torch.tensor(sourceTensor).\n",
      "  empty_tensor_train[i, :len(row)] = torch.tensor(row)\n"
     ]
    },
    {
     "name": "stdout",
     "output_type": "stream",
     "text": [
      "tensor([[     1,  38938,  11628,    348,  28961,   1306,      3,      0,      0,\n",
      "              0,      0,      0,      0,      0,      0,      0,      0,      0,\n",
      "              0,      0,      0,      0,      0,      0,      0,      0,      0,\n",
      "              0,      0,      0,      0,      0,      0,      0,      0,      0,\n",
      "              0,      0,      0,      0,      0,      0,      0,      0,      0,\n",
      "              0,      0,      0,      0,      0,      0,      0,      0,      0,\n",
      "              0,      0,      0,      0,      0,      0,      0],\n",
      "        [     1,  38938,  11628,  38938,  11628,     56,   7780,    224,    399,\n",
      "              8,      7, 134149,  20741,      3,      0,      0,      0,      0,\n",
      "              0,      0,      0,      0,      0,      0,      0,      0,      0,\n",
      "              0,      0,      0,      0,      0,      0,      0,      0,      0,\n",
      "              0,      0,      0,      0,      0,      0,      0,      0,      0,\n",
      "              0,      0,      0,      0,      0,      0,      0,      0,      0,\n",
      "              0,      0,      0,      0,      0,      0,      0],\n",
      "        [     1,  38938,  11628,  22011,  99865,    460,     87,    539,  10697,\n",
      "              3,      0,      0,      0,      0,      0,      0,      0,      0,\n",
      "              0,      0,      0,      0,      0,      0,      0,      0,      0,\n",
      "              0,      0,      0,      0,      0,      0,      0,      0,      0,\n",
      "              0,      0,      0,      0,      0,      0,      0,      0,      0,\n",
      "              0,      0,      0,      0,      0,      0,      0,      0,      0,\n",
      "              0,      0,      0,      0,      0,      0,      0]])\n"
     ]
    }
   ],
   "source": [
    "#Still need to understand exactly what format my data needs to be in for \"Roberta\"\n",
    "#Training is very similar to normal\n",
    "empty_tensor_test = torch.zeros(len(TransXTestDset), longest).long()\n",
    "empty_tensor_train = torch.zeros(len(TransXTrainDset), longest).long()\n",
    "\n",
    "for i, row in enumerate(TransXTestDset):\n",
    "    empty_tensor_test[i, :len(row)] = torch.tensor(row)\n",
    "TransXTestDset = empty_tensor_test\n",
    "print(TransXTestDset[0:3])\n",
    "\n",
    "for i, row in enumerate(TransXTrainDset):\n",
    "    empty_tensor_train[i, :len(row)] = torch.tensor(row)\n",
    "TransXTrainDset = empty_tensor_train    \n",
    "\n",
    "print(TransXTrainDset[0:3])"
   ]
  },
  {
   "cell_type": "code",
   "execution_count": 120,
   "id": "e739d49c-e11d-417f-b58a-a855cc8bd69f",
   "metadata": {},
   "outputs": [
    {
     "name": "stdout",
     "output_type": "stream",
     "text": [
      "Finished\n"
     ]
    }
   ],
   "source": [
    "#Convert to DataSet object\n",
    "class TransferSentimentDataset(Dataset):\n",
    "    def __init__(self, X, y):\n",
    "        self.X = X\n",
    "        self.y = y\n",
    "        \n",
    "    def __len__(self):\n",
    "        return len(self.X)\n",
    "    \n",
    "    def __getitem__(self, idx):\n",
    "        return self.X[idx], self.y[idx]\n",
    "learn_train_dataset = TransferSentimentDataset(TransXTrainDset, TransYTrainDset)\n",
    "learn_test_dataset = TransferSentimentDataset(TransXTestDset, TransYTestDset)\n",
    "print('Finished')"
   ]
  },
  {
   "cell_type": "code",
   "execution_count": 122,
   "id": "c28d8e49-aac4-4ee6-8305-b2ba28558797",
   "metadata": {
    "tags": []
   },
   "outputs": [
    {
     "name": "stdout",
     "output_type": "stream",
     "text": [
      "(tensor([    1, 38938, 11628,   348, 28961,  1306,     3,     0,     0,     0,\n",
      "            0,     0,     0,     0,     0,     0,     0,     0,     0,     0,\n",
      "            0,     0,     0,     0,     0,     0,     0,     0,     0,     0,\n",
      "            0,     0,     0,     0,     0,     0,     0,     0,     0,     0,\n",
      "            0,     0,     0,     0,     0,     0,     0,     0,     0,     0,\n",
      "            0,     0,     0,     0,     0,     0,     0,     0,     0,     0,\n",
      "            0]), 1)\n"
     ]
    }
   ],
   "source": [
    "#Do whatever model prep I need, seems like I need to research how to use the model briefly to start\n",
    "#Or I could just dive in and work backward once it starts throwing errors\n",
    "#Possible solution to my model's problem is processing the dataset differently\n",
    "#   Specifically keep the emoticons and some punctuation\n",
    "#   and maybe divide the dataset in a more complex way than just word to number\n",
    "print(learn_train_dataset[0])"
   ]
  },
  {
   "cell_type": "code",
   "execution_count": 124,
   "id": "a6fe629e-ee47-4a06-95a1-8706602bf82d",
   "metadata": {},
   "outputs": [
    {
     "name": "stdout",
     "output_type": "stream",
     "text": [
      "tensor([     1,   2047, 103402,    187,     14,      3,      0,      0,      0,\n",
      "             0,      0,      0,      0,      0,      0,      0,      0,      0,\n",
      "             0,      0,      0,      0,      0,      0,      0,      0,      0,\n",
      "             0,      0,      0,      0,      0,      0,      0,      0,      0,\n",
      "             0,      0,      0,      0,      0,      0,      0,      0,      0,\n",
      "             0,      0,      0,      0,      0,      0,      0,      0,      0,\n",
      "             0,      0,      0,      0,      0,      0,      0])\n",
      "torch.Size([50, 61]) torch.Size([50])\n"
     ]
    }
   ],
   "source": [
    "#Turn data into DataLoaders\n",
    "batch_size = 50\n",
    "num_epochs = 4\n",
    "n_iters = int((num_epochs * batch_size) / len(learn_train_dataset))\n",
    "learn_train_loader = DataLoader(dataset=learn_train_dataset, batch_size=batch_size, shuffle=True)\n",
    "learn_test_loader = DataLoader(dataset=learn_test_dataset, batch_size=batch_size, shuffle=False)\n",
    "TT_dataloaders = {'train': learn_train_loader, 'test': learn_test_loader}\n",
    "dataset_sizes = {'train': TransXTrainDset.size(0), 'test': TransXTestDset.size(0)}\n",
    "\n",
    "#Checking DataLoader object, looks like I'll need to pad my data before pushing it through\n",
    "for _, batch in enumerate(learn_train_loader):\n",
    "    #This will also be a test to see if device is working\n",
    "    #Re-add '.to(device)' later to batch[0] and [1]\n",
    "    x_batch, y_batch = batch[0], batch[1]\n",
    "    print(x_batch[0])\n",
    "    print(x_batch.shape, y_batch.shape)\n",
    "    break"
   ]
  },
  {
   "cell_type": "code",
   "execution_count": 126,
   "id": "370aa37c-624e-4841-8dae-385ff380fcf6",
   "metadata": {
    "tags": []
   },
   "outputs": [],
   "source": [
    "def train_model(model, criterion, optimizer, num_epochs=25):\n",
    "    best_acc = 0.0\n",
    "\n",
    "    #normal loop\n",
    "    for epoch in range(num_epochs):\n",
    "        #just keeps track of what num epoch we are on out of the total\n",
    "        print(f'Epoch {epoch}/{num_epochs - 1}')\n",
    "        print('-' * 10)\n",
    "\n",
    "        # Each epoch has a training and validation phase\n",
    "        for phase in ['train', 'val']:\n",
    "            if phase == 'train':\n",
    "                model.train()  # Set model to training mode\n",
    "            else:\n",
    "                model.eval()   # Set model to evaluate mode\n",
    "\n",
    "            #Resets loss and number correct for the current epoch and train/val state\n",
    "            running_loss = 0.0\n",
    "            running_corrects = 0\n",
    "\n",
    "            # Iterate over data.\n",
    "            for inputs, labels in TT_dataloaders[phase]:\n",
    "                #Add .to(device) to these\n",
    "                inputs = inputs\n",
    "                labels = labels\n",
    "                \n",
    "                optimizer.zero_grad()\n",
    "                # track history if only in train\n",
    "                with torch.set_grad_enabled(phase == 'train'):\n",
    "                    outputs = model(inputs)\n",
    "                    _, preds = torch.max(outputs, 1)\n",
    "                    loss = criterion(outputs, labels)\n",
    "                    if phase == 'train':\n",
    "                        loss.backward()\n",
    "                        optimizer.step()\n",
    "\n",
    "                running_loss += loss.item() * inputs.size(0)\n",
    "                running_corrects += torch.sum(preds == labels.data)\n",
    "\n",
    "            epoch_loss = running_loss / dataset_sizes[phase]\n",
    "            epoch_acc = running_corrects.double() / dataset_sizes[phase]\n",
    "            print(f'{phase} Loss: {epoch_loss:.4f} Acc: {epoch_acc:.4f}')\n",
    "\n",
    "            if phase == 'val' and epoch_acc > best_acc:\n",
    "                best_acc = epoch_acc\n",
    "        print()\n",
    "    print(f'Best val Acc: {best_acc:4f}') #The 4f just sets a minimum width for the number\n",
    "    return model"
   ]
  },
  {
   "cell_type": "code",
   "execution_count": 128,
   "id": "9b58e919-5863-49c9-9d33-45f0e01fa897",
   "metadata": {
    "tags": []
   },
   "outputs": [
    {
     "name": "stdout",
     "output_type": "stream",
     "text": [
      "Epoch 0/3\n",
      "----------\n"
     ]
    },
    {
     "ename": "KeyboardInterrupt",
     "evalue": "",
     "output_type": "error",
     "traceback": [
      "\u001b[1;31m---------------------------------------------------------------------------\u001b[0m",
      "\u001b[1;31mKeyboardInterrupt\u001b[0m                         Traceback (most recent call last)",
      "Cell \u001b[1;32mIn[128], line 4\u001b[0m\n\u001b[0;32m      2\u001b[0m learning_rate \u001b[38;5;241m=\u001b[39m \u001b[38;5;241m0.01\u001b[39m\n\u001b[0;32m      3\u001b[0m optimizer \u001b[38;5;241m=\u001b[39m optim\u001b[38;5;241m.\u001b[39mSGD(TLearn_model\u001b[38;5;241m.\u001b[39mparameters(), lr \u001b[38;5;241m=\u001b[39m learning_rate)\n\u001b[1;32m----> 4\u001b[0m best_model \u001b[38;5;241m=\u001b[39m train_model(TLearn_model, loss_func, optimizer, num_epochs\u001b[38;5;241m=\u001b[39mnum_epochs)\n",
      "Cell \u001b[1;32mIn[126], line 34\u001b[0m, in \u001b[0;36mtrain_model\u001b[1;34m(model, criterion, optimizer, num_epochs)\u001b[0m\n\u001b[0;32m     32\u001b[0m     loss \u001b[38;5;241m=\u001b[39m criterion(outputs, labels)\n\u001b[0;32m     33\u001b[0m     \u001b[38;5;28;01mif\u001b[39;00m phase \u001b[38;5;241m==\u001b[39m \u001b[38;5;124m'\u001b[39m\u001b[38;5;124mtrain\u001b[39m\u001b[38;5;124m'\u001b[39m:\n\u001b[1;32m---> 34\u001b[0m         loss\u001b[38;5;241m.\u001b[39mbackward()\n\u001b[0;32m     35\u001b[0m         optimizer\u001b[38;5;241m.\u001b[39mstep()\n\u001b[0;32m     37\u001b[0m running_loss \u001b[38;5;241m+\u001b[39m\u001b[38;5;241m=\u001b[39m loss\u001b[38;5;241m.\u001b[39mitem() \u001b[38;5;241m*\u001b[39m inputs\u001b[38;5;241m.\u001b[39msize(\u001b[38;5;241m0\u001b[39m)\n",
      "File \u001b[1;32m~\\anaconda3\\Lib\\site-packages\\torch\\_tensor.py:522\u001b[0m, in \u001b[0;36mTensor.backward\u001b[1;34m(self, gradient, retain_graph, create_graph, inputs)\u001b[0m\n\u001b[0;32m    512\u001b[0m \u001b[38;5;28;01mif\u001b[39;00m has_torch_function_unary(\u001b[38;5;28mself\u001b[39m):\n\u001b[0;32m    513\u001b[0m     \u001b[38;5;28;01mreturn\u001b[39;00m handle_torch_function(\n\u001b[0;32m    514\u001b[0m         Tensor\u001b[38;5;241m.\u001b[39mbackward,\n\u001b[0;32m    515\u001b[0m         (\u001b[38;5;28mself\u001b[39m,),\n\u001b[1;32m   (...)\u001b[0m\n\u001b[0;32m    520\u001b[0m         inputs\u001b[38;5;241m=\u001b[39minputs,\n\u001b[0;32m    521\u001b[0m     )\n\u001b[1;32m--> 522\u001b[0m torch\u001b[38;5;241m.\u001b[39mautograd\u001b[38;5;241m.\u001b[39mbackward(\n\u001b[0;32m    523\u001b[0m     \u001b[38;5;28mself\u001b[39m, gradient, retain_graph, create_graph, inputs\u001b[38;5;241m=\u001b[39minputs\n\u001b[0;32m    524\u001b[0m )\n",
      "File \u001b[1;32m~\\anaconda3\\Lib\\site-packages\\torch\\autograd\\__init__.py:266\u001b[0m, in \u001b[0;36mbackward\u001b[1;34m(tensors, grad_tensors, retain_graph, create_graph, grad_variables, inputs)\u001b[0m\n\u001b[0;32m    261\u001b[0m     retain_graph \u001b[38;5;241m=\u001b[39m create_graph\n\u001b[0;32m    263\u001b[0m \u001b[38;5;66;03m# The reason we repeat the same comment below is that\u001b[39;00m\n\u001b[0;32m    264\u001b[0m \u001b[38;5;66;03m# some Python versions print out the first line of a multi-line function\u001b[39;00m\n\u001b[0;32m    265\u001b[0m \u001b[38;5;66;03m# calls in the traceback and some print out the last line\u001b[39;00m\n\u001b[1;32m--> 266\u001b[0m Variable\u001b[38;5;241m.\u001b[39m_execution_engine\u001b[38;5;241m.\u001b[39mrun_backward(  \u001b[38;5;66;03m# Calls into the C++ engine to run the backward pass\u001b[39;00m\n\u001b[0;32m    267\u001b[0m     tensors,\n\u001b[0;32m    268\u001b[0m     grad_tensors_,\n\u001b[0;32m    269\u001b[0m     retain_graph,\n\u001b[0;32m    270\u001b[0m     create_graph,\n\u001b[0;32m    271\u001b[0m     inputs,\n\u001b[0;32m    272\u001b[0m     allow_unreachable\u001b[38;5;241m=\u001b[39m\u001b[38;5;28;01mTrue\u001b[39;00m,\n\u001b[0;32m    273\u001b[0m     accumulate_grad\u001b[38;5;241m=\u001b[39m\u001b[38;5;28;01mTrue\u001b[39;00m,\n\u001b[0;32m    274\u001b[0m )\n",
      "\u001b[1;31mKeyboardInterrupt\u001b[0m: "
     ]
    }
   ],
   "source": [
    "loss_func = nn.CrossEntropyLoss()\n",
    "learning_rate = 0.01\n",
    "optimizer = optim.SGD(TLearn_model.parameters(), lr = learning_rate)\n",
    "best_model = train_model(TLearn_model, loss_func, optimizer, num_epochs=num_epochs)"
   ]
  }
 ],
 "metadata": {
  "kernelspec": {
   "display_name": "Python 3 (ipykernel)",
   "language": "python",
   "name": "python3"
  },
  "language_info": {
   "codemirror_mode": {
    "name": "ipython",
    "version": 3
   },
   "file_extension": ".py",
   "mimetype": "text/x-python",
   "name": "python",
   "nbconvert_exporter": "python",
   "pygments_lexer": "ipython3",
   "version": "3.11.8"
  }
 },
 "nbformat": 4,
 "nbformat_minor": 5
}
