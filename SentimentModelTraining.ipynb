{
 "cells": [
  {
   "cell_type": "code",
   "execution_count": 13,
   "id": "f963d2f9-bfaf-4fd7-a751-31ccbf7e60a7",
   "metadata": {},
   "outputs": [],
   "source": [
    "import torch\n",
    "import torch.nn as nn\n",
    "import torch.optim as optim\n",
    "from torch.optim import lr_scheduler\n",
    "import numpy as np\n",
    "import pandas as pd\n",
    "import torchvision\n",
    "from torchvision import datasets, models, transforms\n",
    "from torch.utils.data import DataLoader, Dataset, random_split, TensorDataset\n",
    "import matplotlib.pyplot as plt\n",
    "import time\n",
    "import os\n",
    "from sklearn.model_selection import train_test_split\n",
    "import spacy\n",
    "import re"
   ]
  },
  {
   "cell_type": "code",
   "execution_count": 12,
   "id": "5c86be50-af8c-4ae4-8547-c2a68401f2c8",
   "metadata": {},
   "outputs": [
    {
     "name": "stdout",
     "output_type": "stream",
     "text": [
      "2\n"
     ]
    }
   ],
   "source": [
    "#Import Dataset\n",
    "#For preprocessing purposes: Clean Text of special characters/URLs/HTML tags/punctuation and put in all lowercase,\n",
    "#Split text into words or \"tokens\", remove \"stopwords\" such as \"and\", \"is\", or \"the,\"\n",
    "#Reduce words to root or stem form through \"lemmatization\" or \"stemming\" to reduce complexity,\n",
    "#Apply \"vectorization\" to convert word or token data into a set of numerical data, and\n",
    "#Pad the data to normalize all the variables so they can be more easily inputted to a ML algorithm\n",
    "SentimentData = pd.read_csv('data/CleanSentimentTwtData.csv')"
   ]
  },
  {
   "cell_type": "code",
   "execution_count": null,
   "id": "931ee3a5-bb0e-4e64-aa64-07fb292b6fc6",
   "metadata": {},
   "outputs": [],
   "source": [
    "#Replaces @usernames with \"name\", Cleans text of HTMl tags, URLS, removes extra spaces, and makes the text lowercase\n",
    "def clean_text(text):\n",
    "    text = re.sub(r'@\\w+', 'username', text)\n",
    "    text = re.sub(r'<[^>]+>', '', text)\n",
    "    text = re.sub(r'http\\S+', '', text)    \n",
    "    text = re.sub(r'\\s+', ' ', text).strip()\n",
    "    return text.lower()\n",
    "\n",
    "#Processes the other needed parts\n",
    "nlp = spacy.load('en_core_web_sm')\n",
    "def preprocess_text(dset):\n",
    "    processed_text = []\n",
    "    for text in dset['Text'].values: #loops through all values in 'Text' col\n",
    "        result = []\n",
    "        if nlp(text).lang_ == 'en': #if the data point is in english, proceed\n",
    "            for token in nlp(text): #loops through each word or \"token\" in the datapoint\n",
    "                if token.is_alpha and not token.is_stop: #ignores non-alphabetic tokens and \"stopword\" tokens\n",
    "                    result.append(token.lemma_) #keeps the lemmatization of the token\n",
    "            processed_text.append(' '.join(result)) #joins the tokens back together with a space between\n",
    "    return processed_text"
   ]
  },
  {
   "cell_type": "code",
   "execution_count": 11,
   "id": "1daf723b-c87c-4d9b-9ff7-2d91085a3936",
   "metadata": {},
   "outputs": [],
   "source": [
    "#Create new torch Dataset-inherited object and transform pandas dataset into it\n",
    "class SentimentTwtData(Dataset):\n",
    "    def __init__(self, data):\n",
    "        self.data = data\n",
    "    def __len__(self):\n",
    "        return len(self.data)\n",
    "    def __getitem__(self, index):\n",
    "        return self.data[index]\n",
    "    \n",
    "SentimentDset = SentimentTwtData(SentimentData)"
   ]
  },
  {
   "cell_type": "code",
   "execution_count": 19,
   "id": "672ebb3b-7e50-4696-8b3e-8644cc920b01",
   "metadata": {},
   "outputs": [
    {
     "name": "stdout",
     "output_type": "stream",
     "text": [
      "1280000\n"
     ]
    }
   ],
   "source": [
    "#Split the data randomly, 80% train, 20% test\n",
    "train_size = int(.8 * len(SentimentDset))\n",
    "test_size = len(SentimentDset) - train_size\n",
    "train_dset, test_dset = random_split(SentimentDset, [train_size, test_size])\n",
    "print(len(train_dset))"
   ]
  },
  {
   "cell_type": "code",
   "execution_count": 20,
   "id": "683ee779-4cb7-419b-b835-ea964e73b8e8",
   "metadata": {},
   "outputs": [],
   "source": [
    "#Turn data into DataLoaders\n",
    "batch_size = 500\n",
    "n_iters = 12800\n",
    "num_epochs = int(n_iters / (len(train_dset) / batch_size))\n",
    "train_loader = DataLoader(dataset=train_dset, batch_size=batch_size, shuffle=True)\n",
    "test_loader = DataLoader(dataset=test_dset, batch_size=batch_size, shuffle=False)"
   ]
  },
  {
   "cell_type": "code",
   "execution_count": null,
   "id": "394da48a-0ffd-488b-a2b4-a36e2d42af4e",
   "metadata": {},
   "outputs": [],
   "source": [
    "class SentimentAnalysisModel(nn.Module):\n",
    "    def __init__(self,)"
   ]
  }
 ],
 "metadata": {
  "kernelspec": {
   "display_name": "Python 3 (ipykernel)",
   "language": "python",
   "name": "python3"
  },
  "language_info": {
   "codemirror_mode": {
    "name": "ipython",
    "version": 3
   },
   "file_extension": ".py",
   "mimetype": "text/x-python",
   "name": "python",
   "nbconvert_exporter": "python",
   "pygments_lexer": "ipython3",
   "version": "3.11.3"
  }
 },
 "nbformat": 4,
 "nbformat_minor": 5
}
