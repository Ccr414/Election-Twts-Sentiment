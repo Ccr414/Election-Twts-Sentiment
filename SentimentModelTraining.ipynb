{
 "cells": [
  {
   "cell_type": "code",
   "execution_count": 17,
   "id": "f963d2f9-bfaf-4fd7-a751-31ccbf7e60a7",
   "metadata": {},
   "outputs": [],
   "source": [
    "import torch\n",
    "import torch.nn as nn\n",
    "import torch.optim as optim\n",
    "import numpy as np\n",
    "import pandas as pd\n",
    "from torch.utils.data import DataLoader, Dataset, random_split, TensorDataset\n",
    "import matplotlib.pyplot as plt\n",
    "import time\n",
    "import os\n",
    "from sklearn.model_selection import train_test_split\n",
    "import spacy\n",
    "import re\n",
    "import torchtext\n",
    "from torchtext.data.utils import get_tokenizer\n",
    "from torchtext.vocab import build_vocab_from_iterator\n",
    "from torch.nn.utils.rnn import pad_sequence, pack_sequence, pack_padded_sequence\n",
    "from torchtext.functional import to_tensor\n",
    "from torchtext.models import RobertaClassificationHead"
   ]
  },
  {
   "cell_type": "code",
   "execution_count": 18,
   "id": "5c86be50-af8c-4ae4-8547-c2a68401f2c8",
   "metadata": {
    "scrolled": true
   },
   "outputs": [
    {
     "data": {
      "text/html": [
       "<div>\n",
       "<style scoped>\n",
       "    .dataframe tbody tr th:only-of-type {\n",
       "        vertical-align: middle;\n",
       "    }\n",
       "\n",
       "    .dataframe tbody tr th {\n",
       "        vertical-align: top;\n",
       "    }\n",
       "\n",
       "    .dataframe thead th {\n",
       "        text-align: right;\n",
       "    }\n",
       "</style>\n",
       "<table border=\"1\" class=\"dataframe\">\n",
       "  <thead>\n",
       "    <tr style=\"text-align: right;\">\n",
       "      <th></th>\n",
       "      <th>Sentiment</th>\n",
       "      <th>Text</th>\n",
       "    </tr>\n",
       "  </thead>\n",
       "  <tbody>\n",
       "    <tr>\n",
       "      <th>0</th>\n",
       "      <td>1</td>\n",
       "      <td>username m follow post</td>\n",
       "    </tr>\n",
       "    <tr>\n",
       "      <th>1</th>\n",
       "      <td>0</td>\n",
       "      <td>username username jealous yous liverpool</td>\n",
       "    </tr>\n",
       "    <tr>\n",
       "      <th>2</th>\n",
       "      <td>0</td>\n",
       "      <td>username haha funny lonely school</td>\n",
       "    </tr>\n",
       "    <tr>\n",
       "      <th>3</th>\n",
       "      <td>1</td>\n",
       "      <td>watch jay leno episode late night get sooooooo...</td>\n",
       "    </tr>\n",
       "    <tr>\n",
       "      <th>4</th>\n",
       "      <td>0</td>\n",
       "      <td>username find niqqa like</td>\n",
       "    </tr>\n",
       "    <tr>\n",
       "      <th>...</th>\n",
       "      <td>...</td>\n",
       "      <td>...</td>\n",
       "    </tr>\n",
       "    <tr>\n",
       "      <th>1278235</th>\n",
       "      <td>1</td>\n",
       "      <td>username nice pic</td>\n",
       "    </tr>\n",
       "    <tr>\n",
       "      <th>1278236</th>\n",
       "      <td>1</td>\n",
       "      <td>add upcoming gig ongoing drunken itinerary mon...</td>\n",
       "    </tr>\n",
       "    <tr>\n",
       "      <th>1278237</th>\n",
       "      <td>0</td>\n",
       "      <td>omg hot thunderstorm suppose cool</td>\n",
       "    </tr>\n",
       "    <tr>\n",
       "      <th>1278238</th>\n",
       "      <td>1</td>\n",
       "      <td>username oh boyo</td>\n",
       "    </tr>\n",
       "    <tr>\n",
       "      <th>1278239</th>\n",
       "      <td>1</td>\n",
       "      <td>username banner hang right remember ummm easy</td>\n",
       "    </tr>\n",
       "  </tbody>\n",
       "</table>\n",
       "<p>1278240 rows × 2 columns</p>\n",
       "</div>"
      ],
      "text/plain": [
       "         Sentiment                                               Text\n",
       "0                1                             username m follow post\n",
       "1                0           username username jealous yous liverpool\n",
       "2                0                  username haha funny lonely school\n",
       "3                1  watch jay leno episode late night get sooooooo...\n",
       "4                0                           username find niqqa like\n",
       "...            ...                                                ...\n",
       "1278235          1                                  username nice pic\n",
       "1278236          1  add upcoming gig ongoing drunken itinerary mon...\n",
       "1278237          0                  omg hot thunderstorm suppose cool\n",
       "1278238          1                                   username oh boyo\n",
       "1278239          1      username banner hang right remember ummm easy\n",
       "\n",
       "[1278240 rows x 2 columns]"
      ]
     },
     "execution_count": 18,
     "metadata": {},
     "output_type": "execute_result"
    }
   ],
   "source": [
    "#Import Dataset\n",
    "#For preprocessing purposes: Clean Text of special characters/URLs/HTML tags/punctuation and put in all lowercase,\n",
    "#Split text into words or \"tokens\", remove \"stopwords\" such as \"and\", \"is\", or \"the,\"\n",
    "#Reduce words to root or stem form through \"lemmatization\" or \"stemming\" to reduce complexity,\n",
    "#Apply \"vectorization\" to convert word or token data into a set of numerical data, and\n",
    "#Pad the data to normalize all the variables so they can be more easily inputted to a ML algorithm\n",
    "TrainSentimentData = pd.read_csv('data/FinalTrainSentimentData.csv')\n",
    "TestSentimentData = pd.read_csv('data/FinalTestSentimentData.csv')\n",
    "TrainSentimentData"
   ]
  },
  {
   "cell_type": "code",
   "execution_count": 31,
   "id": "1d4e4bb4-8b5c-40bb-9d51-b31b4d7eec8d",
   "metadata": {},
   "outputs": [
    {
     "data": {
      "text/plain": [
       "'cpu'"
      ]
     },
     "execution_count": 31,
     "metadata": {},
     "output_type": "execute_result"
    }
   ],
   "source": [
    "device = 'cuda:0' if torch.cuda.is_available else 'cpu'\n",
    "device"
   ]
  },
  {
   "cell_type": "code",
   "execution_count": 19,
   "id": "279a877e-e9df-4e21-846d-c99d92204fb6",
   "metadata": {},
   "outputs": [],
   "source": [
    "#Vectorize string data into numerical data more easily accessible to the model\n",
    "tokenizer = get_tokenizer('basic_english')\n",
    "vocabTr = build_vocab_from_iterator(map(tokenizer, TrainSentimentData['Text']))\n",
    "\n",
    "vocabTe = build_vocab_from_iterator(map(tokenizer, TestSentimentData['Text']))"
   ]
  },
  {
   "cell_type": "code",
   "execution_count": 20,
   "id": "11566b6e-cab7-4194-b04a-0be951c37a1e",
   "metadata": {},
   "outputs": [],
   "source": [
    "def train_vectorize_twts(text):\n",
    "    tokens = tokenizer(text)\n",
    "    indices = [int(vocabTr[token]) for token in tokens]\n",
    "    return indices\n",
    "\n",
    "def test_vectorize_twts(text):\n",
    "    tokens = tokenizer(text)\n",
    "    indices = [int(vocabTe[token]) for token in tokens]\n",
    "    return indices"
   ]
  },
  {
   "cell_type": "code",
   "execution_count": 21,
   "id": "651f2eea-ed27-4761-ae9c-755336beb686",
   "metadata": {},
   "outputs": [
    {
     "name": "stdout",
     "output_type": "stream",
     "text": [
      "   Sentiment                                               Text\n",
      "0          1                                   [0, 18, 69, 167]\n",
      "1          0                            [0, 0, 377, 4680, 3123]\n",
      "2          0                              [0, 39, 210, 661, 61]\n",
      "3          1  [22, 1241, 2282, 464, 152, 21, 4, 12276, 178, ...\n",
      "4          0                                  [0, 52, 32080, 6]\n",
      "   Sentiment                                               Text\n",
      "0          0              [5, 8, 150, 698, 228, 4649, 78947, 5]\n",
      "1          0        [23, 2428, 4, 40, 3534, 14, 14991, 4, 1438]\n",
      "2          1                   [0, 678, 77, 14, 20, 2108, 1321]\n",
      "3          1  [0, 55, 23, 86, 327, 775, 86, 4, 37, 1435, 160...\n",
      "4          1                                 [43, 3717, 66, 62]\n"
     ]
    }
   ],
   "source": [
    "#This gave me a lot of trouble since I didn't realize I needed to convert from DataFrame to a Pytorch Dataset\n",
    "VectorTrainSentimentDataSet = TrainSentimentData.copy()\n",
    "VectorTrainSentimentDataSet['Text'] = TrainSentimentData['Text'].apply(train_vectorize_twts)\n",
    "print(VectorTrainSentimentDataSet.head())\n",
    "\n",
    "VectorTestSentimentDataSet = TestSentimentData.copy()\n",
    "VectorTestSentimentDataSet['Text'] = TestSentimentData['Text'].apply(test_vectorize_twts)\n",
    "print(VectorTestSentimentDataSet.head())"
   ]
  },
  {
   "cell_type": "code",
   "execution_count": 22,
   "id": "6092a867-2df0-4f97-99e9-0d0aafd3eadc",
   "metadata": {},
   "outputs": [
    {
     "data": {
      "text/plain": [
       "array([[1, list([0, 18, 69, 167])],\n",
       "       [0, list([0, 0, 377, 4680, 3123])],\n",
       "       [0, list([0, 39, 210, 661, 61])],\n",
       "       ...,\n",
       "       [0, list([125, 135, 1645, 340, 96])],\n",
       "       [1, list([0, 27, 45841])],\n",
       "       [1, list([0, 4140, 243, 43, 265, 2145, 401])]], dtype=object)"
      ]
     },
     "execution_count": 22,
     "metadata": {},
     "output_type": "execute_result"
    }
   ],
   "source": [
    "#Turn pandas dataset into Numpy\n",
    "VectorTrainSentimentDataSet = VectorTrainSentimentDataSet.to_numpy()\n",
    "VectorTestSentimentDataSet = VectorTestSentimentDataSet.to_numpy()\n",
    "VectorTrainSentimentDataSet"
   ]
  },
  {
   "cell_type": "code",
   "execution_count": 23,
   "id": "2d8dd373-25b1-4790-b82d-7a951df83cce",
   "metadata": {},
   "outputs": [
    {
     "name": "stdout",
     "output_type": "stream",
     "text": [
      "(1278240, 1), (1278240,), (319561, 1), (319561,)\n"
     ]
    }
   ],
   "source": [
    "#Split up the Data\n",
    "Xtrain_sentiment = VectorTrainSentimentDataSet[:,1:]\n",
    "Ytrain_sentiment = VectorTrainSentimentDataSet[:,0]\n",
    "Xtest_sentiment = VectorTestSentimentDataSet[:,1:]\n",
    "Ytest_sentiment = VectorTestSentimentDataSet[:,0]\n",
    "print(f'{Xtrain_sentiment.shape}, {Ytrain_sentiment.shape}, {Xtest_sentiment.shape}, {Ytest_sentiment.shape}')"
   ]
  },
  {
   "cell_type": "code",
   "execution_count": 501,
   "id": "6770db59-c6cc-41d0-ae62-31e6c69c2d37",
   "metadata": {},
   "outputs": [],
   "source": [
    "\"\"\"\n",
    "There was a problem since I originally wanted to pad my data at the batch level, but I couldn't figure out if\n",
    "that was even possible, then I tried using pack_sequence and pad_packed_sequence to pad my data to the largest\n",
    "packed data point, but that isn't how the function worked, so I tried pad_sequence with pack_padded_sequence, which\n",
    "also didn't end up working because that wasn't how the function worked. Now this just pads to the biggest datapoint\n",
    "\"\"\""
   ]
  },
  {
   "cell_type": "code",
   "execution_count": 24,
   "id": "a74d4be1-27c3-4798-b0be-ffa557967dab",
   "metadata": {},
   "outputs": [],
   "source": [
    "def prepSentimentData(X, y):\n",
    "    temp_X = []\n",
    "    for row in X:\n",
    "        for vector_text in row:\n",
    "            temp_X.append(torch.tensor(vector_text).float()) #Turn data into float tensors\n",
    "    temp_X = pad_sequence(temp_X, batch_first=True) #pad the data\n",
    "    Final_X = temp_X\n",
    "    for pos, label in enumerate(y):\n",
    "        if label == 4:\n",
    "            y[pos] = 1\n",
    "    return temp_X, y"
   ]
  },
  {
   "cell_type": "code",
   "execution_count": 25,
   "id": "f9a2aed2-27f8-40c2-a75d-345231598ce1",
   "metadata": {},
   "outputs": [
    {
     "name": "stdout",
     "output_type": "stream",
     "text": [
      "Train Data: X: torch.Size([1278240, 33]), Y: (1278240,)\n",
      "Test Data: X: torch.Size([319561, 30]), Y: (319561,)\n",
      "-----------------Final Preprocessing Complete-----------------\n"
     ]
    }
   ],
   "source": [
    "FXtrain_sentiment, FYtrain_sentiment = prepSentimentData(Xtrain_sentiment, Ytrain_sentiment)\n",
    "FXtest_sentiment, FYtest_sentiment = prepSentimentData(Xtest_sentiment, Ytest_sentiment)\n",
    "print(f'Train Data: X: {FXtrain_sentiment.shape}, Y: {FYtrain_sentiment.shape}')\n",
    "print(f'Test Data: X: {FXtest_sentiment.shape}, Y: {FYtest_sentiment.shape}')\n",
    "print('-----------------Final Preprocessing Complete-----------------')"
   ]
  },
  {
   "cell_type": "code",
   "execution_count": 26,
   "id": "62baeb00-2863-47f2-978d-e971455f7b66",
   "metadata": {
    "tags": []
   },
   "outputs": [
    {
     "name": "stdout",
     "output_type": "stream",
     "text": [
      "Test: torch.Size([319561, 33])\n",
      "Train: torch.Size([1278240, 33])\n"
     ]
    }
   ],
   "source": [
    "class SentimentDataset(Dataset):\n",
    "    def __init__(self, X, y, adjust=False):\n",
    "        #If dimensions are incorrect, manually fix them\n",
    "        if adjust:\n",
    "            shaped = torch.zeros(len(X), 33)\n",
    "            shaped[:,:30] = X\n",
    "            X = shaped   \n",
    "        self.X = X\n",
    "        self.y = y\n",
    "        \n",
    "    def __len__(self):\n",
    "        return len(self.X)\n",
    "    \n",
    "    def __getitem__(self, idx):\n",
    "        return self.X[idx], self.y[idx]\n",
    "\n",
    "test_sentiment_Dset = SentimentDataset(FXtest_sentiment, FYtest_sentiment, True)\n",
    "print(f'Test: {test_sentiment_Dset[:][0].shape}')\n",
    "train_sentiment_Dset = SentimentDataset(FXtrain_sentiment, FYtrain_sentiment)\n",
    "print(f'Train: {train_sentiment_Dset[:][0].shape}')"
   ]
  },
  {
   "cell_type": "code",
   "execution_count": 12,
   "id": "7a860b63-3296-405b-9a95-3910672ab450",
   "metadata": {
    "scrolled": true
   },
   "outputs": [
    {
     "name": "stdout",
     "output_type": "stream",
     "text": [
      "(tensor([[6.0000e+00, 9.0000e+00, 1.5100e+02, 6.9900e+02, 2.2900e+02, 4.6500e+03,\n",
      "         7.8948e+04, 6.0000e+00, 0.0000e+00, 0.0000e+00, 0.0000e+00, 0.0000e+00,\n",
      "         0.0000e+00, 0.0000e+00, 0.0000e+00, 0.0000e+00, 0.0000e+00, 0.0000e+00,\n",
      "         0.0000e+00, 0.0000e+00, 0.0000e+00, 0.0000e+00, 0.0000e+00, 0.0000e+00,\n",
      "         0.0000e+00, 0.0000e+00, 0.0000e+00, 0.0000e+00, 0.0000e+00, 0.0000e+00,\n",
      "         0.0000e+00, 0.0000e+00, 0.0000e+00],\n",
      "        [2.4000e+01, 2.4290e+03, 5.0000e+00, 4.1000e+01, 3.5350e+03, 1.5000e+01,\n",
      "         1.4992e+04, 5.0000e+00, 1.4390e+03, 0.0000e+00, 0.0000e+00, 0.0000e+00,\n",
      "         0.0000e+00, 0.0000e+00, 0.0000e+00, 0.0000e+00, 0.0000e+00, 0.0000e+00,\n",
      "         0.0000e+00, 0.0000e+00, 0.0000e+00, 0.0000e+00, 0.0000e+00, 0.0000e+00,\n",
      "         0.0000e+00, 0.0000e+00, 0.0000e+00, 0.0000e+00, 0.0000e+00, 0.0000e+00,\n",
      "         0.0000e+00, 0.0000e+00, 0.0000e+00],\n",
      "        [1.0000e+00, 6.7900e+02, 7.8000e+01, 1.5000e+01, 2.1000e+01, 2.1090e+03,\n",
      "         1.3220e+03, 0.0000e+00, 0.0000e+00, 0.0000e+00, 0.0000e+00, 0.0000e+00,\n",
      "         0.0000e+00, 0.0000e+00, 0.0000e+00, 0.0000e+00, 0.0000e+00, 0.0000e+00,\n",
      "         0.0000e+00, 0.0000e+00, 0.0000e+00, 0.0000e+00, 0.0000e+00, 0.0000e+00,\n",
      "         0.0000e+00, 0.0000e+00, 0.0000e+00, 0.0000e+00, 0.0000e+00, 0.0000e+00,\n",
      "         0.0000e+00, 0.0000e+00, 0.0000e+00],\n",
      "        [1.0000e+00, 5.6000e+01, 2.4000e+01, 8.7000e+01, 3.2800e+02, 7.7600e+02,\n",
      "         8.7000e+01, 5.0000e+00, 3.8000e+01, 1.4360e+03, 1.6100e+02, 1.5000e+01,\n",
      "         0.0000e+00, 0.0000e+00, 0.0000e+00, 0.0000e+00, 0.0000e+00, 0.0000e+00,\n",
      "         0.0000e+00, 0.0000e+00, 0.0000e+00, 0.0000e+00, 0.0000e+00, 0.0000e+00,\n",
      "         0.0000e+00, 0.0000e+00, 0.0000e+00, 0.0000e+00, 0.0000e+00, 0.0000e+00,\n",
      "         0.0000e+00, 0.0000e+00, 0.0000e+00],\n",
      "        [4.4000e+01, 3.7180e+03, 6.7000e+01, 6.3000e+01, 0.0000e+00, 0.0000e+00,\n",
      "         0.0000e+00, 0.0000e+00, 0.0000e+00, 0.0000e+00, 0.0000e+00, 0.0000e+00,\n",
      "         0.0000e+00, 0.0000e+00, 0.0000e+00, 0.0000e+00, 0.0000e+00, 0.0000e+00,\n",
      "         0.0000e+00, 0.0000e+00, 0.0000e+00, 0.0000e+00, 0.0000e+00, 0.0000e+00,\n",
      "         0.0000e+00, 0.0000e+00, 0.0000e+00, 0.0000e+00, 0.0000e+00, 0.0000e+00,\n",
      "         0.0000e+00, 0.0000e+00, 0.0000e+00]]), array([0, 0, 1, 1, 1], dtype=object))\n"
     ]
    }
   ],
   "source": [
    "print(test_sentiment_Dset[0:5])"
   ]
  },
  {
   "cell_type": "code",
   "execution_count": 27,
   "id": "683ee779-4cb7-419b-b835-ea964e73b8e8",
   "metadata": {},
   "outputs": [],
   "source": [
    "#Turn data into DataLoaders\n",
    "batch_size = 100\n",
    "n_iters = 38400\n",
    "num_epochs = int(n_iters / (len(train_sentiment_Dset) / batch_size))\n",
    "train_loader = DataLoader(dataset=train_sentiment_Dset, batch_size=batch_size, shuffle=True)\n",
    "test_loader = DataLoader(dataset=test_sentiment_Dset, batch_size=batch_size, shuffle=False)"
   ]
  },
  {
   "cell_type": "code",
   "execution_count": 28,
   "id": "a78c62ed-bdc6-40a6-993a-de2548a00d8f",
   "metadata": {},
   "outputs": [
    {
     "ename": "NameError",
     "evalue": "name 'device' is not defined",
     "output_type": "error",
     "traceback": [
      "\u001b[1;31m---------------------------------------------------------------------------\u001b[0m",
      "\u001b[1;31mNameError\u001b[0m                                 Traceback (most recent call last)",
      "Cell \u001b[1;32mIn[28], line 4\u001b[0m\n\u001b[0;32m      1\u001b[0m \u001b[38;5;66;03m#Checking DataLoader object\u001b[39;00m\n\u001b[0;32m      2\u001b[0m \u001b[38;5;28;01mfor\u001b[39;00m _, batch \u001b[38;5;129;01min\u001b[39;00m \u001b[38;5;28menumerate\u001b[39m(train_loader):\n\u001b[0;32m      3\u001b[0m     \u001b[38;5;66;03m#This will also be a test to see if device is working\u001b[39;00m\n\u001b[1;32m----> 4\u001b[0m     x_batch, y_batch \u001b[38;5;241m=\u001b[39m batch[\u001b[38;5;241m0\u001b[39m]\u001b[38;5;241m.\u001b[39mto(device), batch[\u001b[38;5;241m1\u001b[39m]\u001b[38;5;241m.\u001b[39mto(device)\n\u001b[0;32m      5\u001b[0m     \u001b[38;5;28mprint\u001b[39m(x_batch[\u001b[38;5;241m0\u001b[39m])\n\u001b[0;32m      6\u001b[0m     \u001b[38;5;28mprint\u001b[39m(x_batch\u001b[38;5;241m.\u001b[39mshape, y_batch\u001b[38;5;241m.\u001b[39mshape)\n",
      "\u001b[1;31mNameError\u001b[0m: name 'device' is not defined"
     ]
    }
   ],
   "source": [
    "#Checking DataLoader object\n",
    "for _, batch in enumerate(train_loader):\n",
    "    #This will also be a test to see if device is working\n",
    "    x_batch, y_batch = batch[0].to(device), batch[1].to(device)\n",
    "    print(x_batch[0])\n",
    "    print(x_batch.shape, y_batch.shape)\n",
    "    break"
   ]
  },
  {
   "cell_type": "code",
   "execution_count": 8,
   "id": "394da48a-0ffd-488b-a2b4-a36e2d42af4e",
   "metadata": {},
   "outputs": [],
   "source": [
    "#(num_layers, batch_size, hidden_size)\n",
    "class SentimentAnalysisLSTMModel(nn.Module):\n",
    "    def __init__(self, input_dim, hidden_dim, layer_dim, output_dim):\n",
    "        super(SentimentAnalysisLSTMModel, self).__init__()\n",
    "        self.hidden_dim = hidden_dim\n",
    "        self.layer_dim = layer_dim\n",
    "        self.lstm = nn.LSTM(input_dim, hidden_dim, layer_dim, batch_first=True)\n",
    "        self.fc = nn.Linear(hidden_dim, output_dim)\n",
    "        \n",
    "    def forward(self, x):\n",
    "        x = x[:,:,None]\n",
    "        x = torch.permute(x, (0, 2, 1))\n",
    "        batch_len = x.size(0)\n",
    "        hidden = torch.zeros(self.layer_dim, batch_len, self.hidden_dim).to(device)\n",
    "        cell = torch.zeros(self.layer_dim, batch_len, self.hidden_dim).to(device)\n",
    "        \n",
    "        out, _ = self.lstm(x, (hidden, cell))\n",
    "        out = self.fc(out[:,-1,:])\n",
    "        return out"
   ]
  },
  {
   "cell_type": "code",
   "execution_count": 17,
   "id": "c6bcc11a-a3e7-4161-8074-bb024126bf7d",
   "metadata": {},
   "outputs": [
    {
     "name": "stdout",
     "output_type": "stream",
     "text": [
      "33\n"
     ]
    }
   ],
   "source": [
    "#Input dimension is equal to the length of my vocab list\n",
    "#Output dimension is 2 as they are either positive or negative\n",
    "#Need number of hidden dimensions (start with 1 or 2 and adjust according to results)\n",
    "#Need dimension of the hidden dimensions (Try 200)\n",
    "input_dim = len(train_sentiment_Dset[0][0])\n",
    "print(input_dim)\n",
    "hidden_dim = 200\n",
    "layer_dim = 2\n",
    "output_dim = 2\n",
    "\n",
    "LSTMmodel = SentimentAnalysisLSTMModel(input_dim, hidden_dim, layer_dim, output_dim)\n",
    "LSTMmodel.to(device)\n",
    "loss_func = nn.CrossEntropyLoss()\n",
    "learning_rate = 0.1\n",
    "optimizer = optim.SGD(LSTMmodel.parameters(), lr = learning_rate)"
   ]
  },
  {
   "cell_type": "code",
   "execution_count": 18,
   "id": "a35c4c8a-6406-499f-b823-df027e11229a",
   "metadata": {},
   "outputs": [
    {
     "name": "stdout",
     "output_type": "stream",
     "text": [
      "10\n",
      "torch.Size([800, 33])\n",
      "torch.Size([800, 200])\n",
      "torch.Size([800])\n",
      "torch.Size([800])\n",
      "torch.Size([800, 200])\n",
      "torch.Size([800, 200])\n",
      "torch.Size([800])\n",
      "torch.Size([800])\n",
      "torch.Size([2, 200])\n",
      "torch.Size([2])\n"
     ]
    }
   ],
   "source": [
    "print(len(list(LSTMmodel.parameters())))\n",
    "for i in range(len(list(LSTMmodel.parameters()))):\n",
    "    print(list(LSTMmodel.parameters())[i].size())"
   ]
  },
  {
   "cell_type": "code",
   "execution_count": 19,
   "id": "5a573fdd-99bb-4651-8a96-5337aa911455",
   "metadata": {},
   "outputs": [],
   "source": [
    "def LSTM_train_epoch():\n",
    "    LSTMmodel.train(True)\n",
    "    print(f'Epoch: {epoch+1}')\n",
    "    running_loss = 0.0\n",
    "    \n",
    "    for idx, batch in enumerate(train_loader):\n",
    "        text, labels = batch[0].to(device), batch[1].to(device)\n",
    "        \n",
    "        outputs = LSTMmodel(text)\n",
    "        loss = loss_func(outputs, labels)\n",
    "        running_loss += loss.item()\n",
    "        \n",
    "        optimizer.zero_grad()\n",
    "        loss.backward()\n",
    "        optimizer.step()\n",
    "        \n",
    "        if (idx % 1000) == 0:\n",
    "            avg_loss_bat = running_loss / 100\n",
    "            print(f'Batch {idx+1}, Loss: {avg_loss_bat}')\n",
    "            running_loss = 0.0\n",
    "    print()"
   ]
  },
  {
   "cell_type": "code",
   "execution_count": 20,
   "id": "4c46bb4b-f93f-41c4-9ebf-ea4ab6985611",
   "metadata": {},
   "outputs": [],
   "source": [
    "def LSTM_validate_epoch():\n",
    "    LSTMmodel.train(False)\n",
    "    running_loss = 0.0\n",
    "    \n",
    "    for idx, batch in enumerate(test_loader):\n",
    "        text, labels = batch[0].to(device), batch[1].to(device)\n",
    "        \n",
    "        with torch.no_grad():\n",
    "            outputs = LSTMmodel(text)\n",
    "            loss = loss_func(outputs, labels)\n",
    "            running_loss += loss.item()\n",
    "        \n",
    "    avg_loss_bat = running_loss / len(test_loader)\n",
    "    print(f'Val Loss {avg_loss_bat}')\n",
    "    print('-------------------------\\n')"
   ]
  },
  {
   "cell_type": "code",
   "execution_count": 193,
   "id": "d5780239-d35f-4ff6-bc20-d64682c97353",
   "metadata": {},
   "outputs": [
    {
     "name": "stdout",
     "output_type": "stream",
     "text": [
      "Epoch: 1\n",
      "Batch 1, Loss: 0.006824893951416016\n"
     ]
    },
    {
     "ename": "KeyboardInterrupt",
     "evalue": "",
     "output_type": "error",
     "traceback": [
      "\u001b[1;31m---------------------------------------------------------------------------\u001b[0m",
      "\u001b[1;31mKeyboardInterrupt\u001b[0m                         Traceback (most recent call last)",
      "Cell \u001b[1;32mIn[193], line 2\u001b[0m\n\u001b[0;32m      1\u001b[0m \u001b[38;5;28;01mfor\u001b[39;00m epoch \u001b[38;5;129;01min\u001b[39;00m \u001b[38;5;28mrange\u001b[39m(num_epochs):\n\u001b[1;32m----> 2\u001b[0m     train_epoch()\n\u001b[0;32m      3\u001b[0m     validate_epoch()\n",
      "Cell \u001b[1;32mIn[191], line 16\u001b[0m, in \u001b[0;36mtrain_epoch\u001b[1;34m()\u001b[0m\n\u001b[0;32m     14\u001b[0m optimizer\u001b[38;5;241m.\u001b[39mzero_grad()\n\u001b[0;32m     15\u001b[0m loss\u001b[38;5;241m.\u001b[39mbackward()\n\u001b[1;32m---> 16\u001b[0m optimizer\u001b[38;5;241m.\u001b[39mstep()\n\u001b[0;32m     18\u001b[0m \u001b[38;5;28;01mif\u001b[39;00m (idx \u001b[38;5;241m%\u001b[39m \u001b[38;5;241m1000\u001b[39m) \u001b[38;5;241m==\u001b[39m \u001b[38;5;241m0\u001b[39m:\n\u001b[0;32m     19\u001b[0m     avg_loss_bat \u001b[38;5;241m=\u001b[39m running_loss \u001b[38;5;241m/\u001b[39m \u001b[38;5;241m100\u001b[39m\n",
      "File \u001b[1;32m~\\anaconda3\\Lib\\site-packages\\torch\\optim\\optimizer.py:385\u001b[0m, in \u001b[0;36mOptimizer.profile_hook_step.<locals>.wrapper\u001b[1;34m(*args, **kwargs)\u001b[0m\n\u001b[0;32m    380\u001b[0m         \u001b[38;5;28;01melse\u001b[39;00m:\n\u001b[0;32m    381\u001b[0m             \u001b[38;5;28;01mraise\u001b[39;00m \u001b[38;5;167;01mRuntimeError\u001b[39;00m(\n\u001b[0;32m    382\u001b[0m                 \u001b[38;5;124mf\u001b[39m\u001b[38;5;124m\"\u001b[39m\u001b[38;5;132;01m{\u001b[39;00mfunc\u001b[38;5;132;01m}\u001b[39;00m\u001b[38;5;124m must return None or a tuple of (new_args, new_kwargs), but got \u001b[39m\u001b[38;5;132;01m{\u001b[39;00mresult\u001b[38;5;132;01m}\u001b[39;00m\u001b[38;5;124m.\u001b[39m\u001b[38;5;124m\"\u001b[39m\n\u001b[0;32m    383\u001b[0m             )\n\u001b[1;32m--> 385\u001b[0m out \u001b[38;5;241m=\u001b[39m func(\u001b[38;5;241m*\u001b[39margs, \u001b[38;5;241m*\u001b[39m\u001b[38;5;241m*\u001b[39mkwargs)\n\u001b[0;32m    386\u001b[0m \u001b[38;5;28mself\u001b[39m\u001b[38;5;241m.\u001b[39m_optimizer_step_code()\n\u001b[0;32m    388\u001b[0m \u001b[38;5;66;03m# call optimizer step post hooks\u001b[39;00m\n",
      "File \u001b[1;32m~\\anaconda3\\Lib\\site-packages\\torch\\optim\\optimizer.py:76\u001b[0m, in \u001b[0;36m_use_grad_for_differentiable.<locals>._use_grad\u001b[1;34m(self, *args, **kwargs)\u001b[0m\n\u001b[0;32m     74\u001b[0m     torch\u001b[38;5;241m.\u001b[39mset_grad_enabled(\u001b[38;5;28mself\u001b[39m\u001b[38;5;241m.\u001b[39mdefaults[\u001b[38;5;124m'\u001b[39m\u001b[38;5;124mdifferentiable\u001b[39m\u001b[38;5;124m'\u001b[39m])\n\u001b[0;32m     75\u001b[0m     torch\u001b[38;5;241m.\u001b[39m_dynamo\u001b[38;5;241m.\u001b[39mgraph_break()\n\u001b[1;32m---> 76\u001b[0m     ret \u001b[38;5;241m=\u001b[39m func(\u001b[38;5;28mself\u001b[39m, \u001b[38;5;241m*\u001b[39margs, \u001b[38;5;241m*\u001b[39m\u001b[38;5;241m*\u001b[39mkwargs)\n\u001b[0;32m     77\u001b[0m \u001b[38;5;28;01mfinally\u001b[39;00m:\n\u001b[0;32m     78\u001b[0m     torch\u001b[38;5;241m.\u001b[39m_dynamo\u001b[38;5;241m.\u001b[39mgraph_break()\n",
      "File \u001b[1;32m~\\anaconda3\\Lib\\site-packages\\torch\\optim\\sgd.py:75\u001b[0m, in \u001b[0;36mSGD.step\u001b[1;34m(self, closure)\u001b[0m\n\u001b[0;32m     71\u001b[0m momentum_buffer_list \u001b[38;5;241m=\u001b[39m []\n\u001b[0;32m     73\u001b[0m has_sparse_grad \u001b[38;5;241m=\u001b[39m \u001b[38;5;28mself\u001b[39m\u001b[38;5;241m.\u001b[39m_init_group(group, params_with_grad, d_p_list, momentum_buffer_list)\n\u001b[1;32m---> 75\u001b[0m sgd(params_with_grad,\n\u001b[0;32m     76\u001b[0m     d_p_list,\n\u001b[0;32m     77\u001b[0m     momentum_buffer_list,\n\u001b[0;32m     78\u001b[0m     weight_decay\u001b[38;5;241m=\u001b[39mgroup[\u001b[38;5;124m'\u001b[39m\u001b[38;5;124mweight_decay\u001b[39m\u001b[38;5;124m'\u001b[39m],\n\u001b[0;32m     79\u001b[0m     momentum\u001b[38;5;241m=\u001b[39mgroup[\u001b[38;5;124m'\u001b[39m\u001b[38;5;124mmomentum\u001b[39m\u001b[38;5;124m'\u001b[39m],\n\u001b[0;32m     80\u001b[0m     lr\u001b[38;5;241m=\u001b[39mgroup[\u001b[38;5;124m'\u001b[39m\u001b[38;5;124mlr\u001b[39m\u001b[38;5;124m'\u001b[39m],\n\u001b[0;32m     81\u001b[0m     dampening\u001b[38;5;241m=\u001b[39mgroup[\u001b[38;5;124m'\u001b[39m\u001b[38;5;124mdampening\u001b[39m\u001b[38;5;124m'\u001b[39m],\n\u001b[0;32m     82\u001b[0m     nesterov\u001b[38;5;241m=\u001b[39mgroup[\u001b[38;5;124m'\u001b[39m\u001b[38;5;124mnesterov\u001b[39m\u001b[38;5;124m'\u001b[39m],\n\u001b[0;32m     83\u001b[0m     maximize\u001b[38;5;241m=\u001b[39mgroup[\u001b[38;5;124m'\u001b[39m\u001b[38;5;124mmaximize\u001b[39m\u001b[38;5;124m'\u001b[39m],\n\u001b[0;32m     84\u001b[0m     has_sparse_grad\u001b[38;5;241m=\u001b[39mhas_sparse_grad,\n\u001b[0;32m     85\u001b[0m     foreach\u001b[38;5;241m=\u001b[39mgroup[\u001b[38;5;124m'\u001b[39m\u001b[38;5;124mforeach\u001b[39m\u001b[38;5;124m'\u001b[39m])\n\u001b[0;32m     87\u001b[0m \u001b[38;5;66;03m# update momentum_buffers in state\u001b[39;00m\n\u001b[0;32m     88\u001b[0m \u001b[38;5;28;01mfor\u001b[39;00m p, momentum_buffer \u001b[38;5;129;01min\u001b[39;00m \u001b[38;5;28mzip\u001b[39m(params_with_grad, momentum_buffer_list):\n",
      "File \u001b[1;32m~\\anaconda3\\Lib\\site-packages\\torch\\optim\\sgd.py:220\u001b[0m, in \u001b[0;36msgd\u001b[1;34m(params, d_p_list, momentum_buffer_list, has_sparse_grad, foreach, weight_decay, momentum, lr, dampening, nesterov, maximize)\u001b[0m\n\u001b[0;32m    217\u001b[0m \u001b[38;5;28;01melse\u001b[39;00m:\n\u001b[0;32m    218\u001b[0m     func \u001b[38;5;241m=\u001b[39m _single_tensor_sgd\n\u001b[1;32m--> 220\u001b[0m func(params,\n\u001b[0;32m    221\u001b[0m      d_p_list,\n\u001b[0;32m    222\u001b[0m      momentum_buffer_list,\n\u001b[0;32m    223\u001b[0m      weight_decay\u001b[38;5;241m=\u001b[39mweight_decay,\n\u001b[0;32m    224\u001b[0m      momentum\u001b[38;5;241m=\u001b[39mmomentum,\n\u001b[0;32m    225\u001b[0m      lr\u001b[38;5;241m=\u001b[39mlr,\n\u001b[0;32m    226\u001b[0m      dampening\u001b[38;5;241m=\u001b[39mdampening,\n\u001b[0;32m    227\u001b[0m      nesterov\u001b[38;5;241m=\u001b[39mnesterov,\n\u001b[0;32m    228\u001b[0m      has_sparse_grad\u001b[38;5;241m=\u001b[39mhas_sparse_grad,\n\u001b[0;32m    229\u001b[0m      maximize\u001b[38;5;241m=\u001b[39mmaximize)\n",
      "File \u001b[1;32m~\\anaconda3\\Lib\\site-packages\\torch\\optim\\sgd.py:263\u001b[0m, in \u001b[0;36m_single_tensor_sgd\u001b[1;34m(params, d_p_list, momentum_buffer_list, weight_decay, momentum, lr, dampening, nesterov, maximize, has_sparse_grad)\u001b[0m\n\u001b[0;32m    260\u001b[0m     \u001b[38;5;28;01melse\u001b[39;00m:\n\u001b[0;32m    261\u001b[0m         d_p \u001b[38;5;241m=\u001b[39m buf\n\u001b[1;32m--> 263\u001b[0m param\u001b[38;5;241m.\u001b[39madd_(d_p, alpha\u001b[38;5;241m=\u001b[39m\u001b[38;5;241m-\u001b[39mlr)\n",
      "\u001b[1;31mKeyboardInterrupt\u001b[0m: "
     ]
    }
   ],
   "source": [
    "for epoch in range(num_epochs):\n",
    "    LSTM_train_epoch()\n",
    "    LSTM_validate_epoch()"
   ]
  },
  {
   "cell_type": "code",
   "execution_count": 14,
   "id": "1dba7d27-73d0-49d8-aef3-c3f914f4e52c",
   "metadata": {},
   "outputs": [],
   "source": [
    "#Run on primary computer\n",
    "\"\"\"torch.save(LSTMmodel, 'TwitterSentimentModel.pt')\"\"\"\n",
    "\n",
    "#Run on secondary computer\n",
    "MainModel = torch.load('TwitterSentimentModel.pt', map_location=torch.device('cpu'))"
   ]
  },
  {
   "cell_type": "code",
   "execution_count": 35,
   "id": "68adbe1b-eca6-4d35-adf6-61ef3ba8d6d9",
   "metadata": {},
   "outputs": [],
   "source": [
    "def LSTM_accTest_epoch():\n",
    "    MainModel.train(False)\n",
    "    running_loss = 0.0\n",
    "    correct = 0\n",
    "    total = 0\n",
    "    for idx, batch in enumerate(test_loader):\n",
    "        text, labels = batch[0], batch[1]\n",
    "        with torch.no_grad():\n",
    "            correct = 0\n",
    "            total = 0\n",
    "            outputs = MainModel(text)\n",
    "            _, predicted = torch.max(outputs.data, 1)\n",
    "            total += labels.size(0)\n",
    "            correct += (predicted == labels).sum()\n",
    "    accuracy = 100 * correct / total\n",
    "    print('Iteration: {}. Accuracy: {}'.format(iter, accuracy))"
   ]
  },
  {
   "cell_type": "code",
   "execution_count": 36,
   "id": "7686f843-08b6-4eec-8791-833a49da4faf",
   "metadata": {},
   "outputs": [
    {
     "name": "stdout",
     "output_type": "stream",
     "text": [
      "Iteration: <built-in function iter>. Accuracy: 52.459014892578125\n",
      "Iteration: <built-in function iter>. Accuracy: 52.459014892578125\n",
      "Iteration: <built-in function iter>. Accuracy: 52.459014892578125\n"
     ]
    }
   ],
   "source": [
    "for epoch in range(num_epochs):\n",
    "    LSTM_accTest_epoch()"
   ]
  },
  {
   "cell_type": "code",
   "execution_count": 21,
   "id": "846ab932-4471-4c18-8aa2-a8ba02880db6",
   "metadata": {},
   "outputs": [],
   "source": [
    "#Transfer learning version of my sentiment analysis model using XLM-Roberta\n",
    "#What I need to do is use the transforms on the data, then make the functions to run the model using the data\n",
    "xlmr = torchtext.models.XLMR_BASE_ENCODER\n",
    "class_head = torchtext.models.RobertaClassificationHead(num_classes=2, input_dim = 768)\n",
    "TLearn_model = xlmr.get_model(head = class_head)\n",
    "transform = xlmr.transform()"
   ]
  },
  {
   "cell_type": "code",
   "execution_count": 22,
   "id": "158c1ead-2cc0-4bd4-a63e-7e0cea68c6ac",
   "metadata": {},
   "outputs": [
    {
     "data": {
      "text/plain": [
       "array([[1, 'username m follow post'],\n",
       "       [0, 'username username jealous yous liverpool'],\n",
       "       [0, 'username haha funny lonely school'],\n",
       "       ...,\n",
       "       [0, 'omg hot thunderstorm suppose cool'],\n",
       "       [1, 'username oh boyo'],\n",
       "       [1, 'username banner hang right remember ummm easy']], dtype=object)"
      ]
     },
     "execution_count": 22,
     "metadata": {},
     "output_type": "execute_result"
    }
   ],
   "source": [
    "preTrans_train_dset, preTrans_test_dset = TrainSentimentData, TestSentimentData\n",
    "#Turn pandas dataset into Numpy\n",
    "preTrans_train_dset = preTrans_train_dset.to_numpy()\n",
    "preTrans_test_dset = preTrans_test_dset.to_numpy()\n",
    "preTrans_train_dset"
   ]
  },
  {
   "cell_type": "code",
   "execution_count": 23,
   "id": "9feaa9a2-11b8-45bf-a013-da04a6dc07ee",
   "metadata": {},
   "outputs": [
    {
     "name": "stdout",
     "output_type": "stream",
     "text": [
      "[tensor([    0, 38937, 11627,   347, 28960,  1305,     2]), tensor([     0,  38937,  11627,  38937,  11627,     55,   7779,    223,    398,\n",
      "             7,      6, 134148,  20740,      2]), tensor([    0, 38937, 11627, 22010, 99864,   459,    86,   538, 10696,     2])]\n"
     ]
    }
   ],
   "source": [
    "#Split Data\n",
    "XpreTrans_train_dset, YLearn_train_dset = preTrans_train_dset[:,1], preTrans_train_dset[:,0]\n",
    "XpreTrans_test_dset, YLearn_test_dset = preTrans_test_dset[:,1], preTrans_test_dset[:,0]\n",
    "#Run Transforms on data\n",
    "XLearn_train_dset = [to_tensor(transform(row), padding_value=0) for row in XpreTrans_train_dset]\n",
    "XLearn_test_dset = [to_tensor(transform(row), padding_value=0) for row in XpreTrans_test_dset]\n",
    "print(XLearn_train_dset[0:3])"
   ]
  },
  {
   "cell_type": "code",
   "execution_count": 24,
   "id": "e739d49c-e11d-417f-b58a-a855cc8bd69f",
   "metadata": {},
   "outputs": [
    {
     "name": "stdout",
     "output_type": "stream",
     "text": [
      "Finished\n"
     ]
    }
   ],
   "source": [
    "#make the program to run the transfer model\n",
    "class TransferSentimentDataset(Dataset):\n",
    "    def __init__(self, X, y):\n",
    "        self.X = X\n",
    "        self.y = y\n",
    "        \n",
    "    def __len__(self):\n",
    "        return len(self.X)\n",
    "    \n",
    "    def __getitem__(self, idx):\n",
    "        return self.X[idx], self.y[idx]\n",
    "\n",
    "learn_train_dataset = TransferSentimentDataset(XLearn_train_dset, YLearn_train_dset)\n",
    "learn_test_dataset = TransferSentimentDataset(XLearn_test_dset, YLearn_test_dset)\n",
    "print('Finished')"
   ]
  },
  {
   "cell_type": "code",
   "execution_count": 26,
   "id": "a6fe629e-ee47-4a06-95a1-8706602bf82d",
   "metadata": {},
   "outputs": [
    {
     "ename": "RuntimeError",
     "evalue": "stack expects each tensor to be equal size, but got [11] at entry 0 and [9] at entry 1",
     "output_type": "error",
     "traceback": [
      "\u001b[1;31m---------------------------------------------------------------------------\u001b[0m",
      "\u001b[1;31mRuntimeError\u001b[0m                              Traceback (most recent call last)",
      "Cell \u001b[1;32mIn[26], line 9\u001b[0m\n\u001b[0;32m      6\u001b[0m learn_test_loader \u001b[38;5;241m=\u001b[39m DataLoader(dataset\u001b[38;5;241m=\u001b[39mlearn_test_dataset, batch_size\u001b[38;5;241m=\u001b[39mbatch_size, shuffle\u001b[38;5;241m=\u001b[39m\u001b[38;5;28;01mFalse\u001b[39;00m)\n\u001b[0;32m      8\u001b[0m \u001b[38;5;66;03m#Checking DataLoader object\u001b[39;00m\n\u001b[1;32m----> 9\u001b[0m \u001b[38;5;28;01mfor\u001b[39;00m _, batch \u001b[38;5;129;01min\u001b[39;00m \u001b[38;5;28menumerate\u001b[39m(learn_train_loader):\n\u001b[0;32m     10\u001b[0m     \u001b[38;5;66;03m#This will also be a test to see if device is working\u001b[39;00m\n\u001b[0;32m     11\u001b[0m     \u001b[38;5;66;03m#Re-add '.to(device)' later to batch[0] and [1]\u001b[39;00m\n\u001b[0;32m     12\u001b[0m     x_batch, y_batch \u001b[38;5;241m=\u001b[39m batch[\u001b[38;5;241m0\u001b[39m], batch[\u001b[38;5;241m1\u001b[39m]\n\u001b[0;32m     13\u001b[0m     \u001b[38;5;28mprint\u001b[39m(x_batch[\u001b[38;5;241m0\u001b[39m])\n",
      "File \u001b[1;32m~\\anaconda3\\Lib\\site-packages\\torch\\utils\\data\\dataloader.py:631\u001b[0m, in \u001b[0;36m_BaseDataLoaderIter.__next__\u001b[1;34m(self)\u001b[0m\n\u001b[0;32m    628\u001b[0m \u001b[38;5;28;01mif\u001b[39;00m \u001b[38;5;28mself\u001b[39m\u001b[38;5;241m.\u001b[39m_sampler_iter \u001b[38;5;129;01mis\u001b[39;00m \u001b[38;5;28;01mNone\u001b[39;00m:\n\u001b[0;32m    629\u001b[0m     \u001b[38;5;66;03m# TODO(https://github.com/pytorch/pytorch/issues/76750)\u001b[39;00m\n\u001b[0;32m    630\u001b[0m     \u001b[38;5;28mself\u001b[39m\u001b[38;5;241m.\u001b[39m_reset()  \u001b[38;5;66;03m# type: ignore[call-arg]\u001b[39;00m\n\u001b[1;32m--> 631\u001b[0m data \u001b[38;5;241m=\u001b[39m \u001b[38;5;28mself\u001b[39m\u001b[38;5;241m.\u001b[39m_next_data()\n\u001b[0;32m    632\u001b[0m \u001b[38;5;28mself\u001b[39m\u001b[38;5;241m.\u001b[39m_num_yielded \u001b[38;5;241m+\u001b[39m\u001b[38;5;241m=\u001b[39m \u001b[38;5;241m1\u001b[39m\n\u001b[0;32m    633\u001b[0m \u001b[38;5;28;01mif\u001b[39;00m \u001b[38;5;28mself\u001b[39m\u001b[38;5;241m.\u001b[39m_dataset_kind \u001b[38;5;241m==\u001b[39m _DatasetKind\u001b[38;5;241m.\u001b[39mIterable \u001b[38;5;129;01mand\u001b[39;00m \\\n\u001b[0;32m    634\u001b[0m         \u001b[38;5;28mself\u001b[39m\u001b[38;5;241m.\u001b[39m_IterableDataset_len_called \u001b[38;5;129;01mis\u001b[39;00m \u001b[38;5;129;01mnot\u001b[39;00m \u001b[38;5;28;01mNone\u001b[39;00m \u001b[38;5;129;01mand\u001b[39;00m \\\n\u001b[0;32m    635\u001b[0m         \u001b[38;5;28mself\u001b[39m\u001b[38;5;241m.\u001b[39m_num_yielded \u001b[38;5;241m>\u001b[39m \u001b[38;5;28mself\u001b[39m\u001b[38;5;241m.\u001b[39m_IterableDataset_len_called:\n",
      "File \u001b[1;32m~\\anaconda3\\Lib\\site-packages\\torch\\utils\\data\\dataloader.py:675\u001b[0m, in \u001b[0;36m_SingleProcessDataLoaderIter._next_data\u001b[1;34m(self)\u001b[0m\n\u001b[0;32m    673\u001b[0m \u001b[38;5;28;01mdef\u001b[39;00m \u001b[38;5;21m_next_data\u001b[39m(\u001b[38;5;28mself\u001b[39m):\n\u001b[0;32m    674\u001b[0m     index \u001b[38;5;241m=\u001b[39m \u001b[38;5;28mself\u001b[39m\u001b[38;5;241m.\u001b[39m_next_index()  \u001b[38;5;66;03m# may raise StopIteration\u001b[39;00m\n\u001b[1;32m--> 675\u001b[0m     data \u001b[38;5;241m=\u001b[39m \u001b[38;5;28mself\u001b[39m\u001b[38;5;241m.\u001b[39m_dataset_fetcher\u001b[38;5;241m.\u001b[39mfetch(index)  \u001b[38;5;66;03m# may raise StopIteration\u001b[39;00m\n\u001b[0;32m    676\u001b[0m     \u001b[38;5;28;01mif\u001b[39;00m \u001b[38;5;28mself\u001b[39m\u001b[38;5;241m.\u001b[39m_pin_memory:\n\u001b[0;32m    677\u001b[0m         data \u001b[38;5;241m=\u001b[39m _utils\u001b[38;5;241m.\u001b[39mpin_memory\u001b[38;5;241m.\u001b[39mpin_memory(data, \u001b[38;5;28mself\u001b[39m\u001b[38;5;241m.\u001b[39m_pin_memory_device)\n",
      "File \u001b[1;32m~\\anaconda3\\Lib\\site-packages\\torch\\utils\\data\\_utils\\fetch.py:54\u001b[0m, in \u001b[0;36m_MapDatasetFetcher.fetch\u001b[1;34m(self, possibly_batched_index)\u001b[0m\n\u001b[0;32m     52\u001b[0m \u001b[38;5;28;01melse\u001b[39;00m:\n\u001b[0;32m     53\u001b[0m     data \u001b[38;5;241m=\u001b[39m \u001b[38;5;28mself\u001b[39m\u001b[38;5;241m.\u001b[39mdataset[possibly_batched_index]\n\u001b[1;32m---> 54\u001b[0m \u001b[38;5;28;01mreturn\u001b[39;00m \u001b[38;5;28mself\u001b[39m\u001b[38;5;241m.\u001b[39mcollate_fn(data)\n",
      "File \u001b[1;32m~\\anaconda3\\Lib\\site-packages\\torch\\utils\\data\\_utils\\collate.py:277\u001b[0m, in \u001b[0;36mdefault_collate\u001b[1;34m(batch)\u001b[0m\n\u001b[0;32m    216\u001b[0m \u001b[38;5;28;01mdef\u001b[39;00m \u001b[38;5;21mdefault_collate\u001b[39m(batch):\n\u001b[0;32m    217\u001b[0m \u001b[38;5;250m    \u001b[39m\u001b[38;5;124mr\u001b[39m\u001b[38;5;124;03m\"\"\"\u001b[39;00m\n\u001b[0;32m    218\u001b[0m \u001b[38;5;124;03m    Take in a batch of data and put the elements within the batch into a tensor with an additional outer dimension - batch size.\u001b[39;00m\n\u001b[0;32m    219\u001b[0m \n\u001b[1;32m   (...)\u001b[0m\n\u001b[0;32m    275\u001b[0m \u001b[38;5;124;03m        >>> default_collate(batch)  # Handle `CustomType` automatically\u001b[39;00m\n\u001b[0;32m    276\u001b[0m \u001b[38;5;124;03m    \"\"\"\u001b[39;00m\n\u001b[1;32m--> 277\u001b[0m     \u001b[38;5;28;01mreturn\u001b[39;00m collate(batch, collate_fn_map\u001b[38;5;241m=\u001b[39mdefault_collate_fn_map)\n",
      "File \u001b[1;32m~\\anaconda3\\Lib\\site-packages\\torch\\utils\\data\\_utils\\collate.py:144\u001b[0m, in \u001b[0;36mcollate\u001b[1;34m(batch, collate_fn_map)\u001b[0m\n\u001b[0;32m    141\u001b[0m transposed \u001b[38;5;241m=\u001b[39m \u001b[38;5;28mlist\u001b[39m(\u001b[38;5;28mzip\u001b[39m(\u001b[38;5;241m*\u001b[39mbatch))  \u001b[38;5;66;03m# It may be accessed twice, so we use a list.\u001b[39;00m\n\u001b[0;32m    143\u001b[0m \u001b[38;5;28;01mif\u001b[39;00m \u001b[38;5;28misinstance\u001b[39m(elem, \u001b[38;5;28mtuple\u001b[39m):\n\u001b[1;32m--> 144\u001b[0m     \u001b[38;5;28;01mreturn\u001b[39;00m [collate(samples, collate_fn_map\u001b[38;5;241m=\u001b[39mcollate_fn_map) \u001b[38;5;28;01mfor\u001b[39;00m samples \u001b[38;5;129;01min\u001b[39;00m transposed]  \u001b[38;5;66;03m# Backwards compatibility.\u001b[39;00m\n\u001b[0;32m    145\u001b[0m \u001b[38;5;28;01melse\u001b[39;00m:\n\u001b[0;32m    146\u001b[0m     \u001b[38;5;28;01mtry\u001b[39;00m:\n",
      "File \u001b[1;32m~\\anaconda3\\Lib\\site-packages\\torch\\utils\\data\\_utils\\collate.py:144\u001b[0m, in \u001b[0;36m<listcomp>\u001b[1;34m(.0)\u001b[0m\n\u001b[0;32m    141\u001b[0m transposed \u001b[38;5;241m=\u001b[39m \u001b[38;5;28mlist\u001b[39m(\u001b[38;5;28mzip\u001b[39m(\u001b[38;5;241m*\u001b[39mbatch))  \u001b[38;5;66;03m# It may be accessed twice, so we use a list.\u001b[39;00m\n\u001b[0;32m    143\u001b[0m \u001b[38;5;28;01mif\u001b[39;00m \u001b[38;5;28misinstance\u001b[39m(elem, \u001b[38;5;28mtuple\u001b[39m):\n\u001b[1;32m--> 144\u001b[0m     \u001b[38;5;28;01mreturn\u001b[39;00m [collate(samples, collate_fn_map\u001b[38;5;241m=\u001b[39mcollate_fn_map) \u001b[38;5;28;01mfor\u001b[39;00m samples \u001b[38;5;129;01min\u001b[39;00m transposed]  \u001b[38;5;66;03m# Backwards compatibility.\u001b[39;00m\n\u001b[0;32m    145\u001b[0m \u001b[38;5;28;01melse\u001b[39;00m:\n\u001b[0;32m    146\u001b[0m     \u001b[38;5;28;01mtry\u001b[39;00m:\n",
      "File \u001b[1;32m~\\anaconda3\\Lib\\site-packages\\torch\\utils\\data\\_utils\\collate.py:121\u001b[0m, in \u001b[0;36mcollate\u001b[1;34m(batch, collate_fn_map)\u001b[0m\n\u001b[0;32m    119\u001b[0m \u001b[38;5;28;01mif\u001b[39;00m collate_fn_map \u001b[38;5;129;01mis\u001b[39;00m \u001b[38;5;129;01mnot\u001b[39;00m \u001b[38;5;28;01mNone\u001b[39;00m:\n\u001b[0;32m    120\u001b[0m     \u001b[38;5;28;01mif\u001b[39;00m elem_type \u001b[38;5;129;01min\u001b[39;00m collate_fn_map:\n\u001b[1;32m--> 121\u001b[0m         \u001b[38;5;28;01mreturn\u001b[39;00m collate_fn_map[elem_type](batch, collate_fn_map\u001b[38;5;241m=\u001b[39mcollate_fn_map)\n\u001b[0;32m    123\u001b[0m     \u001b[38;5;28;01mfor\u001b[39;00m collate_type \u001b[38;5;129;01min\u001b[39;00m collate_fn_map:\n\u001b[0;32m    124\u001b[0m         \u001b[38;5;28;01mif\u001b[39;00m \u001b[38;5;28misinstance\u001b[39m(elem, collate_type):\n",
      "File \u001b[1;32m~\\anaconda3\\Lib\\site-packages\\torch\\utils\\data\\_utils\\collate.py:174\u001b[0m, in \u001b[0;36mcollate_tensor_fn\u001b[1;34m(batch, collate_fn_map)\u001b[0m\n\u001b[0;32m    172\u001b[0m     storage \u001b[38;5;241m=\u001b[39m elem\u001b[38;5;241m.\u001b[39m_typed_storage()\u001b[38;5;241m.\u001b[39m_new_shared(numel, device\u001b[38;5;241m=\u001b[39melem\u001b[38;5;241m.\u001b[39mdevice)\n\u001b[0;32m    173\u001b[0m     out \u001b[38;5;241m=\u001b[39m elem\u001b[38;5;241m.\u001b[39mnew(storage)\u001b[38;5;241m.\u001b[39mresize_(\u001b[38;5;28mlen\u001b[39m(batch), \u001b[38;5;241m*\u001b[39m\u001b[38;5;28mlist\u001b[39m(elem\u001b[38;5;241m.\u001b[39msize()))\n\u001b[1;32m--> 174\u001b[0m \u001b[38;5;28;01mreturn\u001b[39;00m torch\u001b[38;5;241m.\u001b[39mstack(batch, \u001b[38;5;241m0\u001b[39m, out\u001b[38;5;241m=\u001b[39mout)\n",
      "\u001b[1;31mRuntimeError\u001b[0m: stack expects each tensor to be equal size, but got [11] at entry 0 and [9] at entry 1"
     ]
    }
   ],
   "source": [
    "#Turn data into DataLoaders\n",
    "batch_size = 100\n",
    "n_iters = 38400\n",
    "num_epochs = int(n_iters / (len(learn_train_dataset) / batch_size))\n",
    "learn_train_loader = DataLoader(dataset=learn_train_dataset, batch_size=batch_size, shuffle=True)\n",
    "learn_test_loader = DataLoader(dataset=learn_test_dataset, batch_size=batch_size, shuffle=False)\n",
    "\n",
    "#Checking DataLoader object, looks like I'll need to pad my data before pushing it through\n",
    "for _, batch in enumerate(learn_train_loader):\n",
    "    #This will also be a test to see if device is working\n",
    "    #Re-add '.to(device)' later to batch[0] and [1]\n",
    "    x_batch, y_batch = batch[0], batch[1]\n",
    "    print(x_batch[0])\n",
    "    print(x_batch.shape, y_batch.shape)\n",
    "    break"
   ]
  }
 ],
 "metadata": {
  "kernelspec": {
   "display_name": "Python 3 (ipykernel)",
   "language": "python",
   "name": "python3"
  },
  "language_info": {
   "codemirror_mode": {
    "name": "ipython",
    "version": 3
   },
   "file_extension": ".py",
   "mimetype": "text/x-python",
   "name": "python",
   "nbconvert_exporter": "python",
   "pygments_lexer": "ipython3",
   "version": "3.11.8"
  }
 },
 "nbformat": 4,
 "nbformat_minor": 5
}
