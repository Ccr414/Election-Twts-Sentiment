{
 "cells": [
  {
   "cell_type": "code",
   "execution_count": 1,
   "id": "f963d2f9-bfaf-4fd7-a751-31ccbf7e60a7",
   "metadata": {},
   "outputs": [],
   "source": [
    "import torch\n",
    "import torch.nn as nn\n",
    "import torch.optim as optim\n",
    "from torch.optim import lr_scheduler\n",
    "import numpy as np\n",
    "import pandas as pd\n",
    "from torch.utils.data import DataLoader, Dataset, random_split, TensorDataset\n",
    "import matplotlib.pyplot as plt\n",
    "import time\n",
    "import os\n",
    "import spacy\n",
    "import re\n",
    "import torchtext\n",
    "from torchtext.data.utils import get_tokenizer\n",
    "from torchtext.vocab import build_vocab_from_iterator\n",
    "from torch.nn.utils.rnn import pad_sequence, pack_sequence, pack_padded_sequence"
   ]
  },
  {
   "cell_type": "code",
   "execution_count": 2,
   "id": "5c86be50-af8c-4ae4-8547-c2a68401f2c8",
   "metadata": {},
   "outputs": [],
   "source": [
    "#Import Dataset\n",
    "#For preprocessing purposes: Clean Text of special characters/URLs/HTML tags/punctuation and put in all lowercase,\n",
    "#Split text into words or \"tokens\", remove \"stopwords\" such as \"and\", \"is\", or \"the,\"\n",
    "#Reduce words to root or stem form through \"lemmatization\" or \"stemming\" to reduce complexity,\n",
    "#Apply \"vectorization\" to convert word or token data into a set of numerical data, and\n",
    "#Pad the data to normalize all the variables so they can be more easily inputted to a ML algorithm\n",
    "TrainSentimentData = pd.read_csv('data/FinalTrainSentimentData.csv')\n",
    "TestSentimentData = pd.read_csv('data/FinalTestSentimentData.csv')"
   ]
  },
  {
   "cell_type": "code",
   "execution_count": 3,
   "id": "23719588-5590-46bb-a120-f1bc15dfffa3",
   "metadata": {},
   "outputs": [
    {
     "data": {
      "text/html": [
       "<div>\n",
       "<style scoped>\n",
       "    .dataframe tbody tr th:only-of-type {\n",
       "        vertical-align: middle;\n",
       "    }\n",
       "\n",
       "    .dataframe tbody tr th {\n",
       "        vertical-align: top;\n",
       "    }\n",
       "\n",
       "    .dataframe thead th {\n",
       "        text-align: right;\n",
       "    }\n",
       "</style>\n",
       "<table border=\"1\" class=\"dataframe\">\n",
       "  <thead>\n",
       "    <tr style=\"text-align: right;\">\n",
       "      <th></th>\n",
       "      <th>Sentiment</th>\n",
       "      <th>Text</th>\n",
       "    </tr>\n",
       "  </thead>\n",
       "  <tbody>\n",
       "    <tr>\n",
       "      <th>0</th>\n",
       "      <td>0</td>\n",
       "      <td>username akita try kill dog saturday apparentl...</td>\n",
       "    </tr>\n",
       "    <tr>\n",
       "      <th>1</th>\n",
       "      <td>0</td>\n",
       "      <td>push daisy tonight yay finally sad go go soon ...</td>\n",
       "    </tr>\n",
       "    <tr>\n",
       "      <th>2</th>\n",
       "      <td>4</td>\n",
       "      <td>username wuddup sayin hiiii</td>\n",
       "    </tr>\n",
       "    <tr>\n",
       "      <th>3</th>\n",
       "      <td>4</td>\n",
       "      <td>username diggin gameplay acit look epic</td>\n",
       "    </tr>\n",
       "    <tr>\n",
       "      <th>4</th>\n",
       "      <td>4</td>\n",
       "      <td>username twitter obsessed new favorite</td>\n",
       "    </tr>\n",
       "    <tr>\n",
       "      <th>...</th>\n",
       "      <td>...</td>\n",
       "      <td>...</td>\n",
       "    </tr>\n",
       "    <tr>\n",
       "      <th>1278235</th>\n",
       "      <td>4</td>\n",
       "      <td>username englishman win matter</td>\n",
       "    </tr>\n",
       "    <tr>\n",
       "      <th>1278236</th>\n",
       "      <td>0</td>\n",
       "      <td>tired million thing need plus sorta hungry wan...</td>\n",
       "    </tr>\n",
       "    <tr>\n",
       "      <th>1278237</th>\n",
       "      <td>4</td>\n",
       "      <td>say good night friend finish clean morning</td>\n",
       "    </tr>\n",
       "    <tr>\n",
       "      <th>1278238</th>\n",
       "      <td>0</td>\n",
       "      <td>sit bed bored</td>\n",
       "    </tr>\n",
       "    <tr>\n",
       "      <th>1278239</th>\n",
       "      <td>4</td>\n",
       "      <td>username make friendship bracelet pretty fun</td>\n",
       "    </tr>\n",
       "  </tbody>\n",
       "</table>\n",
       "<p>1278240 rows × 2 columns</p>\n",
       "</div>"
      ],
      "text/plain": [
       "         Sentiment                                               Text\n",
       "0                0  username akita try kill dog saturday apparentl...\n",
       "1                0  push daisy tonight yay finally sad go go soon ...\n",
       "2                4                        username wuddup sayin hiiii\n",
       "3                4            username diggin gameplay acit look epic\n",
       "4                4             username twitter obsessed new favorite\n",
       "...            ...                                                ...\n",
       "1278235          4                     username englishman win matter\n",
       "1278236          0  tired million thing need plus sorta hungry wan...\n",
       "1278237          4         say good night friend finish clean morning\n",
       "1278238          0                                      sit bed bored\n",
       "1278239          4       username make friendship bracelet pretty fun\n",
       "\n",
       "[1278240 rows x 2 columns]"
      ]
     },
     "execution_count": 3,
     "metadata": {},
     "output_type": "execute_result"
    }
   ],
   "source": [
    "TrainSentimentData"
   ]
  },
  {
   "cell_type": "code",
   "execution_count": 4,
   "id": "1d4e4bb4-8b5c-40bb-9d51-b31b4d7eec8d",
   "metadata": {},
   "outputs": [
    {
     "data": {
      "text/plain": [
       "'cuda:0'"
      ]
     },
     "execution_count": 4,
     "metadata": {},
     "output_type": "execute_result"
    }
   ],
   "source": [
    "#Update this on actual computer\n",
    "device = 'cuda:0' if torch.cuda.is_available else 'cpu'\n",
    "device"
   ]
  },
  {
   "cell_type": "code",
   "execution_count": 5,
   "id": "279a877e-e9df-4e21-846d-c99d92204fb6",
   "metadata": {},
   "outputs": [],
   "source": [
    "#Vectorize string data into numerical data more easily accessible to the model\n",
    "tokenizer = get_tokenizer('basic_english')\n",
    "vocabTr = build_vocab_from_iterator(map(tokenizer, TrainSentimentData['Text']))\n",
    "\n",
    "vocabTe = build_vocab_from_iterator(map(tokenizer, TestSentimentData['Text']))"
   ]
  },
  {
   "cell_type": "code",
   "execution_count": 6,
   "id": "11566b6e-cab7-4194-b04a-0be951c37a1e",
   "metadata": {},
   "outputs": [],
   "source": [
    "def train_vectorize_twts(text):\n",
    "    tokens = tokenizer(text)\n",
    "    indices = [int(vocabTr[token]) for token in tokens]\n",
    "    return indices\n",
    "\n",
    "def test_vectorize_twts(text):\n",
    "    tokens = tokenizer(text)\n",
    "    indices = [int(vocabTe[token]) for token in tokens]\n",
    "    return indices"
   ]
  },
  {
   "cell_type": "code",
   "execution_count": 7,
   "id": "651f2eea-ed27-4761-ae9c-755336beb686",
   "metadata": {},
   "outputs": [
    {
     "name": "stdout",
     "output_type": "stream",
     "text": [
      "   Sentiment                                               Text\n",
      "0          0  [0, 33422, 44, 281, 249, 253, 536, 2369, 82871...\n",
      "1          0     [982, 2234, 48, 108, 129, 40, 1, 1, 74, 62604]\n",
      "2          4                             [0, 27577, 2351, 8864]\n",
      "3          4                   [0, 6279, 10217, 81256, 27, 950]\n",
      "4          4                             [0, 30, 4588, 24, 343]\n",
      "   Sentiment                                Text\n",
      "0          0  [0, 33, 1340, 1489, 39, 393, 1186]\n",
      "1          4    [76, 2428, 3636, 945, 700, 2657]\n",
      "2          4                      [2, 30, 85, 7]\n",
      "3          0                   [1078, 202, 2211]\n",
      "4          0             [0, 15, 255, 19958, 13]\n"
     ]
    }
   ],
   "source": [
    "#This gave me a lot of trouble since I didn't realize I needed to convert from DataFrame to a Pytorch Dataset\n",
    "VectorTrainSentimentDataSet = TrainSentimentData.copy()\n",
    "VectorTrainSentimentDataSet['Text'] = TrainSentimentData['Text'].apply(train_vectorize_twts)\n",
    "print(VectorTrainSentimentDataSet.head())\n",
    "\n",
    "VectorTestSentimentDataSet = TestSentimentData.copy()\n",
    "VectorTestSentimentDataSet['Text'] = TestSentimentData['Text'].apply(test_vectorize_twts)\n",
    "print(VectorTestSentimentDataSet.head())"
   ]
  },
  {
   "cell_type": "code",
   "execution_count": 8,
   "id": "6092a867-2df0-4f97-99e9-0d0aafd3eadc",
   "metadata": {},
   "outputs": [
    {
     "data": {
      "text/plain": [
       "array([[0,\n",
       "        list([0, 33422, 44, 281, 249, 253, 536, 2369, 82871, 3190, 1058])],\n",
       "       [0, list([982, 2234, 48, 108, 129, 40, 1, 1, 74, 62604])],\n",
       "       [4, list([0, 27577, 2351, 8864])],\n",
       "       ...,\n",
       "       [4, list([72, 2, 21, 49, 126, 263, 31])],\n",
       "       [0, list([163, 57, 225])],\n",
       "       [4, list([0, 76, 3266, 2683, 117, 41])]], dtype=object)"
      ]
     },
     "execution_count": 8,
     "metadata": {},
     "output_type": "execute_result"
    }
   ],
   "source": [
    "#Turn pandas dataset into Numpy\n",
    "VectorTrainSentimentDataSet = VectorTrainSentimentDataSet.to_numpy()\n",
    "VectorTestSentimentDataSet = VectorTestSentimentDataSet.to_numpy()\n",
    "VectorTrainSentimentDataSet"
   ]
  },
  {
   "cell_type": "code",
   "execution_count": 9,
   "id": "2d8dd373-25b1-4790-b82d-7a951df83cce",
   "metadata": {},
   "outputs": [
    {
     "name": "stdout",
     "output_type": "stream",
     "text": [
      "(1278240, 1), (1278240,), (319561, 1), (319561,)\n"
     ]
    }
   ],
   "source": [
    "#Split up the Data\n",
    "Xtrain_sentiment = VectorTrainSentimentDataSet[:,1:]\n",
    "Ytrain_sentiment = VectorTrainSentimentDataSet[:,0]\n",
    "Xtest_sentiment = VectorTestSentimentDataSet[:,1:]\n",
    "Ytest_sentiment = VectorTestSentimentDataSet[:,0]\n",
    "print(f'{Xtrain_sentiment.shape}, {Ytrain_sentiment.shape}, {Xtest_sentiment.shape}, {Ytest_sentiment.shape}')"
   ]
  },
  {
   "cell_type": "code",
   "execution_count": 501,
   "id": "6770db59-c6cc-41d0-ae62-31e6c69c2d37",
   "metadata": {},
   "outputs": [],
   "source": [
    "\"\"\"\n",
    "This was a problem place since I originally wanted to pad my data at the batch level, but I couldn't figure out if\n",
    "that was even possible, then I tried using pack_sequence and pad_packed_sequence to pad my data to the largest\n",
    "packed data point, but that isn't how the function worked, so I tried pad_sequence with pack_padded_sequence, which\n",
    "also didn't end up working because that wasn't how the function worked. Now this just pads to the biggest datapoint\n",
    "\"\"\""
   ]
  },
  {
   "cell_type": "code",
   "execution_count": 10,
   "id": "a74d4be1-27c3-4798-b0be-ffa557967dab",
   "metadata": {},
   "outputs": [],
   "source": [
    "def prepSentimentData(X, y):\n",
    "    temp_X = []\n",
    "    for row in X:\n",
    "        for vector_text in row:\n",
    "            temp_X.append(torch.tensor(vector_text).float()) #Turn data into float tensors\n",
    "    temp_X = pad_sequence(temp_X, batch_first=True) #pad the data\n",
    "    Final_X = temp_X\n",
    "    for pos, label in enumerate(y):\n",
    "        if label == 4:\n",
    "            y[pos] = 1\n",
    "    return temp_X, y"
   ]
  },
  {
   "cell_type": "code",
   "execution_count": 11,
   "id": "f9a2aed2-27f8-40c2-a75d-345231598ce1",
   "metadata": {},
   "outputs": [
    {
     "name": "stdout",
     "output_type": "stream",
     "text": [
      "Train Data: X: torch.Size([1278240, 33]), Y: (1278240,)\n",
      "Test Data: X: torch.Size([319561, 30]), Y: (319561,)\n",
      "-----------------Final Preprocessing Complete-----------------\n"
     ]
    }
   ],
   "source": [
    "FXtrain_sentiment, FYtrain_sentiment = prepSentimentData(Xtrain_sentiment, Ytrain_sentiment)\n",
    "FXtest_sentiment, FYtest_sentiment = prepSentimentData(Xtest_sentiment, Ytest_sentiment)\n",
    "print(f'Train Data: X: {FXtrain_sentiment.shape}, Y: {FYtrain_sentiment.shape}')\n",
    "print(f'Test Data: X: {FXtest_sentiment.shape}, Y: {FYtest_sentiment.shape}')\n",
    "print('-----------------Final Preprocessing Complete-----------------')"
   ]
  },
  {
   "cell_type": "code",
   "execution_count": 12,
   "id": "62baeb00-2863-47f2-978d-e971455f7b66",
   "metadata": {
    "tags": []
   },
   "outputs": [
    {
     "name": "stdout",
     "output_type": "stream",
     "text": [
      "Test: torch.Size([319561, 33])\n",
      "Train: torch.Size([1278240, 33])\n"
     ]
    }
   ],
   "source": [
    "#Need to pad my data to a specified amount(may have to manually do this with torch.zeros if no function for it)\n",
    "#Also need to inspect all my dimensions (final dims for input should be: [len(data), 33, 1])\n",
    "class SentimentDataset(Dataset):\n",
    "    def __init__(self, X, y, adjust=False):\n",
    "        #If dimensions are incorrect, manually fix them\n",
    "        if adjust:\n",
    "            shaped = torch.zeros(len(X), 33)\n",
    "            shaped[:,:30] = X\n",
    "            X = shaped   \n",
    "        self.X = X\n",
    "        self.y = y\n",
    "        \n",
    "    def __len__(self):\n",
    "        return len(self.X)\n",
    "    \n",
    "    def __getitem__(self, idx):\n",
    "        return self.X[idx], self.y[idx]\n",
    "\n",
    "test_sentiment_Dset = SentimentDataset(FXtest_sentiment, FYtest_sentiment, True)\n",
    "print(f'Test: {test_sentiment_Dset[:][0].shape}')\n",
    "train_sentiment_Dset = SentimentDataset(FXtrain_sentiment, FYtrain_sentiment)\n",
    "print(f'Train: {train_sentiment_Dset[:][0].shape}')"
   ]
  },
  {
   "cell_type": "code",
   "execution_count": 13,
   "id": "7a860b63-3296-405b-9a95-3910672ab450",
   "metadata": {
    "scrolled": true
   },
   "outputs": [
    {
     "name": "stdout",
     "output_type": "stream",
     "text": [
      "(tensor([[0.0000e+00, 3.3000e+01, 1.3400e+03, 1.4890e+03, 3.9000e+01, 3.9300e+02,\n",
      "         1.1860e+03, 0.0000e+00, 0.0000e+00, 0.0000e+00, 0.0000e+00, 0.0000e+00,\n",
      "         0.0000e+00, 0.0000e+00, 0.0000e+00, 0.0000e+00, 0.0000e+00, 0.0000e+00,\n",
      "         0.0000e+00, 0.0000e+00, 0.0000e+00, 0.0000e+00, 0.0000e+00, 0.0000e+00,\n",
      "         0.0000e+00, 0.0000e+00, 0.0000e+00, 0.0000e+00, 0.0000e+00, 0.0000e+00,\n",
      "         0.0000e+00, 0.0000e+00, 0.0000e+00],\n",
      "        [7.6000e+01, 2.4280e+03, 3.6360e+03, 9.4500e+02, 7.0000e+02, 2.6570e+03,\n",
      "         0.0000e+00, 0.0000e+00, 0.0000e+00, 0.0000e+00, 0.0000e+00, 0.0000e+00,\n",
      "         0.0000e+00, 0.0000e+00, 0.0000e+00, 0.0000e+00, 0.0000e+00, 0.0000e+00,\n",
      "         0.0000e+00, 0.0000e+00, 0.0000e+00, 0.0000e+00, 0.0000e+00, 0.0000e+00,\n",
      "         0.0000e+00, 0.0000e+00, 0.0000e+00, 0.0000e+00, 0.0000e+00, 0.0000e+00,\n",
      "         0.0000e+00, 0.0000e+00, 0.0000e+00],\n",
      "        [2.0000e+00, 3.0000e+01, 8.5000e+01, 7.0000e+00, 0.0000e+00, 0.0000e+00,\n",
      "         0.0000e+00, 0.0000e+00, 0.0000e+00, 0.0000e+00, 0.0000e+00, 0.0000e+00,\n",
      "         0.0000e+00, 0.0000e+00, 0.0000e+00, 0.0000e+00, 0.0000e+00, 0.0000e+00,\n",
      "         0.0000e+00, 0.0000e+00, 0.0000e+00, 0.0000e+00, 0.0000e+00, 0.0000e+00,\n",
      "         0.0000e+00, 0.0000e+00, 0.0000e+00, 0.0000e+00, 0.0000e+00, 0.0000e+00,\n",
      "         0.0000e+00, 0.0000e+00, 0.0000e+00],\n",
      "        [1.0780e+03, 2.0200e+02, 2.2110e+03, 0.0000e+00, 0.0000e+00, 0.0000e+00,\n",
      "         0.0000e+00, 0.0000e+00, 0.0000e+00, 0.0000e+00, 0.0000e+00, 0.0000e+00,\n",
      "         0.0000e+00, 0.0000e+00, 0.0000e+00, 0.0000e+00, 0.0000e+00, 0.0000e+00,\n",
      "         0.0000e+00, 0.0000e+00, 0.0000e+00, 0.0000e+00, 0.0000e+00, 0.0000e+00,\n",
      "         0.0000e+00, 0.0000e+00, 0.0000e+00, 0.0000e+00, 0.0000e+00, 0.0000e+00,\n",
      "         0.0000e+00, 0.0000e+00, 0.0000e+00],\n",
      "        [0.0000e+00, 1.5000e+01, 2.5500e+02, 1.9958e+04, 1.3000e+01, 0.0000e+00,\n",
      "         0.0000e+00, 0.0000e+00, 0.0000e+00, 0.0000e+00, 0.0000e+00, 0.0000e+00,\n",
      "         0.0000e+00, 0.0000e+00, 0.0000e+00, 0.0000e+00, 0.0000e+00, 0.0000e+00,\n",
      "         0.0000e+00, 0.0000e+00, 0.0000e+00, 0.0000e+00, 0.0000e+00, 0.0000e+00,\n",
      "         0.0000e+00, 0.0000e+00, 0.0000e+00, 0.0000e+00, 0.0000e+00, 0.0000e+00,\n",
      "         0.0000e+00, 0.0000e+00, 0.0000e+00]]), array([0, 1, 1, 0, 0], dtype=object))\n"
     ]
    }
   ],
   "source": [
    "print(test_sentiment_Dset[0:5])"
   ]
  },
  {
   "cell_type": "code",
   "execution_count": 14,
   "id": "683ee779-4cb7-419b-b835-ea964e73b8e8",
   "metadata": {},
   "outputs": [],
   "source": [
    "#Turn data into DataLoaders\n",
    "batch_size = 100\n",
    "n_iters = 38400\n",
    "num_epochs = int(n_iters / (len(train_sentiment_Dset) / batch_size))\n",
    "train_loader = DataLoader(dataset=train_sentiment_Dset, batch_size=batch_size, shuffle=True)\n",
    "test_loader = DataLoader(dataset=test_sentiment_Dset, batch_size=batch_size, shuffle=False)"
   ]
  },
  {
   "cell_type": "code",
   "execution_count": 15,
   "id": "a78c62ed-bdc6-40a6-993a-de2548a00d8f",
   "metadata": {},
   "outputs": [
    {
     "name": "stdout",
     "output_type": "stream",
     "text": [
      "tensor([2.7000e+01, 6.0000e+00, 2.0200e+02, 9.6500e+03, 3.2300e+02, 9.3000e+01,\n",
      "        6.5000e+01, 9.0000e+00, 4.8800e+02, 0.0000e+00, 0.0000e+00, 0.0000e+00,\n",
      "        0.0000e+00, 0.0000e+00, 0.0000e+00, 0.0000e+00, 0.0000e+00, 0.0000e+00,\n",
      "        0.0000e+00, 0.0000e+00, 0.0000e+00, 0.0000e+00, 0.0000e+00, 0.0000e+00,\n",
      "        0.0000e+00, 0.0000e+00, 0.0000e+00, 0.0000e+00, 0.0000e+00, 0.0000e+00,\n",
      "        0.0000e+00, 0.0000e+00, 0.0000e+00], device='cuda:0')\n",
      "torch.Size([100, 33]) torch.Size([100])\n"
     ]
    }
   ],
   "source": [
    "#Checking DataLoader object\n",
    "for _, batch in enumerate(train_loader):\n",
    "    #This will also be a test to see if device is working\n",
    "    x_batch, y_batch = batch[0].to(device), batch[1].to(device)\n",
    "    print(x_batch[0])\n",
    "    print(x_batch.shape, y_batch.shape)\n",
    "    break"
   ]
  },
  {
   "cell_type": "code",
   "execution_count": 16,
   "id": "394da48a-0ffd-488b-a2b4-a36e2d42af4e",
   "metadata": {},
   "outputs": [],
   "source": [
    "#(num_layers, batch_size, hidden_size)\n",
    "class SentimentAnalysisLSTMModel(nn.Module):\n",
    "    def __init__(self, input_dim, hidden_dim, layer_dim, output_dim):\n",
    "        super(SentimentAnalysisLSTMModel, self).__init__()\n",
    "        self.hidden_dim = hidden_dim\n",
    "        self.layer_dim = layer_dim\n",
    "        self.lstm = nn.LSTM(input_dim, hidden_dim, layer_dim, batch_first=True)\n",
    "        self.fc = nn.Linear(hidden_dim, output_dim)\n",
    "        \n",
    "    def forward(self, x):\n",
    "        x = x[:,:,None]\n",
    "        x = torch.permute(x, (0, 2, 1))\n",
    "        batch_len = x.size(0)\n",
    "        hidden = torch.zeros(self.layer_dim, batch_len, self.hidden_dim).to(device)\n",
    "        cell = torch.zeros(self.layer_dim, batch_len, self.hidden_dim).to(device)\n",
    "        \n",
    "        out, _ = self.lstm(x, (hidden, cell))\n",
    "        out = self.fc(out[:,-1,:])\n",
    "        return out"
   ]
  },
  {
   "cell_type": "code",
   "execution_count": 17,
   "id": "c6bcc11a-a3e7-4161-8074-bb024126bf7d",
   "metadata": {},
   "outputs": [
    {
     "name": "stdout",
     "output_type": "stream",
     "text": [
      "33\n"
     ]
    }
   ],
   "source": [
    "#Input dimension is equal to the length of my vocab list\n",
    "#Output dimension is 2 as they are either positive or negative\n",
    "#Need number of hidden dimensions (start with 1 or 2 and adjust according to results)\n",
    "#Need dimension of the hidden dimensions (Try 200)\n",
    "input_dim = len(train_sentiment_Dset[0][0])\n",
    "print(input_dim)\n",
    "hidden_dim = 200\n",
    "layer_dim = 2\n",
    "output_dim = 2\n",
    "\n",
    "LSTMmodel = SentimentAnalysisLSTMModel(input_dim, hidden_dim, layer_dim, output_dim)\n",
    "LSTMmodel.to(device)\n",
    "loss_func = nn.CrossEntropyLoss()\n",
    "learning_rate = 0.1\n",
    "optimizer = optim.SGD(LSTMmodel.parameters(), lr = learning_rate)"
   ]
  },
  {
   "cell_type": "code",
   "execution_count": 18,
   "id": "a35c4c8a-6406-499f-b823-df027e11229a",
   "metadata": {},
   "outputs": [
    {
     "name": "stdout",
     "output_type": "stream",
     "text": [
      "10\n",
      "torch.Size([800, 33])\n",
      "torch.Size([800, 200])\n",
      "torch.Size([800])\n",
      "torch.Size([800])\n",
      "torch.Size([800, 200])\n",
      "torch.Size([800, 200])\n",
      "torch.Size([800])\n",
      "torch.Size([800])\n",
      "torch.Size([2, 200])\n",
      "torch.Size([2])\n"
     ]
    }
   ],
   "source": [
    "print(len(list(LSTMmodel.parameters())))\n",
    "for i in range(len(list(LSTMmodel.parameters()))):\n",
    "    print(list(LSTMmodel.parameters())[i].size())"
   ]
  },
  {
   "cell_type": "code",
   "execution_count": 19,
   "id": "5a573fdd-99bb-4651-8a96-5337aa911455",
   "metadata": {},
   "outputs": [],
   "source": [
    "def LSTM_train_epoch():\n",
    "    LSTMmodel.train(True)\n",
    "    print(f'Epoch: {epoch+1}')\n",
    "    running_loss = 0.0\n",
    "    \n",
    "    for idx, batch in enumerate(train_loader):\n",
    "        text, labels = batch[0].to(device), batch[1].to(device)\n",
    "        \n",
    "        outputs = LSTMmodel(text)\n",
    "        loss = loss_func(outputs, labels)\n",
    "        running_loss += loss.item()\n",
    "        \n",
    "        optimizer.zero_grad()\n",
    "        loss.backward()\n",
    "        optimizer.step()\n",
    "        \n",
    "        if (idx % 1000) == 0:\n",
    "            avg_loss_bat = running_loss / 100\n",
    "            print(f'Batch {idx+1}, Loss: {avg_loss_bat}')\n",
    "            running_loss = 0.0\n",
    "    print()"
   ]
  },
  {
   "cell_type": "code",
   "execution_count": 20,
   "id": "4c46bb4b-f93f-41c4-9ebf-ea4ab6985611",
   "metadata": {},
   "outputs": [],
   "source": [
    "def LSTM_validate_epoch():\n",
    "    LSTMmodel.train(False)\n",
    "    running_loss = 0.0\n",
    "    \n",
    "    for idx, batch in enumerate(test_loader):\n",
    "        text, labels = batch[0].to(device), batch[1].to(device)\n",
    "        \n",
    "        with torch.no_grad():\n",
    "            outputs = LSTMmodel(text)\n",
    "            loss = loss_func(outputs, labels)\n",
    "            running_loss += loss.item()\n",
    "        \n",
    "    avg_loss_bat = running_loss / len(test_loader)\n",
    "    print(f'Val Loss {avg_loss_bat}')\n",
    "    print('-------------------------\\n')"
   ]
  },
  {
   "cell_type": "code",
   "execution_count": 21,
   "id": "d5780239-d35f-4ff6-bc20-d64682c97353",
   "metadata": {
    "scrolled": true
   },
   "outputs": [
    {
     "name": "stdout",
     "output_type": "stream",
     "text": [
      "Epoch: 1\n",
      "Batch 1, Loss: 0.006935247778892517\n",
      "Batch 1001, Loss: 6.910366452336311\n",
      "Batch 2001, Loss: 6.907598538398743\n",
      "Batch 3001, Loss: 6.904312596321106\n",
      "Batch 4001, Loss: 6.900823189020157\n",
      "Batch 5001, Loss: 6.9005317431688304\n",
      "Batch 6001, Loss: 6.899130181074143\n",
      "Batch 7001, Loss: 6.898121938705445\n",
      "Batch 8001, Loss: 6.8995128262043\n",
      "Batch 9001, Loss: 6.90336029291153\n",
      "Batch 10001, Loss: 6.900833694934845\n",
      "Batch 11001, Loss: 6.900955268144608\n",
      "Batch 12001, Loss: 6.895984420180321\n",
      "\n",
      "Val Loss 0.6894310474843346\n",
      "-------------------------\n",
      "\n",
      "Epoch: 2\n",
      "Batch 1, Loss: 0.0069932138919830324\n",
      "Batch 1001, Loss: 6.901795073747635\n",
      "Batch 2001, Loss: 6.899813757538795\n",
      "Batch 3001, Loss: 6.897905724048615\n",
      "Batch 4001, Loss: 6.895096092224121\n",
      "Batch 5001, Loss: 6.890479831695557\n",
      "Batch 6001, Loss: 6.894054544568061\n",
      "Batch 7001, Loss: 6.902797916531563\n",
      "Batch 8001, Loss: 6.8936617159843445\n",
      "Batch 9001, Loss: 6.893164383769036\n",
      "Batch 10001, Loss: 6.899158970117569\n",
      "Batch 11001, Loss: 6.893444098234177\n",
      "Batch 12001, Loss: 6.891564430594444\n",
      "\n",
      "Val Loss 0.6913599124241233\n",
      "-------------------------\n",
      "\n",
      "Epoch: 3\n",
      "Batch 1, Loss: 0.006796024441719055\n",
      "Batch 1001, Loss: 6.895591149926186\n",
      "Batch 2001, Loss: 6.897645450234413\n",
      "Batch 3001, Loss: 6.89333153963089\n",
      "Batch 4001, Loss: 6.900304639339447\n",
      "Batch 5001, Loss: 6.8965099054574965\n",
      "Batch 6001, Loss: 6.892645103931427\n",
      "Batch 7001, Loss: 6.8969537049531935\n",
      "Batch 8001, Loss: 6.895661835670471\n",
      "Batch 9001, Loss: 6.897778790593147\n",
      "Batch 10001, Loss: 6.897760108113289\n",
      "Batch 11001, Loss: 6.893009448647499\n",
      "Batch 12001, Loss: 6.896788068413734\n",
      "\n",
      "Val Loss 0.6894714416416178\n",
      "-------------------------\n",
      "\n"
     ]
    }
   ],
   "source": [
    "for epoch in range(num_epochs):\n",
    "    LSTM_train_epoch()\n",
    "    LSTM_validate_epoch()"
   ]
  },
  {
   "cell_type": "code",
   "execution_count": 23,
   "id": "50bfbc77-d208-4181-9405-ae7c0c452c94",
   "metadata": {},
   "outputs": [],
   "source": [
    "torch.save(LSTMmodel, 'TwitterSentimentModel.pt')"
   ]
  }
 ],
 "metadata": {
  "kernelspec": {
   "display_name": "Python 3 (ipykernel)",
   "language": "python",
   "name": "python3"
  },
  "language_info": {
   "codemirror_mode": {
    "name": "ipython",
    "version": 3
   },
   "file_extension": ".py",
   "mimetype": "text/x-python",
   "name": "python",
   "nbconvert_exporter": "python",
   "pygments_lexer": "ipython3",
   "version": "3.11.8"
  }
 },
 "nbformat": 4,
 "nbformat_minor": 5
}
