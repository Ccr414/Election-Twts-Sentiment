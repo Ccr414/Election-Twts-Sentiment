{
 "cells": [
  {
   "cell_type": "code",
   "execution_count": 37,
   "id": "f963d2f9-bfaf-4fd7-a751-31ccbf7e60a7",
   "metadata": {},
   "outputs": [],
   "source": [
    "import torch\n",
    "import torch.nn as nn\n",
    "import torch.optim as optim\n",
    "import numpy as np\n",
    "import pandas as pd\n",
    "from torch.utils.data import DataLoader, Dataset, random_split, TensorDataset\n",
    "import matplotlib.pyplot as plt\n",
    "from sklearn.metrics import f1_score, precision_score, recall_score\n",
    "import time\n",
    "import os\n",
    "from sklearn.model_selection import train_test_split\n",
    "import spacy\n",
    "import re\n",
    "import torchtext\n",
    "from torchtext.data.utils import get_tokenizer\n",
    "from torchtext.vocab import build_vocab_from_iterator\n",
    "from torch.nn.utils.rnn import pad_sequence, pack_sequence, pack_padded_sequence\n",
    "from torchtext.functional import to_tensor\n",
    "from torchtext.models import RobertaClassificationHead"
   ]
  },
  {
   "cell_type": "code",
   "execution_count": 38,
   "id": "5c86be50-af8c-4ae4-8547-c2a68401f2c8",
   "metadata": {
    "scrolled": true
   },
   "outputs": [
    {
     "data": {
      "text/html": [
       "<div>\n",
       "<style scoped>\n",
       "    .dataframe tbody tr th:only-of-type {\n",
       "        vertical-align: middle;\n",
       "    }\n",
       "\n",
       "    .dataframe tbody tr th {\n",
       "        vertical-align: top;\n",
       "    }\n",
       "\n",
       "    .dataframe thead th {\n",
       "        text-align: right;\n",
       "    }\n",
       "</style>\n",
       "<table border=\"1\" class=\"dataframe\">\n",
       "  <thead>\n",
       "    <tr style=\"text-align: right;\">\n",
       "      <th></th>\n",
       "      <th>Sentiment</th>\n",
       "      <th>Text</th>\n",
       "    </tr>\n",
       "  </thead>\n",
       "  <tbody>\n",
       "    <tr>\n",
       "      <th>0</th>\n",
       "      <td>0</td>\n",
       "      <td>username akita try kill dog saturday apparentl...</td>\n",
       "    </tr>\n",
       "    <tr>\n",
       "      <th>1</th>\n",
       "      <td>0</td>\n",
       "      <td>push daisy tonight yay finally sad go go soon ...</td>\n",
       "    </tr>\n",
       "    <tr>\n",
       "      <th>2</th>\n",
       "      <td>4</td>\n",
       "      <td>username wuddup sayin hiiii</td>\n",
       "    </tr>\n",
       "    <tr>\n",
       "      <th>3</th>\n",
       "      <td>4</td>\n",
       "      <td>username diggin gameplay acit look epic</td>\n",
       "    </tr>\n",
       "    <tr>\n",
       "      <th>4</th>\n",
       "      <td>4</td>\n",
       "      <td>username twitter obsessed new favorite</td>\n",
       "    </tr>\n",
       "    <tr>\n",
       "      <th>...</th>\n",
       "      <td>...</td>\n",
       "      <td>...</td>\n",
       "    </tr>\n",
       "    <tr>\n",
       "      <th>1278235</th>\n",
       "      <td>4</td>\n",
       "      <td>username englishman win matter</td>\n",
       "    </tr>\n",
       "    <tr>\n",
       "      <th>1278236</th>\n",
       "      <td>0</td>\n",
       "      <td>tired million thing need plus sorta hungry wan...</td>\n",
       "    </tr>\n",
       "    <tr>\n",
       "      <th>1278237</th>\n",
       "      <td>4</td>\n",
       "      <td>say good night friend finish clean morning</td>\n",
       "    </tr>\n",
       "    <tr>\n",
       "      <th>1278238</th>\n",
       "      <td>0</td>\n",
       "      <td>sit bed bored</td>\n",
       "    </tr>\n",
       "    <tr>\n",
       "      <th>1278239</th>\n",
       "      <td>4</td>\n",
       "      <td>username make friendship bracelet pretty fun</td>\n",
       "    </tr>\n",
       "  </tbody>\n",
       "</table>\n",
       "<p>1278240 rows × 2 columns</p>\n",
       "</div>"
      ],
      "text/plain": [
       "         Sentiment                                               Text\n",
       "0                0  username akita try kill dog saturday apparentl...\n",
       "1                0  push daisy tonight yay finally sad go go soon ...\n",
       "2                4                        username wuddup sayin hiiii\n",
       "3                4            username diggin gameplay acit look epic\n",
       "4                4             username twitter obsessed new favorite\n",
       "...            ...                                                ...\n",
       "1278235          4                     username englishman win matter\n",
       "1278236          0  tired million thing need plus sorta hungry wan...\n",
       "1278237          4         say good night friend finish clean morning\n",
       "1278238          0                                      sit bed bored\n",
       "1278239          4       username make friendship bracelet pretty fun\n",
       "\n",
       "[1278240 rows x 2 columns]"
      ]
     },
     "execution_count": 38,
     "metadata": {},
     "output_type": "execute_result"
    }
   ],
   "source": [
    "#Import Dataset\n",
    "#For preprocessing purposes: Clean Text of special characters/URLs/HTML tags/punctuation and put in all lowercase,\n",
    "#Split text into words or \"tokens\", remove \"stopwords\" such as \"and\", \"is\", or \"the,\"\n",
    "#Reduce words to root or stem form through \"lemmatization\" or \"stemming\" to reduce complexity,\n",
    "#Apply \"vectorization\" to convert word or token data into a set of numerical data, and\n",
    "#Pad the data to normalize all the variables so they can be more easily inputted to a ML algorithm\n",
    "TrainSentimentData = pd.read_csv('data/FinalTrainSentimentData.csv')\n",
    "TestSentimentData = pd.read_csv('data/FinalTestSentimentData.csv')\n",
    "TrainSentimentData"
   ]
  },
  {
   "cell_type": "code",
   "execution_count": 39,
   "id": "1d4e4bb4-8b5c-40bb-9d51-b31b4d7eec8d",
   "metadata": {},
   "outputs": [
    {
     "data": {
      "text/plain": [
       "'cuda:0'"
      ]
     },
     "execution_count": 39,
     "metadata": {},
     "output_type": "execute_result"
    }
   ],
   "source": [
    "device = 'cuda:0' if torch.cuda.is_available else 'cpu'\n",
    "device"
   ]
  },
  {
   "cell_type": "code",
   "execution_count": 40,
   "id": "279a877e-e9df-4e21-846d-c99d92204fb6",
   "metadata": {},
   "outputs": [],
   "source": [
    "#Vectorize string data into numerical data more easily accessible to the model\n",
    "tokenizer = get_tokenizer('basic_english')\n",
    "vocabTr = build_vocab_from_iterator(map(tokenizer, TrainSentimentData['Text']), specials=[\"<unk>\"])\n",
    "\n",
    "vocabTe = build_vocab_from_iterator(map(tokenizer, TestSentimentData['Text']), specials=[\"<unk>\"])"
   ]
  },
  {
   "cell_type": "code",
   "execution_count": 42,
   "id": "11566b6e-cab7-4194-b04a-0be951c37a1e",
   "metadata": {},
   "outputs": [],
   "source": [
    "def train_vectorize_twts(text):\n",
    "    tokens = tokenizer(text)\n",
    "    indices = [int(vocabTr[token]) for token in tokens]\n",
    "    return indices\n",
    "\n",
    "def test_vectorize_twts(text):\n",
    "    tokens = tokenizer(text)\n",
    "    indices = [int(vocabTe[token]) for token in tokens]\n",
    "    return indices"
   ]
  },
  {
   "cell_type": "code",
   "execution_count": 43,
   "id": "651f2eea-ed27-4761-ae9c-755336beb686",
   "metadata": {},
   "outputs": [
    {
     "name": "stdout",
     "output_type": "stream",
     "text": [
      "   Sentiment                                               Text\n",
      "0          0  [1, 33423, 45, 282, 250, 254, 537, 2370, 82872...\n",
      "1          0     [983, 2235, 49, 109, 130, 41, 2, 2, 75, 62605]\n",
      "2          4                             [1, 27578, 2352, 8865]\n",
      "3          4                   [1, 6280, 10218, 81257, 28, 951]\n",
      "4          4                             [1, 31, 4589, 25, 344]\n",
      "   Sentiment                                Text\n",
      "0          0  [1, 34, 1341, 1490, 40, 394, 1187]\n",
      "1          4    [77, 2429, 3637, 946, 701, 2658]\n",
      "2          4                      [3, 31, 86, 8]\n",
      "3          0                   [1079, 203, 2212]\n",
      "4          0             [1, 16, 256, 19959, 14]\n"
     ]
    }
   ],
   "source": [
    "#This gave me a lot of trouble since I didn't realize I needed to convert from DataFrame to a Pytorch Dataset\n",
    "VectorTrainSentimentDataSet = TrainSentimentData.copy()\n",
    "VectorTrainSentimentDataSet['Text'] = TrainSentimentData['Text'].apply(train_vectorize_twts)\n",
    "print(VectorTrainSentimentDataSet.head())\n",
    "\n",
    "VectorTestSentimentDataSet = TestSentimentData.copy()\n",
    "VectorTestSentimentDataSet['Text'] = TestSentimentData['Text'].apply(test_vectorize_twts)\n",
    "print(VectorTestSentimentDataSet.head())"
   ]
  },
  {
   "cell_type": "code",
   "execution_count": 44,
   "id": "6092a867-2df0-4f97-99e9-0d0aafd3eadc",
   "metadata": {},
   "outputs": [
    {
     "data": {
      "text/plain": [
       "array([[0,\n",
       "        list([1, 33423, 45, 282, 250, 254, 537, 2370, 82872, 3191, 1059])],\n",
       "       [0, list([983, 2235, 49, 109, 130, 41, 2, 2, 75, 62605])],\n",
       "       [4, list([1, 27578, 2352, 8865])],\n",
       "       ...,\n",
       "       [4, list([73, 3, 22, 50, 127, 264, 32])],\n",
       "       [0, list([164, 58, 226])],\n",
       "       [4, list([1, 77, 3267, 2684, 118, 42])]], dtype=object)"
      ]
     },
     "execution_count": 44,
     "metadata": {},
     "output_type": "execute_result"
    }
   ],
   "source": [
    "#Turn pandas dataset into Numpy\n",
    "VectorTrainSentimentDataSet = VectorTrainSentimentDataSet.to_numpy()\n",
    "VectorTestSentimentDataSet = VectorTestSentimentDataSet.to_numpy()\n",
    "VectorTrainSentimentDataSet"
   ]
  },
  {
   "cell_type": "code",
   "execution_count": 45,
   "id": "2d8dd373-25b1-4790-b82d-7a951df83cce",
   "metadata": {},
   "outputs": [
    {
     "name": "stdout",
     "output_type": "stream",
     "text": [
      "(1278240, 1), (1278240,), (319561, 1), (319561,)\n"
     ]
    }
   ],
   "source": [
    "#Split up the Data\n",
    "Xtrain_sentiment = VectorTrainSentimentDataSet[:,1:]\n",
    "Ytrain_sentiment = VectorTrainSentimentDataSet[:,0]\n",
    "Xtest_sentiment = VectorTestSentimentDataSet[:,1:]\n",
    "Ytest_sentiment = VectorTestSentimentDataSet[:,0]\n",
    "print(f'{Xtrain_sentiment.shape}, {Ytrain_sentiment.shape}, {Xtest_sentiment.shape}, {Ytest_sentiment.shape}')"
   ]
  },
  {
   "cell_type": "code",
   "execution_count": 501,
   "id": "6770db59-c6cc-41d0-ae62-31e6c69c2d37",
   "metadata": {},
   "outputs": [],
   "source": [
    "\"\"\"\n",
    "There was a problem since I originally wanted to pad my data at the batch level, but I couldn't figure out if\n",
    "that was even possible, then I tried using pack_sequence and pad_packed_sequence to pad my data to the largest\n",
    "packed data point, but that isn't how the function worked, so I tried pad_sequence with pack_padded_sequence, which\n",
    "also didn't end up working because that wasn't how the function worked. Now this just pads to the biggest datapoint\n",
    "\"\"\""
   ]
  },
  {
   "cell_type": "code",
   "execution_count": 46,
   "id": "a74d4be1-27c3-4798-b0be-ffa557967dab",
   "metadata": {},
   "outputs": [],
   "source": [
    "def prepSentimentData(X, y):\n",
    "    temp_X = []\n",
    "    for row in X:\n",
    "        temp_row = []\n",
    "        for elem in row[0]:\n",
    "            temp_row.append(float(elem))\n",
    "        temp_X.append(torch.tensor(temp_row))\n",
    "    Final_X = pad_sequence(temp_X, batch_first=True) #pad the data    Final_X = temp_X\n",
    "    for pos, label in enumerate(y):\n",
    "        if label == 4:\n",
    "            y[pos] = 1\n",
    "    return Final_X, y"
   ]
  },
  {
   "cell_type": "code",
   "execution_count": 47,
   "id": "f9a2aed2-27f8-40c2-a75d-345231598ce1",
   "metadata": {},
   "outputs": [
    {
     "name": "stdout",
     "output_type": "stream",
     "text": [
      "Test Data:\n",
      "X: torch.Size([319561, 30]), Y: (319561,)\n",
      "Train Data:\n",
      "X: torch.Size([1278240, 33]), Y: (1278240,)\n",
      "-----------------Final Preprocessing Complete-----------------\n"
     ]
    }
   ],
   "source": [
    "FXtest_sentiment, FYtest_sentiment = prepSentimentData(Xtest_sentiment, Ytest_sentiment)\n",
    "print(f'Test Data:\\nX: {FXtest_sentiment.shape}, Y: {FYtest_sentiment.shape}')\n",
    "FXtrain_sentiment, FYtrain_sentiment = prepSentimentData(Xtrain_sentiment, Ytrain_sentiment)\n",
    "print(f'Train Data:\\nX: {FXtrain_sentiment.shape}, Y: {FYtrain_sentiment.shape}')\n",
    "print('-----------------Final Preprocessing Complete-----------------')"
   ]
  },
  {
   "cell_type": "code",
   "execution_count": 48,
   "id": "62baeb00-2863-47f2-978d-e971455f7b66",
   "metadata": {
    "tags": []
   },
   "outputs": [
    {
     "name": "stdout",
     "output_type": "stream",
     "text": [
      "Test: (tensor([1.0000e+00, 3.4000e+01, 1.3410e+03, 1.4900e+03, 4.0000e+01, 3.9400e+02,\n",
      "        1.1870e+03, 0.0000e+00, 0.0000e+00, 0.0000e+00, 0.0000e+00, 0.0000e+00,\n",
      "        0.0000e+00, 0.0000e+00, 0.0000e+00, 0.0000e+00, 0.0000e+00, 0.0000e+00,\n",
      "        0.0000e+00, 0.0000e+00, 0.0000e+00, 0.0000e+00, 0.0000e+00, 0.0000e+00,\n",
      "        0.0000e+00, 0.0000e+00, 0.0000e+00, 0.0000e+00, 0.0000e+00, 0.0000e+00,\n",
      "        0.0000e+00, 0.0000e+00, 0.0000e+00]), 0)\n",
      "Train: (tensor([1.0000e+00, 3.3423e+04, 4.5000e+01, 2.8200e+02, 2.5000e+02, 2.5400e+02,\n",
      "        5.3700e+02, 2.3700e+03, 8.2872e+04, 3.1910e+03, 1.0590e+03, 0.0000e+00,\n",
      "        0.0000e+00, 0.0000e+00, 0.0000e+00, 0.0000e+00, 0.0000e+00, 0.0000e+00,\n",
      "        0.0000e+00, 0.0000e+00, 0.0000e+00, 0.0000e+00, 0.0000e+00, 0.0000e+00,\n",
      "        0.0000e+00, 0.0000e+00, 0.0000e+00, 0.0000e+00, 0.0000e+00, 0.0000e+00,\n",
      "        0.0000e+00, 0.0000e+00, 0.0000e+00]), 0)\n"
     ]
    }
   ],
   "source": [
    "class SentimentDataset(Dataset):\n",
    "    def __init__(self, X, y, adjust=False):\n",
    "        #If dimensions are incorrect, manually fix them\n",
    "        if adjust:\n",
    "            shaped = torch.zeros(len(X), 33)\n",
    "            shaped[:,:30] = X\n",
    "            X = shaped   \n",
    "        self.X = X\n",
    "        self.y = y\n",
    "        \n",
    "    def __len__(self):\n",
    "        return len(self.X)\n",
    "    \n",
    "    def __getitem__(self, idx):\n",
    "        return self.X[idx], self.y[idx]\n",
    "\n",
    "test_sentiment_Dset = SentimentDataset(FXtest_sentiment, FYtest_sentiment, True)\n",
    "print(f'Test: {test_sentiment_Dset[0]}')\n",
    "train_sentiment_Dset = SentimentDataset(FXtrain_sentiment, FYtrain_sentiment)\n",
    "print(f'Train: {train_sentiment_Dset[0]}')"
   ]
  },
  {
   "cell_type": "code",
   "execution_count": 49,
   "id": "7a860b63-3296-405b-9a95-3910672ab450",
   "metadata": {
    "scrolled": true
   },
   "outputs": [
    {
     "name": "stdout",
     "output_type": "stream",
     "text": [
      "(tensor([[1.0000e+00, 3.4000e+01, 1.3410e+03, 1.4900e+03, 4.0000e+01, 3.9400e+02,\n",
      "         1.1870e+03, 0.0000e+00, 0.0000e+00, 0.0000e+00, 0.0000e+00, 0.0000e+00,\n",
      "         0.0000e+00, 0.0000e+00, 0.0000e+00, 0.0000e+00, 0.0000e+00, 0.0000e+00,\n",
      "         0.0000e+00, 0.0000e+00, 0.0000e+00, 0.0000e+00, 0.0000e+00, 0.0000e+00,\n",
      "         0.0000e+00, 0.0000e+00, 0.0000e+00, 0.0000e+00, 0.0000e+00, 0.0000e+00,\n",
      "         0.0000e+00, 0.0000e+00, 0.0000e+00],\n",
      "        [7.7000e+01, 2.4290e+03, 3.6370e+03, 9.4600e+02, 7.0100e+02, 2.6580e+03,\n",
      "         0.0000e+00, 0.0000e+00, 0.0000e+00, 0.0000e+00, 0.0000e+00, 0.0000e+00,\n",
      "         0.0000e+00, 0.0000e+00, 0.0000e+00, 0.0000e+00, 0.0000e+00, 0.0000e+00,\n",
      "         0.0000e+00, 0.0000e+00, 0.0000e+00, 0.0000e+00, 0.0000e+00, 0.0000e+00,\n",
      "         0.0000e+00, 0.0000e+00, 0.0000e+00, 0.0000e+00, 0.0000e+00, 0.0000e+00,\n",
      "         0.0000e+00, 0.0000e+00, 0.0000e+00],\n",
      "        [3.0000e+00, 3.1000e+01, 8.6000e+01, 8.0000e+00, 0.0000e+00, 0.0000e+00,\n",
      "         0.0000e+00, 0.0000e+00, 0.0000e+00, 0.0000e+00, 0.0000e+00, 0.0000e+00,\n",
      "         0.0000e+00, 0.0000e+00, 0.0000e+00, 0.0000e+00, 0.0000e+00, 0.0000e+00,\n",
      "         0.0000e+00, 0.0000e+00, 0.0000e+00, 0.0000e+00, 0.0000e+00, 0.0000e+00,\n",
      "         0.0000e+00, 0.0000e+00, 0.0000e+00, 0.0000e+00, 0.0000e+00, 0.0000e+00,\n",
      "         0.0000e+00, 0.0000e+00, 0.0000e+00],\n",
      "        [1.0790e+03, 2.0300e+02, 2.2120e+03, 0.0000e+00, 0.0000e+00, 0.0000e+00,\n",
      "         0.0000e+00, 0.0000e+00, 0.0000e+00, 0.0000e+00, 0.0000e+00, 0.0000e+00,\n",
      "         0.0000e+00, 0.0000e+00, 0.0000e+00, 0.0000e+00, 0.0000e+00, 0.0000e+00,\n",
      "         0.0000e+00, 0.0000e+00, 0.0000e+00, 0.0000e+00, 0.0000e+00, 0.0000e+00,\n",
      "         0.0000e+00, 0.0000e+00, 0.0000e+00, 0.0000e+00, 0.0000e+00, 0.0000e+00,\n",
      "         0.0000e+00, 0.0000e+00, 0.0000e+00],\n",
      "        [1.0000e+00, 1.6000e+01, 2.5600e+02, 1.9959e+04, 1.4000e+01, 0.0000e+00,\n",
      "         0.0000e+00, 0.0000e+00, 0.0000e+00, 0.0000e+00, 0.0000e+00, 0.0000e+00,\n",
      "         0.0000e+00, 0.0000e+00, 0.0000e+00, 0.0000e+00, 0.0000e+00, 0.0000e+00,\n",
      "         0.0000e+00, 0.0000e+00, 0.0000e+00, 0.0000e+00, 0.0000e+00, 0.0000e+00,\n",
      "         0.0000e+00, 0.0000e+00, 0.0000e+00, 0.0000e+00, 0.0000e+00, 0.0000e+00,\n",
      "         0.0000e+00, 0.0000e+00, 0.0000e+00]]), array([0, 1, 1, 0, 0], dtype=object))\n"
     ]
    }
   ],
   "source": [
    "print(test_sentiment_Dset[0:5])"
   ]
  },
  {
   "cell_type": "code",
   "execution_count": 50,
   "id": "683ee779-4cb7-419b-b835-ea964e73b8e8",
   "metadata": {},
   "outputs": [],
   "source": [
    "#Turn data into DataLoaders\n",
    "batch_size = 150\n",
    "n_iters = 42608\n",
    "num_epochs = int(n_iters / (len(train_sentiment_Dset) / batch_size))\n",
    "train_loader = DataLoader(dataset=train_sentiment_Dset, batch_size=batch_size, shuffle=True)\n",
    "test_loader = DataLoader(dataset=test_sentiment_Dset, batch_size=batch_size, shuffle=False)"
   ]
  },
  {
   "cell_type": "code",
   "execution_count": 51,
   "id": "a78c62ed-bdc6-40a6-993a-de2548a00d8f",
   "metadata": {},
   "outputs": [
    {
     "name": "stdout",
     "output_type": "stream",
     "text": [
      "torch.Size([150, 33]) torch.Size([150])\n"
     ]
    }
   ],
   "source": [
    "#Checking DataLoader object\n",
    "for _, batch in enumerate(train_loader):\n",
    "    #This will also be a test to see if device is working\n",
    "    x_batch, y_batch = batch[0].to(device), batch[1].to(device)\n",
    "    print(x_batch.shape, y_batch.shape)\n",
    "    break"
   ]
  },
  {
   "cell_type": "code",
   "execution_count": 52,
   "id": "394da48a-0ffd-488b-a2b4-a36e2d42af4e",
   "metadata": {},
   "outputs": [],
   "source": [
    "#(num_layers, batch_size, hidden_size)\n",
    "class SentimentAnalysisLSTMModel(nn.Module):\n",
    "    def __init__(self, input_dim, hidden_dim, layer_dim, output_dim):\n",
    "        super(SentimentAnalysisLSTMModel, self).__init__()\n",
    "        self.hidden_dim = hidden_dim\n",
    "        self.layer_dim = layer_dim\n",
    "        self.lstm = nn.LSTM(input_dim, hidden_dim, layer_dim, batch_first=True)\n",
    "        self.fc = nn.Linear(hidden_dim, output_dim)\n",
    "        \n",
    "    def forward(self, x):\n",
    "        x = x[:,:,None]\n",
    "        x = torch.permute(x, (0, 2, 1))\n",
    "        batch_len = x.size(0)\n",
    "        hidden = torch.zeros(self.layer_dim, batch_len, self.hidden_dim).to(device)\n",
    "        cell = torch.zeros(self.layer_dim, batch_len, self.hidden_dim).to(device)\n",
    "        \n",
    "        out, _ = self.lstm(x, (hidden, cell))\n",
    "        out = self.fc(out[:,-1,:])\n",
    "        out = nn.functional.sigmoid(out)\n",
    "        return out"
   ]
  },
  {
   "cell_type": "code",
   "execution_count": 53,
   "id": "c6bcc11a-a3e7-4161-8074-bb024126bf7d",
   "metadata": {},
   "outputs": [
    {
     "name": "stdout",
     "output_type": "stream",
     "text": [
      "33\n"
     ]
    }
   ],
   "source": [
    "#Input dimension is equal to the length of my vocab list\n",
    "#Output dimension is 2 as they are either positive or negative\n",
    "#Need number of hidden dimensions (start with 1 or 2 and adjust according to results)\n",
    "#Need dimension of the hidden dimensions (Try 200)\n",
    "input_dim = len(train_sentiment_Dset[0][0])\n",
    "print(input_dim)\n",
    "hidden_dim = 150\n",
    "layer_dim = 2\n",
    "output_dim = 2\n",
    "\n",
    "LSTMmodel = SentimentAnalysisLSTMModel(input_dim, hidden_dim, layer_dim, output_dim)\n",
    "LSTMmodel.to(device)\n",
    "loss_func = nn.CrossEntropyLoss()\n",
    "learning_rate = 0.05\n",
    "optimizer = optim.SGD(LSTMmodel.parameters(), lr = learning_rate)"
   ]
  },
  {
   "cell_type": "code",
   "execution_count": 54,
   "id": "a35c4c8a-6406-499f-b823-df027e11229a",
   "metadata": {},
   "outputs": [
    {
     "name": "stdout",
     "output_type": "stream",
     "text": [
      "10\n",
      "torch.Size([600, 33])\n",
      "torch.Size([600, 150])\n",
      "torch.Size([600])\n",
      "torch.Size([600])\n",
      "torch.Size([600, 150])\n",
      "torch.Size([600, 150])\n",
      "torch.Size([600])\n",
      "torch.Size([600])\n",
      "torch.Size([2, 150])\n",
      "torch.Size([2])\n"
     ]
    }
   ],
   "source": [
    "print(len(list(LSTMmodel.parameters())))\n",
    "for i in range(len(list(LSTMmodel.parameters()))):\n",
    "    print(list(LSTMmodel.parameters())[i].size())"
   ]
  },
  {
   "cell_type": "code",
   "execution_count": 55,
   "id": "5a573fdd-99bb-4651-8a96-5337aa911455",
   "metadata": {},
   "outputs": [],
   "source": [
    "def LSTM_train_epoch():\n",
    "    LSTMmodel.train(True)\n",
    "    print(f'Epoch: {epoch+1}')\n",
    "    running_loss = 0.0\n",
    "    \n",
    "    for idx, batch in enumerate(train_loader):\n",
    "        text, labels = batch[0].to(device), batch[1].to(device)\n",
    "        \n",
    "        outputs = LSTMmodel(text)\n",
    "        loss = loss_func(outputs, labels)\n",
    "        running_loss += loss.item()\n",
    "        \n",
    "        optimizer.zero_grad()\n",
    "        loss.backward()\n",
    "        optimizer.step()\n",
    "        \n",
    "        if (idx % 1000) == 0:\n",
    "            avg_loss_bat = running_loss / 100\n",
    "            print(f'Batch {idx+1}, Loss: {avg_loss_bat}')\n",
    "            running_loss = 0.0\n",
    "    print()"
   ]
  },
  {
   "cell_type": "code",
   "execution_count": 56,
   "id": "4c46bb4b-f93f-41c4-9ebf-ea4ab6985611",
   "metadata": {},
   "outputs": [],
   "source": [
    "def LSTM_validate_epoch():\n",
    "    LSTMmodel.train(False)\n",
    "    running_loss = 0.0\n",
    "    for idx, batch in enumerate(test_loader):\n",
    "        text, labels = batch[0].to(device), batch[1].to(device)\n",
    "        \n",
    "        with torch.no_grad():\n",
    "            correct = 0\n",
    "            total = 0\n",
    "            outputs = LSTMmodel(text)\n",
    "            _, predicted = torch.max(outputs.data, 1)\n",
    "            total += labels.size(0)\n",
    "            correct += (predicted == labels).sum()\n",
    "            loss = loss_func(outputs, labels)\n",
    "            running_loss += loss.item()\n",
    "        \n",
    "    accuracy = 100 * correct / total\n",
    "    avg_loss_bat = running_loss / len(test_loader)\n",
    "    print(f'Val Loss: {avg_loss_bat}, Accuracy: {accuracy}')\n",
    "    print('-------------------------\\n')"
   ]
  },
  {
   "cell_type": "code",
   "execution_count": 57,
   "id": "d5780239-d35f-4ff6-bc20-d64682c97353",
   "metadata": {},
   "outputs": [
    {
     "name": "stdout",
     "output_type": "stream",
     "text": [
      "Epoch: 1\n",
      "Batch 1, Loss: 0.006929090023040771\n",
      "Batch 1001, Loss: 6.927044813632965\n",
      "Batch 2001, Loss: 6.919760698080063\n",
      "Batch 3001, Loss: 6.913816301226616\n",
      "Batch 4001, Loss: 6.90883704483509\n",
      "Batch 5001, Loss: 6.907722533941269\n",
      "Batch 6001, Loss: 6.905277451276779\n",
      "Batch 7001, Loss: 6.9036200362443925\n",
      "Batch 8001, Loss: 6.901959850788116\n",
      "\n",
      "Val Loss: 0.6898499336224775, Accuracy: 57.377044677734375\n",
      "-------------------------\n",
      "\n",
      "Epoch: 2\n",
      "Batch 1, Loss: 0.006843953728675843\n",
      "Batch 1001, Loss: 6.899394483566284\n",
      "Batch 2001, Loss: 6.8991652172803875\n",
      "Batch 3001, Loss: 6.89995025575161\n",
      "Batch 4001, Loss: 6.894144133329392\n",
      "Batch 5001, Loss: 6.895817286372185\n",
      "Batch 6001, Loss: 6.897953376173973\n",
      "Batch 7001, Loss: 6.897286902070046\n",
      "Batch 8001, Loss: 6.89511649608612\n",
      "\n",
      "Val Loss: 0.6894464674884307, Accuracy: 52.459014892578125\n",
      "-------------------------\n",
      "\n",
      "Epoch: 3\n",
      "Batch 1, Loss: 0.006939285397529602\n",
      "Batch 1001, Loss: 6.895645796060562\n",
      "Batch 2001, Loss: 6.897057763934136\n",
      "Batch 3001, Loss: 6.894914665818215\n",
      "Batch 4001, Loss: 6.900269872546196\n",
      "Batch 5001, Loss: 6.892885153889656\n",
      "Batch 6001, Loss: 6.896758850216866\n",
      "Batch 7001, Loss: 6.889981260895729\n",
      "Batch 8001, Loss: 6.895740327835083\n",
      "\n",
      "Val Loss: 0.6892171502672748, Accuracy: 54.098358154296875\n",
      "-------------------------\n",
      "\n",
      "Epoch: 4\n",
      "Batch 1, Loss: 0.006903385519981384\n",
      "Batch 1001, Loss: 6.893702211380005\n",
      "Batch 2001, Loss: 6.894772446155548\n",
      "Batch 3001, Loss: 6.895553442239762\n",
      "Batch 4001, Loss: 6.8932549268007275\n",
      "Batch 5001, Loss: 6.891212804317474\n",
      "Batch 6001, Loss: 6.892277657985687\n",
      "Batch 7001, Loss: 6.895686299204827\n",
      "Batch 8001, Loss: 6.891636231541634\n",
      "\n",
      "Val Loss: 0.6888462279895727, Accuracy: 49.18032455444336\n",
      "-------------------------\n",
      "\n",
      "Epoch: 5\n",
      "Batch 1, Loss: 0.006880123019218445\n",
      "Batch 1001, Loss: 6.8903019082546235\n",
      "Batch 2001, Loss: 6.889143080115319\n",
      "Batch 3001, Loss: 6.892561289668083\n",
      "Batch 4001, Loss: 6.894187244772911\n",
      "Batch 5001, Loss: 6.896896995902061\n",
      "Batch 6001, Loss: 6.897022414207458\n",
      "Batch 7001, Loss: 6.893311961889267\n",
      "Batch 8001, Loss: 6.896791875958443\n",
      "\n",
      "Val Loss: 0.689334440936174, Accuracy: 50.81966781616211\n",
      "-------------------------\n",
      "\n"
     ]
    }
   ],
   "source": [
    "#Ideas to solve accuracy issues:\n",
    "#   Implement techniques to reduce overfitting (in theory it can't be this)\n",
    "#   Make the transfer learning model, then come back\n",
    "#   Change the way I've vectorized my words to a more complex method\n",
    "#   Check other Evaluation metrics (not the issue)\n",
    "for epoch in range(num_epochs):\n",
    "    LSTM_train_epoch()\n",
    "    LSTM_validate_epoch()"
   ]
  },
  {
   "cell_type": "code",
   "execution_count": 58,
   "id": "30b2fb75-84b9-45a9-95de-5d5c3ad258bd",
   "metadata": {},
   "outputs": [
    {
     "name": "stdout",
     "output_type": "stream",
     "text": [
      "Done\n"
     ]
    }
   ],
   "source": [
    "#Getting variables to calculate a few metrics that will help determine model effectiveness\n",
    "LSTMmodel.train(False)\n",
    "total_pred = []\n",
    "total_labels = []\n",
    "for idx, batch in enumerate(test_loader):\n",
    "    text, labels = batch[0].to(device), batch[1].to(device)\n",
    "    total_labels += labels\n",
    "    with torch.no_grad():\n",
    "        correct = 0\n",
    "        total = 0\n",
    "        outputs = LSTMmodel(text)\n",
    "        _, predicted = torch.max(outputs.data, 1)\n",
    "        total_pred += predicted\n",
    "        total += labels.size(0)\n",
    "        correct += (predicted == labels).sum()\n",
    "#Switching tensors back to cpu for analysis\n",
    "total_labels_cpu = [label.cpu() for label in total_labels]\n",
    "total_pred_cpu = [pred.cpu() for pred in total_pred]\n",
    "print('Done')"
   ]
  },
  {
   "cell_type": "code",
   "execution_count": 59,
   "id": "fa64b46c-5e94-43d0-b165-ebc09a64577a",
   "metadata": {},
   "outputs": [
    {
     "name": "stdout",
     "output_type": "stream",
     "text": [
      "Accuracy: 50.81966781616211\n",
      "F1-Score: 0.5196040159573411\n",
      "Precision: 0.5395759671718091\n",
      "Recall: 0.5342016078307428\n"
     ]
    }
   ],
   "source": [
    "#Calculating Scores\n",
    "accuracy = 100 * correct / total\n",
    "print(f'Accuracy: {accuracy}')\n",
    "#F1-Score is the harmonic mean of Precision and Recall\n",
    "f1 = f1_score(total_labels_cpu, total_pred_cpu, average='weighted')\n",
    "print(f'F1-Score: {f1}')\n",
    "#Precision is True positive over total predicted positive\n",
    "precision = precision_score(total_labels_cpu, total_pred_cpu, average='weighted')\n",
    "print(f'Precision: {precision}')\n",
    "#Recall is True positive over total actual positive\n",
    "recall = recall_score(total_labels_cpu, total_pred_cpu, average='weighted')\n",
    "print(f'Recall: {recall}')"
   ]
  },
  {
   "cell_type": "code",
   "execution_count": 14,
   "id": "1dba7d27-73d0-49d8-aef3-c3f914f4e52c",
   "metadata": {},
   "outputs": [],
   "source": [
    "#Run on primary computer\n",
    "\"\"\"torch.save(LSTMmodel, 'TwitterSentimentModel.pt')\"\"\"\n",
    "\n",
    "#Run on secondary computer\n",
    "MainModel = torch.load('TwitterSentimentModel.pt', map_location=torch.device('cpu'))"
   ]
  },
  {
   "cell_type": "code",
   "execution_count": 21,
   "id": "846ab932-4471-4c18-8aa2-a8ba02880db6",
   "metadata": {},
   "outputs": [],
   "source": [
    "#Transfer learning version of my sentiment analysis model using XLM-Roberta\n",
    "#What I need to do is use the transforms on the data, then make the functions to run the model using the data\n",
    "xlmr = torchtext.models.XLMR_BASE_ENCODER\n",
    "class_head = torchtext.models.RobertaClassificationHead(num_classes=2, input_dim = 768)\n",
    "TLearn_model = xlmr.get_model(head = class_head)\n",
    "transform = xlmr.transform()"
   ]
  },
  {
   "cell_type": "code",
   "execution_count": 22,
   "id": "158c1ead-2cc0-4bd4-a63e-7e0cea68c6ac",
   "metadata": {},
   "outputs": [
    {
     "data": {
      "text/plain": [
       "array([[1, 'username m follow post'],\n",
       "       [0, 'username username jealous yous liverpool'],\n",
       "       [0, 'username haha funny lonely school'],\n",
       "       ...,\n",
       "       [0, 'omg hot thunderstorm suppose cool'],\n",
       "       [1, 'username oh boyo'],\n",
       "       [1, 'username banner hang right remember ummm easy']], dtype=object)"
      ]
     },
     "execution_count": 22,
     "metadata": {},
     "output_type": "execute_result"
    }
   ],
   "source": [
    "preTrans_train_dset, preTrans_test_dset = TrainSentimentData, TestSentimentData\n",
    "#Turn pandas dataset into Numpy\n",
    "preTrans_train_dset = preTrans_train_dset.to_numpy()\n",
    "preTrans_test_dset = preTrans_test_dset.to_numpy()\n",
    "preTrans_train_dset"
   ]
  },
  {
   "cell_type": "code",
   "execution_count": 23,
   "id": "9feaa9a2-11b8-45bf-a013-da04a6dc07ee",
   "metadata": {},
   "outputs": [
    {
     "name": "stdout",
     "output_type": "stream",
     "text": [
      "[tensor([    0, 38937, 11627,   347, 28960,  1305,     2]), tensor([     0,  38937,  11627,  38937,  11627,     55,   7779,    223,    398,\n",
      "             7,      6, 134148,  20740,      2]), tensor([    0, 38937, 11627, 22010, 99864,   459,    86,   538, 10696,     2])]\n"
     ]
    }
   ],
   "source": [
    "#Split Data\n",
    "XpreTrans_train_dset, YLearn_train_dset = preTrans_train_dset[:,1], preTrans_train_dset[:,0]\n",
    "XpreTrans_test_dset, YLearn_test_dset = preTrans_test_dset[:,1], preTrans_test_dset[:,0]\n",
    "#Run Transforms on data\n",
    "XLearn_train_dset = [to_tensor(transform(row), padding_value=0) for row in XpreTrans_train_dset]\n",
    "XLearn_test_dset = [to_tensor(transform(row), padding_value=0) for row in XpreTrans_test_dset]\n",
    "print(XLearn_train_dset[0:3])"
   ]
  },
  {
   "cell_type": "code",
   "execution_count": 24,
   "id": "e739d49c-e11d-417f-b58a-a855cc8bd69f",
   "metadata": {},
   "outputs": [
    {
     "name": "stdout",
     "output_type": "stream",
     "text": [
      "Finished\n"
     ]
    }
   ],
   "source": [
    "#make the program to run the transfer model\n",
    "class TransferSentimentDataset(Dataset):\n",
    "    def __init__(self, X, y):\n",
    "        self.X = X\n",
    "        self.y = y\n",
    "        \n",
    "    def __len__(self):\n",
    "        return len(self.X)\n",
    "    \n",
    "    def __getitem__(self, idx):\n",
    "        return self.X[idx], self.y[idx]\n",
    "\n",
    "learn_train_dataset = TransferSentimentDataset(XLearn_train_dset, YLearn_train_dset)\n",
    "learn_test_dataset = TransferSentimentDataset(XLearn_test_dset, YLearn_test_dset)\n",
    "print('Finished')"
   ]
  },
  {
   "cell_type": "code",
   "execution_count": 26,
   "id": "a6fe629e-ee47-4a06-95a1-8706602bf82d",
   "metadata": {},
   "outputs": [
    {
     "ename": "RuntimeError",
     "evalue": "stack expects each tensor to be equal size, but got [11] at entry 0 and [9] at entry 1",
     "output_type": "error",
     "traceback": [
      "\u001b[1;31m---------------------------------------------------------------------------\u001b[0m",
      "\u001b[1;31mRuntimeError\u001b[0m                              Traceback (most recent call last)",
      "Cell \u001b[1;32mIn[26], line 9\u001b[0m\n\u001b[0;32m      6\u001b[0m learn_test_loader \u001b[38;5;241m=\u001b[39m DataLoader(dataset\u001b[38;5;241m=\u001b[39mlearn_test_dataset, batch_size\u001b[38;5;241m=\u001b[39mbatch_size, shuffle\u001b[38;5;241m=\u001b[39m\u001b[38;5;28;01mFalse\u001b[39;00m)\n\u001b[0;32m      8\u001b[0m \u001b[38;5;66;03m#Checking DataLoader object\u001b[39;00m\n\u001b[1;32m----> 9\u001b[0m \u001b[38;5;28;01mfor\u001b[39;00m _, batch \u001b[38;5;129;01min\u001b[39;00m \u001b[38;5;28menumerate\u001b[39m(learn_train_loader):\n\u001b[0;32m     10\u001b[0m     \u001b[38;5;66;03m#This will also be a test to see if device is working\u001b[39;00m\n\u001b[0;32m     11\u001b[0m     \u001b[38;5;66;03m#Re-add '.to(device)' later to batch[0] and [1]\u001b[39;00m\n\u001b[0;32m     12\u001b[0m     x_batch, y_batch \u001b[38;5;241m=\u001b[39m batch[\u001b[38;5;241m0\u001b[39m], batch[\u001b[38;5;241m1\u001b[39m]\n\u001b[0;32m     13\u001b[0m     \u001b[38;5;28mprint\u001b[39m(x_batch[\u001b[38;5;241m0\u001b[39m])\n",
      "File \u001b[1;32m~\\anaconda3\\Lib\\site-packages\\torch\\utils\\data\\dataloader.py:631\u001b[0m, in \u001b[0;36m_BaseDataLoaderIter.__next__\u001b[1;34m(self)\u001b[0m\n\u001b[0;32m    628\u001b[0m \u001b[38;5;28;01mif\u001b[39;00m \u001b[38;5;28mself\u001b[39m\u001b[38;5;241m.\u001b[39m_sampler_iter \u001b[38;5;129;01mis\u001b[39;00m \u001b[38;5;28;01mNone\u001b[39;00m:\n\u001b[0;32m    629\u001b[0m     \u001b[38;5;66;03m# TODO(https://github.com/pytorch/pytorch/issues/76750)\u001b[39;00m\n\u001b[0;32m    630\u001b[0m     \u001b[38;5;28mself\u001b[39m\u001b[38;5;241m.\u001b[39m_reset()  \u001b[38;5;66;03m# type: ignore[call-arg]\u001b[39;00m\n\u001b[1;32m--> 631\u001b[0m data \u001b[38;5;241m=\u001b[39m \u001b[38;5;28mself\u001b[39m\u001b[38;5;241m.\u001b[39m_next_data()\n\u001b[0;32m    632\u001b[0m \u001b[38;5;28mself\u001b[39m\u001b[38;5;241m.\u001b[39m_num_yielded \u001b[38;5;241m+\u001b[39m\u001b[38;5;241m=\u001b[39m \u001b[38;5;241m1\u001b[39m\n\u001b[0;32m    633\u001b[0m \u001b[38;5;28;01mif\u001b[39;00m \u001b[38;5;28mself\u001b[39m\u001b[38;5;241m.\u001b[39m_dataset_kind \u001b[38;5;241m==\u001b[39m _DatasetKind\u001b[38;5;241m.\u001b[39mIterable \u001b[38;5;129;01mand\u001b[39;00m \\\n\u001b[0;32m    634\u001b[0m         \u001b[38;5;28mself\u001b[39m\u001b[38;5;241m.\u001b[39m_IterableDataset_len_called \u001b[38;5;129;01mis\u001b[39;00m \u001b[38;5;129;01mnot\u001b[39;00m \u001b[38;5;28;01mNone\u001b[39;00m \u001b[38;5;129;01mand\u001b[39;00m \\\n\u001b[0;32m    635\u001b[0m         \u001b[38;5;28mself\u001b[39m\u001b[38;5;241m.\u001b[39m_num_yielded \u001b[38;5;241m>\u001b[39m \u001b[38;5;28mself\u001b[39m\u001b[38;5;241m.\u001b[39m_IterableDataset_len_called:\n",
      "File \u001b[1;32m~\\anaconda3\\Lib\\site-packages\\torch\\utils\\data\\dataloader.py:675\u001b[0m, in \u001b[0;36m_SingleProcessDataLoaderIter._next_data\u001b[1;34m(self)\u001b[0m\n\u001b[0;32m    673\u001b[0m \u001b[38;5;28;01mdef\u001b[39;00m \u001b[38;5;21m_next_data\u001b[39m(\u001b[38;5;28mself\u001b[39m):\n\u001b[0;32m    674\u001b[0m     index \u001b[38;5;241m=\u001b[39m \u001b[38;5;28mself\u001b[39m\u001b[38;5;241m.\u001b[39m_next_index()  \u001b[38;5;66;03m# may raise StopIteration\u001b[39;00m\n\u001b[1;32m--> 675\u001b[0m     data \u001b[38;5;241m=\u001b[39m \u001b[38;5;28mself\u001b[39m\u001b[38;5;241m.\u001b[39m_dataset_fetcher\u001b[38;5;241m.\u001b[39mfetch(index)  \u001b[38;5;66;03m# may raise StopIteration\u001b[39;00m\n\u001b[0;32m    676\u001b[0m     \u001b[38;5;28;01mif\u001b[39;00m \u001b[38;5;28mself\u001b[39m\u001b[38;5;241m.\u001b[39m_pin_memory:\n\u001b[0;32m    677\u001b[0m         data \u001b[38;5;241m=\u001b[39m _utils\u001b[38;5;241m.\u001b[39mpin_memory\u001b[38;5;241m.\u001b[39mpin_memory(data, \u001b[38;5;28mself\u001b[39m\u001b[38;5;241m.\u001b[39m_pin_memory_device)\n",
      "File \u001b[1;32m~\\anaconda3\\Lib\\site-packages\\torch\\utils\\data\\_utils\\fetch.py:54\u001b[0m, in \u001b[0;36m_MapDatasetFetcher.fetch\u001b[1;34m(self, possibly_batched_index)\u001b[0m\n\u001b[0;32m     52\u001b[0m \u001b[38;5;28;01melse\u001b[39;00m:\n\u001b[0;32m     53\u001b[0m     data \u001b[38;5;241m=\u001b[39m \u001b[38;5;28mself\u001b[39m\u001b[38;5;241m.\u001b[39mdataset[possibly_batched_index]\n\u001b[1;32m---> 54\u001b[0m \u001b[38;5;28;01mreturn\u001b[39;00m \u001b[38;5;28mself\u001b[39m\u001b[38;5;241m.\u001b[39mcollate_fn(data)\n",
      "File \u001b[1;32m~\\anaconda3\\Lib\\site-packages\\torch\\utils\\data\\_utils\\collate.py:277\u001b[0m, in \u001b[0;36mdefault_collate\u001b[1;34m(batch)\u001b[0m\n\u001b[0;32m    216\u001b[0m \u001b[38;5;28;01mdef\u001b[39;00m \u001b[38;5;21mdefault_collate\u001b[39m(batch):\n\u001b[0;32m    217\u001b[0m \u001b[38;5;250m    \u001b[39m\u001b[38;5;124mr\u001b[39m\u001b[38;5;124;03m\"\"\"\u001b[39;00m\n\u001b[0;32m    218\u001b[0m \u001b[38;5;124;03m    Take in a batch of data and put the elements within the batch into a tensor with an additional outer dimension - batch size.\u001b[39;00m\n\u001b[0;32m    219\u001b[0m \n\u001b[1;32m   (...)\u001b[0m\n\u001b[0;32m    275\u001b[0m \u001b[38;5;124;03m        >>> default_collate(batch)  # Handle `CustomType` automatically\u001b[39;00m\n\u001b[0;32m    276\u001b[0m \u001b[38;5;124;03m    \"\"\"\u001b[39;00m\n\u001b[1;32m--> 277\u001b[0m     \u001b[38;5;28;01mreturn\u001b[39;00m collate(batch, collate_fn_map\u001b[38;5;241m=\u001b[39mdefault_collate_fn_map)\n",
      "File \u001b[1;32m~\\anaconda3\\Lib\\site-packages\\torch\\utils\\data\\_utils\\collate.py:144\u001b[0m, in \u001b[0;36mcollate\u001b[1;34m(batch, collate_fn_map)\u001b[0m\n\u001b[0;32m    141\u001b[0m transposed \u001b[38;5;241m=\u001b[39m \u001b[38;5;28mlist\u001b[39m(\u001b[38;5;28mzip\u001b[39m(\u001b[38;5;241m*\u001b[39mbatch))  \u001b[38;5;66;03m# It may be accessed twice, so we use a list.\u001b[39;00m\n\u001b[0;32m    143\u001b[0m \u001b[38;5;28;01mif\u001b[39;00m \u001b[38;5;28misinstance\u001b[39m(elem, \u001b[38;5;28mtuple\u001b[39m):\n\u001b[1;32m--> 144\u001b[0m     \u001b[38;5;28;01mreturn\u001b[39;00m [collate(samples, collate_fn_map\u001b[38;5;241m=\u001b[39mcollate_fn_map) \u001b[38;5;28;01mfor\u001b[39;00m samples \u001b[38;5;129;01min\u001b[39;00m transposed]  \u001b[38;5;66;03m# Backwards compatibility.\u001b[39;00m\n\u001b[0;32m    145\u001b[0m \u001b[38;5;28;01melse\u001b[39;00m:\n\u001b[0;32m    146\u001b[0m     \u001b[38;5;28;01mtry\u001b[39;00m:\n",
      "File \u001b[1;32m~\\anaconda3\\Lib\\site-packages\\torch\\utils\\data\\_utils\\collate.py:144\u001b[0m, in \u001b[0;36m<listcomp>\u001b[1;34m(.0)\u001b[0m\n\u001b[0;32m    141\u001b[0m transposed \u001b[38;5;241m=\u001b[39m \u001b[38;5;28mlist\u001b[39m(\u001b[38;5;28mzip\u001b[39m(\u001b[38;5;241m*\u001b[39mbatch))  \u001b[38;5;66;03m# It may be accessed twice, so we use a list.\u001b[39;00m\n\u001b[0;32m    143\u001b[0m \u001b[38;5;28;01mif\u001b[39;00m \u001b[38;5;28misinstance\u001b[39m(elem, \u001b[38;5;28mtuple\u001b[39m):\n\u001b[1;32m--> 144\u001b[0m     \u001b[38;5;28;01mreturn\u001b[39;00m [collate(samples, collate_fn_map\u001b[38;5;241m=\u001b[39mcollate_fn_map) \u001b[38;5;28;01mfor\u001b[39;00m samples \u001b[38;5;129;01min\u001b[39;00m transposed]  \u001b[38;5;66;03m# Backwards compatibility.\u001b[39;00m\n\u001b[0;32m    145\u001b[0m \u001b[38;5;28;01melse\u001b[39;00m:\n\u001b[0;32m    146\u001b[0m     \u001b[38;5;28;01mtry\u001b[39;00m:\n",
      "File \u001b[1;32m~\\anaconda3\\Lib\\site-packages\\torch\\utils\\data\\_utils\\collate.py:121\u001b[0m, in \u001b[0;36mcollate\u001b[1;34m(batch, collate_fn_map)\u001b[0m\n\u001b[0;32m    119\u001b[0m \u001b[38;5;28;01mif\u001b[39;00m collate_fn_map \u001b[38;5;129;01mis\u001b[39;00m \u001b[38;5;129;01mnot\u001b[39;00m \u001b[38;5;28;01mNone\u001b[39;00m:\n\u001b[0;32m    120\u001b[0m     \u001b[38;5;28;01mif\u001b[39;00m elem_type \u001b[38;5;129;01min\u001b[39;00m collate_fn_map:\n\u001b[1;32m--> 121\u001b[0m         \u001b[38;5;28;01mreturn\u001b[39;00m collate_fn_map[elem_type](batch, collate_fn_map\u001b[38;5;241m=\u001b[39mcollate_fn_map)\n\u001b[0;32m    123\u001b[0m     \u001b[38;5;28;01mfor\u001b[39;00m collate_type \u001b[38;5;129;01min\u001b[39;00m collate_fn_map:\n\u001b[0;32m    124\u001b[0m         \u001b[38;5;28;01mif\u001b[39;00m \u001b[38;5;28misinstance\u001b[39m(elem, collate_type):\n",
      "File \u001b[1;32m~\\anaconda3\\Lib\\site-packages\\torch\\utils\\data\\_utils\\collate.py:174\u001b[0m, in \u001b[0;36mcollate_tensor_fn\u001b[1;34m(batch, collate_fn_map)\u001b[0m\n\u001b[0;32m    172\u001b[0m     storage \u001b[38;5;241m=\u001b[39m elem\u001b[38;5;241m.\u001b[39m_typed_storage()\u001b[38;5;241m.\u001b[39m_new_shared(numel, device\u001b[38;5;241m=\u001b[39melem\u001b[38;5;241m.\u001b[39mdevice)\n\u001b[0;32m    173\u001b[0m     out \u001b[38;5;241m=\u001b[39m elem\u001b[38;5;241m.\u001b[39mnew(storage)\u001b[38;5;241m.\u001b[39mresize_(\u001b[38;5;28mlen\u001b[39m(batch), \u001b[38;5;241m*\u001b[39m\u001b[38;5;28mlist\u001b[39m(elem\u001b[38;5;241m.\u001b[39msize()))\n\u001b[1;32m--> 174\u001b[0m \u001b[38;5;28;01mreturn\u001b[39;00m torch\u001b[38;5;241m.\u001b[39mstack(batch, \u001b[38;5;241m0\u001b[39m, out\u001b[38;5;241m=\u001b[39mout)\n",
      "\u001b[1;31mRuntimeError\u001b[0m: stack expects each tensor to be equal size, but got [11] at entry 0 and [9] at entry 1"
     ]
    }
   ],
   "source": [
    "#Turn data into DataLoaders\n",
    "batch_size = 100\n",
    "n_iters = 38400\n",
    "num_epochs = int(n_iters / (len(learn_train_dataset) / batch_size))\n",
    "learn_train_loader = DataLoader(dataset=learn_train_dataset, batch_size=batch_size, shuffle=True)\n",
    "learn_test_loader = DataLoader(dataset=learn_test_dataset, batch_size=batch_size, shuffle=False)\n",
    "\n",
    "#Checking DataLoader object, looks like I'll need to pad my data before pushing it through\n",
    "for _, batch in enumerate(learn_train_loader):\n",
    "    #This will also be a test to see if device is working\n",
    "    #Re-add '.to(device)' later to batch[0] and [1]\n",
    "    x_batch, y_batch = batch[0], batch[1]\n",
    "    print(x_batch[0])\n",
    "    print(x_batch.shape, y_batch.shape)\n",
    "    break"
   ]
  }
 ],
 "metadata": {
  "kernelspec": {
   "display_name": "Python 3 (ipykernel)",
   "language": "python",
   "name": "python3"
  },
  "language_info": {
   "codemirror_mode": {
    "name": "ipython",
    "version": 3
   },
   "file_extension": ".py",
   "mimetype": "text/x-python",
   "name": "python",
   "nbconvert_exporter": "python",
   "pygments_lexer": "ipython3",
   "version": "3.12.2"
  }
 },
 "nbformat": 4,
 "nbformat_minor": 5
}
