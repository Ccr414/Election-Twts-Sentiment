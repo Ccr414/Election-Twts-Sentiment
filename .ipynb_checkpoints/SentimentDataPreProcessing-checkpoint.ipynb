{
 "cells": [
  {
   "cell_type": "code",
   "execution_count": 3,
   "id": "2b8b62ee-0255-45d8-bebb-3761cef5b2f4",
   "metadata": {},
   "outputs": [],
   "source": [
    "import pandas as pd\n",
    "import numpy as np\n",
    "import matplotlib.pyplot as plt\n",
    "import os"
   ]
  },
  {
   "cell_type": "code",
   "execution_count": 41,
   "id": "432a808c-6053-4924-bf86-07ce10b76842",
   "metadata": {},
   "outputs": [
    {
     "name": "stderr",
     "output_type": "stream",
     "text": [
      "C:\\Users\\chris\\AppData\\Local\\Temp\\ipykernel_13280\\3038022140.py:5: DtypeWarning: Columns (2,7) have mixed types. Specify dtype option on import or set low_memory=False.\n",
      "  Biden2020Twts = pd.read_csv('data/2020BidenTwts.csv', usecols=[2,7])\n"
     ]
    },
    {
     "name": "stdout",
     "output_type": "stream",
     "text": [
      "                                               tweet           user_name\n",
      "0  #Elecciones2020 | En #Florida: #JoeBiden dice ...  El Sol Latino News\n",
      "1  #HunterBiden #HunterBidenEmails #JoeBiden #Joe...         Cheri A. 🇺🇸\n",
      "2  @IslandGirlPRV @BradBeauregardJ @MeidasTouch T...          Flag Waver\n",
      "                                               tweet           user_name\n",
      "0  #Elecciones2020 | En #Florida: #JoeBiden dice ...  El Sol Latino News\n",
      "1  Usa 2020, Trump contro Facebook e Twitter: cop...             Tgcom24\n",
      "2  #Trump: As a student I used to hear for years,...              snarke\n",
      "      id  candidate_id lang                                         tweet_text\n",
      "0  57486             3   tr  Ne farkınız var DAIŞ, El-Kaide, El Nusra, YPG ...\n",
      "1  57536             3   en  @BarackObama the way you showed up in Louisian...\n",
      "2  57586             3   en  White house not taking tax avoid seriously! Ap...\n",
      "   Sentiment          ID             User  \\\n",
      "0          0  1467810369  _TheSpecialOne_   \n",
      "1          0  1467810672    scotthamilton   \n",
      "2          0  1467810917         mattycus   \n",
      "\n",
      "                                                Text  \n",
      "0  @switchfoot http://twitpic.com/2y1zl - Awww, t...  \n",
      "1  is upset that he can't update his Facebook by ...  \n",
      "2  @Kenichan I dived many times for the ball. Man...  \n"
     ]
    }
   ],
   "source": [
    "#Data Loading\n",
    "col_names = ['Sentiment', 'ID', 'User', 'Text']\n",
    "SentimentTwtData = pd.read_csv('data/SentimentTwtTrain.csv', usecols=[0,1,4,5], encoding='latin1', names=col_names)\n",
    "ElectionTwts2016 = pd.read_csv('data/2016ElectionTwts.csv', usecols=[0,1,9,11])\n",
    "Biden2020Twts = pd.read_csv('data/2020BidenTwts.csv', usecols=[2,7])\n",
    "Trump2020Twts = pd.read_csv('data/2020TrumpTwts.csv', usecols=[2,7])\n",
    "for dset in [Biden2020Twts, Trump2020Twts]:\n",
    "    dset.dropna(subset=['tweet'], inplace=True)\n",
    "    print(dset.head(3))\n",
    "ElectionTwts2016.dropna(subset=['tweet_text'], inplace=True)\n",
    "print(ElectionTwts2016.head(3))\n",
    "SentimentTwtData.dropna(subset=['Text'], inplace=True)\n",
    "print(SentimentTwtData.head(3))"
   ]
  },
  {
   "cell_type": "code",
   "execution_count": 42,
   "id": "460a8e00-e64e-49c0-8138-683b3db115c0",
   "metadata": {},
   "outputs": [
    {
     "name": "stdout",
     "output_type": "stream",
     "text": [
      "  Candidate                                              tweet\n",
      "0     Biden  #Elecciones2020 | En #Florida: #JoeBiden dice ...\n",
      "1     Biden  #HunterBiden #HunterBidenEmails #JoeBiden #Joe...\n",
      "2     Biden  @IslandGirlPRV @BradBeauregardJ @MeidasTouch T...\n",
      "3     Biden  @chrislongview Watching and setting dvr. Let’s...\n",
      "4     Biden  #censorship #HunterBiden #Biden #BidenEmails #...\n",
      "5     Biden  \"IS THIS WRONG??!!\" Cory Booker's BRILLIANT Fi...\n",
      "6     Biden  In 2020, #NYPost is being #censorship #CENSORE...\n",
      "7     Biden  ►► Tell Politicians to STICK IT with this FREE...\n",
      "8     Biden                     #Biden https://t.co/qMs0PmUev5\n",
      "9     Biden  Proof  Bidens are crooked. Twitter will suspen...\n"
     ]
    }
   ],
   "source": [
    "#This line of code is combining the two datasets together and turning the row indicies into either Biden or Trump\n",
    "Combined2020Twts = pd.concat([Biden2020Twts, Trump2020Twts], keys=['Biden', 'Trump'])\n",
    "#This turns those indicies we created into a new column, the level=0 is for which set of indicies we are pulling out\n",
    "Combined2020Twts.reset_index(level=0, inplace=True)\n",
    "Combined2020Twts.rename(columns={'level_0': 'Candidate'}, inplace=True)\n",
    "Combined2020Twts.drop_duplicates(subset=['tweet'])\n",
    "Combined2020Twts.drop(['user_name'], axis=1, inplace=True)\n",
    "print(Combined2020Twts.head())"
   ]
  },
  {
   "cell_type": "code",
   "execution_count": 43,
   "id": "c288161f-536a-4874-be15-9a7934527202",
   "metadata": {},
   "outputs": [
    {
     "name": "stdout",
     "output_type": "stream",
     "text": [
      "   candidate_id                                         tweet_text\n",
      "0             3  Ne farkınız var DAIŞ, El-Kaide, El Nusra, YPG ...\n",
      "1             3  @BarackObama the way you showed up in Louisian...\n",
      "2             3  White house not taking tax avoid seriously! Ap...\n",
      "3             2  politico: .realDonaldTrump, HillaryClinton ple...\n",
      "4             1  She's over due by 250 days. https://t.co/IfOO9...\n",
      "   Sentiment                                               Text\n",
      "0          0  @switchfoot http://twitpic.com/2y1zl - Awww, t...\n",
      "1          0  is upset that he can't update his Facebook by ...\n",
      "2          0  @Kenichan I dived many times for the ball. Man...\n",
      "3          0    my whole body feels itchy and like its on fire \n",
      "4          0  @nationwideclass no, it's not behaving at all....\n"
     ]
    }
   ],
   "source": [
    "#Drop a few more unnecessary data points\n",
    "ElectionTwts2016.drop(['id','lang'], axis=1, inplace=True)\n",
    "SentimentTwtData.drop(['ID','User'], axis=1, inplace=True)\n",
    "print(ElectionTwts2016.head())\n",
    "print(SentimentTwtData.head())"
   ]
  },
  {
   "cell_type": "code",
   "execution_count": 45,
   "id": "577fc287-f10c-4eb4-bb03-1df74967e350",
   "metadata": {},
   "outputs": [],
   "source": [
    "#Saving the files\n",
    "file_path = os.path.join('data', 'Combined2020Twts.csv')\n",
    "Combined2020Twts.to_csv(file_path, index=False)\n",
    "\n",
    "file_path = os.path.join('data', 'CleanElectionTwts2016.csv')\n",
    "ElectionTwts2016.to_csv(file_path, index=False)\n",
    "\n",
    "file_path = os.path.join('data', 'CleanSentimentTwtData.csv')\n",
    "SentimentTwtData.to_csv(file_path, index=False)"
   ]
  }
 ],
 "metadata": {
  "kernelspec": {
   "display_name": "Python 3 (ipykernel)",
   "language": "python",
   "name": "python3"
  },
  "language_info": {
   "codemirror_mode": {
    "name": "ipython",
    "version": 3
   },
   "file_extension": ".py",
   "mimetype": "text/x-python",
   "name": "python",
   "nbconvert_exporter": "python",
   "pygments_lexer": "ipython3",
   "version": "3.11.3"
  }
 },
 "nbformat": 4,
 "nbformat_minor": 5
}
